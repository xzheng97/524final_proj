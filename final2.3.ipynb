{
 "cells": [
  {
   "cell_type": "markdown",
   "metadata": {},
   "source": [
    "### 2.3 Penalized Optimization"
   ]
  },
  {
   "cell_type": "markdown",
   "metadata": {},
   "source": [
    "Penalized optimization, also known as regularized optimization, intends to constrain the total norm of weights in our portfolio selection. This is acually a multivariate regression approach that we first thought about and later also found research paper saying that it performs well. Besides, it is easy to notice that $l_1-norm$ limits negative weights, or short sales in other words. This kind of limit on total shorting is reasonable and closer to actual investor behavior since this would introduce much higher risk for the portfolio.\n",
    "\n",
    "There are many different penalty functions on weights, and each one would result in different properties in the final porfolio selection. Among all penalties, the most popular one is the $l_1-norm$, which we have covered in class, and we are expected to see sparsity in our weighting factors.\n",
    "\n",
    "In order to apply L1 regularization, we begin by modifying our objective function in previous models.<br>\n",
    "Recalling that $\\Sigma = E[r_tr_t] - \\mu\\mu^T$, and the objective function $w^T\\Sigma w$, we can simply rewrite the objective as $$E[(w^T\\mu - w^Tr_t)^2]$$And since we have the constraint function $w^T\\mu \\ge \\mu_b$ ($\\mu_b$ is set to be the target return). We can test on different target return and set $r_*$ be the highest target return we can get, i.e.$ w^T\\mu = r_*$.\n",
    "Therefore, the objective function is now $$E[(r_*-w^Tr_t)^2]$$\n",
    "Replacing the expectation with computed average from the sample data that we have collected over time, the objective function is $${1\\over T} \\sum_{t}^{T} (r_* - w^Tr_t)^2$$ where $r_t \\in R^N$ represents N assets' return between time t-1 and t.\n",
    "\n",
    "In addtion to the modified objective functinon from MPT model, we also introduce $l_1$ penalty to it: $||w||_1 = \\sum_{i}^{N}|w_i|$ along with a tuning paramter $\\tau$. Now we have built up our optimization problem as \n",
    "\\begin{equation}\n",
    "\\begin{aligned}\n",
    "& \\underset{w}{\\text{minimize}}\n",
    "& & \\sum_{t}^{T} (r_* - w^Tr_t)^2 + \\tau||w||_1 \\\\\n",
    "& \\text{s.t.} & & m^Tw = r_* \\\\\n",
    "& & &  e^Tw = 1 \\\\\n",
    "\\end{aligned}\n",
    "\\end{equation}\n",
    "Here, for simplicity of our formula, the tuning parameter $\\tau$ also incorporates $1\\over T$ within it."
   ]
  },
  {
   "cell_type": "code",
   "execution_count": null,
   "metadata": {},
   "outputs": [],
   "source": []
  }
 ],
 "metadata": {
  "kernelspec": {
   "display_name": "Julia 1.1.0",
   "language": "julia",
   "name": "julia-1.1"
  },
  "language_info": {
   "file_extension": ".jl",
   "mimetype": "application/julia",
   "name": "julia",
   "version": "1.1.0"
  }
 },
 "nbformat": 4,
 "nbformat_minor": 2
}
