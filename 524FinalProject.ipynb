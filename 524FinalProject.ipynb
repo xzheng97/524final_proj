{
 "cells": [
  {
   "cell_type": "markdown",
   "metadata": {},
   "source": [
    "### CS/ECE/ISyE 524 &mdash; Introduction to Optimization &mdash; Spring 2019 ###\n",
    "\n",
    "# Optimal Profile Assignment #\n",
    "\n",
    "#### Zeming Li, Haoyi Lu,  Xianjie Zheng\n",
    "[zli653, hlu72, xzheng97]@wisc.edu\n",
    "\n",
    "*****\n",
    "\n",
    "### Table of Contents\n",
    "\n",
    "1. [Introduction](#1.-Introduction)\n",
    "1. [Mathematical Model](#2.-Mathematical-model)\n",
    "1. [Solution](#3.-Solution)\n",
    "1. [Results and Discussion](#4.-Results-and-discussion)\n",
    "  1. [Optional Subsection](#4.A.-Feel-free-to-add-subsections)\n",
    "1. [Conclusion](#5.-Conclusion)"
   ]
  },
  {
   "cell_type": "markdown",
   "metadata": {},
   "source": []
  },
  {
   "cell_type": "markdown",
   "metadata": {
    "collapsed": true
   },
   "source": [
    "## 1. Introduction ##\n",
    "\n",
    "The first few sentences should give a quick overview of the entire project. Then, elaborate with a description of the problem that will be solved, a brief history (with [citations](https://en.wikipedia.org/wiki/Citation) where appropriate) of how the problem came about, why it's important/interesting, and any other interesting facts you'd like to talk about. You should address and explain where the problem data is coming from (research? the internet? synthetically generated? something you have collected personally, or by surveying your friends?) Also give an outline of the rest of the report.\n",
    "\n",
    "This section should be 300-600 words long, and **should be accessible to a general audience** (don't assume your reader has taken the class!). Although you should include references, you should also make sure that it is possible to understand the main ideas of the project and the context without clicking on any of the links or reading any of the references. Feel free to include images if you think it'll be helpful:\n",
    "\n",
    "![fixit flowchart][flow]\n",
    "\n",
    "For more help on using Markdown, see [this reference](https://github.com/adam-p/markdown-here/wiki/Markdown-Cheatsheet).\n",
    "\n",
    "[flow]: https://s-media-cache-ak0.pinimg.com/736x/f5/75/c5/f575c53b93724808c6f0211890a54900.jpg"
   ]
  },
  {
   "cell_type": "markdown",
   "metadata": {
    "collapsed": true
   },
   "source": [
    "## 2. Mathematical model ##"
   ]
  },
  {
   "cell_type": "markdown",
   "metadata": {},
   "source": [
    "### 2.1 Markowitz Mean- Variance Portfolio Theory###\n",
    "Markowitz Mean- Variance Portfolio Theory, also known as **MPT**(Modern Portfolio Theory), was first introduced by Economist Harry Markowitz in a 1952 paper, which let him won a Nobel Prize in Economics later. The model aims to assemble a portfolio of assets such that the risk level is minimized while still maintaining at a certain amount of baseline return, where the risk is measured by the variance of asset prices. The key idea behind the model is that an asset's risk and return should not be determined by its own but its contribution towards the overall risk and return as the whole portfolio.\n",
    "#### Assumptions####\n",
    "Here we list the assumptions that MPT makes about the market and the investors.\n",
    "1. investors are identical: they are risk-averse and rational\n",
    "2. investors decide solely on their expected returns and risk\n",
    "3. asset returns stay the same over time\n",
    "4. investors have information about all the asset price that they consider for investment, and  they are allowed to update their porfolio instantly without any additional cost\n",
    "5. asset price are not affected by investors' choices\n",
    "6. any size of trades can be made on all asets\n",
    "7. investors spend all their money into their portfolio\n",
    "8. investors can take short positions on assets #TODO\n",
    "\n",
    "#### Portfolio Return Rates####\n",
    "If we bought an asset with $x_0$ dollars on one day and then sell it for $x_1$ dollars, then the ratio $R = {x_1 \\over x_0}$ represents the **return** on the asset. And the **rate of return** is denoted as $r = {{x_1 - x_0} \\over x_0} = R - 1$. <br><br>\n",
    "Now consider we invest n assets at the begining with $x_0$ dollars. For each asset $i$, we assign $w_ix_0$ to it, where $w_i$ is the weighting factor to asset $i$. Since the weighting factor would sum to 1, we have the constraint\n",
    "$$\\sum_{i = 1}^{n} w_ix_0 = x_0 $$\n",
    "Let $R_i$ represents the return on asset i, then the total return that we can gain from the portfolio is\n",
    "$$ x_1 = \\sum_{i = 1}^{n} R_iw_ix_0 = x_0 \\sum_{i = 1}^{n}R_iw_i$$\n",
    "Let $r_i$ represents the rate of return on asset i, then the rate of return of our portfolio is\n",
    "$$r = R - 1 = {{x_0 \\sum_{i = 1}^{n}R_iw_i} \\over x_0} - 1= \\sum_{i = 1}^{n}R_iw_i - \\sum_{i = 1}^{n}w_i =\\sum_{i = 1}^{n}(R_i-1)w_i = \\sum_{i = 1}^{n} r_iw_i $$\n",
    "#### Basic Model####\n",
    "Let $z = \\begin{bmatrix} r_1\\\\ r_2\\\\...\\\\r_n\\end{bmatrix}$. We denote the **expected return** for asset i by $\\mu_i = E[r_i],m = (\\mu_1,\\mu_2,...,\\mu_n)^T$and the **(true) covariances** of asset returns as $\\Sigma = E[(z-\\mu)(z-\\mu)^T]$.<br><br>\n",
    "Since $r_i$ is described as random variables in the MPT model, the rate of return of our portfolio $r = \\sum_{i = 1}^{n} r_iw_i $ is also a random variable with mean $m^Tw$ and variance $w^T\\Sigma w$. If $\\mu_b$ is set to be the baseline return for our portfolio, then the MPT model can be built as a quadratic program:\n",
    "\\begin{equation}\n",
    "\\begin{aligned}\n",
    "& \\underset{x,y,z}{\\text{minimize}}\n",
    "& & w^T\\Sigma w \\\\\n",
    "& \\text{s.t.} & & w^T\\Sigma w \\ge \\mu_b \\\\\n",
    "& & &  e^Tw = 1 \\\\\n",
    "\\end{aligned}\n",
    "\\end{equation}\n",
    "where $e$ is a vector of ones\n"
   ]
  },
  {
   "cell_type": "markdown",
   "metadata": {},
   "source": [
    "### 2.2 Improve MTP from two aspects"
   ]
  },
  {
   "cell_type": "markdown",
   "metadata": {},
   "source": [
    "### 2.2.1 Robust Estimation improvement"
   ]
  },
  {
   "cell_type": "markdown",
   "metadata": {},
   "source": [
    "<p>In the traditional MTP, it needs two estimates variables: estimates of expected returns and estimates of covariace of those returns. The way that traditional MTP uses to estimates those two variables is using the average monthly returns of the given period of time. In formula, $\\mu = \\frac{1}{T}\\sum\\limits_{t=1}^T \\mathbf{r_t}$ and $\\Sigma =  \\frac{1}{T}\\sum\\limits_{t=1}^T[\\mathbf{r_t}\\mathbf{r_t}^\\intercal] - \\mu\\mu^\\intercal$, where $\\mathbf{r_t}$ is the vector of all assests' returns between time t and t-1. </p>\n",
    "<p>    By analyzing the estimation methods, we found that they are very sensitive to $\\mathbf{r_t}$, thus any extreme returns in any month would have huge impact on our estimation of the expected return. So in our second model, we want to improve the traditional MTP model by using other ways of estimation for expected returns and covariance matrix.</p>\n",
    "1. How to improve $\\mu$<br>\n",
    "Instead of using mean of monthly returns $\\mu = \\frac{1}{T}\\sum\\limits_{t=1}^T \\mathbf{r_t}$ to estimate expected return, we have two ways to improve out estimation.\n",
    "    * We can jettison the h% extreme values and calculate the mean after discarding those values.\n",
    "    * We can replace the h% extreme values by the next h% extreme values and calculate the mean.\n",
    "<br>    \n",
    "2. How to improve $\\Sigma$ <br>\n",
    "There are three disadvantages for the traditional estimation of covariance matrix: \n",
    "    1. it is very sensitive to the extreme value of $\\mathbf{r_t}$, \n",
    "    2. If we want to add a new stock into our list, we need to update the stock's variance and covariance with every other stocks in out list which is very computational. \n",
    "    3. The time period of original model requires at least n months. In the contrast, if we can use some other methods like linear estimation then we can run our model with data in more than two months.\n",
    "\n",
    "<br>\n",
    "To reduce the workload of computing covariance matrix and get a more precise estimation. We will build a relationship between each stock with the market index. We will use $r_m$ to denote the market return. Then for every $r_i$, it can be expressed as $r_i = r_m + \\tilde{\\mathcal r_i}$ where $\\tilde{\\mathcal r_i}$ represents the excess return beyond the market. We assume there is a linear relationship between every stocks' excess returns and the market return, which is\n",
    "$$ \\tilde{\\mathcal r_{i,t}} = \\alpha_i + \\beta_i r_{m,t} + \\epsilon_{i,t} \\text{ for i = 1,...,N and t = 1,...,T}$$\n",
    "In this formula, we need to estimate $\\alpha_i$ and $\\beta_i$ for each stock thus we only need 2N variables to estimate and it is much less than the model in part 2.1. $\\epsilon_{i,t}$ is error term with $\\mathbf{E}[\\epsilon_i] = 0$ and Cov[$\\epsilon_i, \\epsilon_j$]=0,$\\forall j \\ne i$.<br>\n",
    "To solve the OLS estimates, we will use ClpSolver to get the estimates of $\\alpha_i$ and $\\beta_i$ for each stock i.<br>\n",
    "After we get the OLS estimates for each stock, we can have two formulas for estimates stock's variance and covariance between two stocks:\n",
    "$$Var[\\tilde{\\mathcal r_i}] = {\\beta_i}^2{\\sigma_m}^2 + {\\sigma_{\\epsilon_i}}^2$$,\n",
    "$$ Cov[\\tilde{\\mathcal r_i}, \\tilde{\\mathcal r_j}] = {\\beta_i}{\\beta_j}{\\sigma_m}^2$$\n",
    "where ${\\sigma_m} = Var[r_m]$. Thus, by adding a bias-correction term, we can get our estimated covariance matrix, which is:\n",
    "$$ \\boldsymbol{\\Sigma} = \\boldsymbol{\\beta}\\boldsymbol{\\beta}^\\intercal {\\sigma_m}^2 + \\frac{T-1}{T-2}\\boldsymbol{\\Sigma_{\\epsilon}} $$\n",
    "where $\\boldsymbol{\\beta}$ is the length-N vector of $\\beta$'s from the regression and $\\boldsymbol{\\Sigma_{\\epsilon}}$ is the N by N diagonal matrix with regression errors."
   ]
  },
  {
   "cell_type": "code",
   "execution_count": null,
   "metadata": {},
   "outputs": [],
   "source": [
    "##"
   ]
  },
  {
   "cell_type": "markdown",
   "metadata": {
    "collapsed": true
   },
   "source": [
    "## 3. Solution ##\n",
    "\n",
    "Here, you should code up your model in Julia + JuMP and solve it. Your code should be clean, easy to read, well annotated and commented, and it should compile! You are not allowed to use other programming languages or DCP packages such as `convex.jl`. **We will be running your code**. Having multiple code blocks separated by text blocks that explain the various parts of your solution will make it much easier for us to understand your project. You may also solve several versions of your problem with different models/assumptions. **Remember that if you do not write your description of the project and commeent your code well, we cannot understand what you have done. Even if it is technically brilliant, you will loose points if you do not write well and comment your code well.**\n",
    "\n",
    "It's fine to call external packages such as `Gurobi`, but try to minimize the use of other packages. We want to be able to understand what is happening in your code without looking up additional references. "
   ]
  },
  {
   "cell_type": "code",
   "execution_count": 1,
   "metadata": {},
   "outputs": [
    {
     "name": "stdout",
     "output_type": "stream",
     "text": [
      "The total number of horses is: 10.0\n",
      "The total number of donkeys is: 0.0\n",
      "The total number of goats is: 0.0\n"
     ]
    }
   ],
   "source": [
    "# this is a code block\n",
    "using JuMP, Clp\n",
    "m = Model(solver = ClpSolver())\n",
    "\n",
    "things = [:horses, :donkeys, :goats]  # these are the things \n",
    "@variable(m, x[things] >= 0)          # the quantities of each of the things (can't be negative)\n",
    "@constraint(m, sum(x) <= 10)          # we can't have any more than 10 things total\n",
    "@objective(m, Max, x[:horses])        # we want to maximize the number of horses\n",
    "solve(m)\n",
    "\n",
    "for i in things\n",
    "    println(\"The total number of \", i, \" is: \", getvalue(x[i]))     # print result\n",
    "end"
   ]
  },
  {
   "cell_type": "markdown",
   "metadata": {},
   "source": [
    "Remember to make sure your code compiles! I will be running your code!"
   ]
  },
  {
   "cell_type": "markdown",
   "metadata": {
    "collapsed": true
   },
   "source": [
    "## 4. Results and discussion ##\n",
    "\n",
    "Here, you display and discuss the results. Show figures, plots, images, trade-off curves, or whatever else you can think of to best illustrate your results. The discussion should explain what the results mean, and how to interpret them. You should also explain the limitations of your approach/model and how sensitive your results are to the assumptions you made.\n",
    "\n",
    "Use plots (see `PyPlot` examples from class), or you can display results in a table like this:\n",
    "\n",
    "| Tables        | Are           | Cool  |\n",
    "| ------------- |:-------------:| -----:|\n",
    "| col 3 is      | right-aligned |\\$1600 |\n",
    "| col 2 is      | centered      |  \\$12 |\n",
    "| zebra stripes | are neat      |   \\$1 |\n",
    "\n",
    "### 4.A. Feel free to add subsections\n",
    "\n",
    "#### 4.A.a. or subsubsections"
   ]
  },
  {
   "cell_type": "markdown",
   "metadata": {
    "collapsed": true
   },
   "source": [
    "## 5. Conclusion ##\n",
    "\n",
    "Summarize your findings and your results, and talk about at least one possible future direction; something that might be interesting to pursue as a follow-up to your project."
   ]
  },
  {
   "cell_type": "code",
   "execution_count": null,
   "metadata": {
    "collapsed": true
   },
   "outputs": [],
   "source": []
  }
 ],
 "metadata": {
  "kernelspec": {
   "display_name": "Julia 1.1.0",
   "language": "julia",
   "name": "julia-1.1"
  },
  "language_info": {
   "file_extension": ".jl",
   "mimetype": "application/julia",
   "name": "julia",
   "version": "1.1.0"
  }
 },
 "nbformat": 4,
 "nbformat_minor": 1
}
