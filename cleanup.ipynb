{
 "cells": [
  {
   "cell_type": "code",
   "execution_count": 1,
   "metadata": {},
   "outputs": [],
   "source": [
    "# comp_name = CSV.read(\"data/constituents_csv.csv\")\n",
    "# for i in 1:((size(comp_name))[1]-1)\n",
    "#     #println(\"https://query1.finance.yahoo.com/v7/finance/download/\",comp_name[i,1],\"?period1=946706400&period2=1514786400&interval=1mo&events=history&crumb=UB6zx5WdF5I\")\n",
    "# end"
   ]
  },
  {
   "cell_type": "code",
   "execution_count": 1,
   "metadata": {},
   "outputs": [],
   "source": [
    "# HELPER FUNCTION TO CALCULATE RATIO OF RETURN\n",
    "# ratio of return in a monthly base\n",
    "function get_monthly_return(csv_data)\n",
    "    montly_return = Float64[]\n",
    "    for i in 1:((size(csv_data))[1]-1)\n",
    "        append!(montly_return, (csv_data[i+1,5]-csv_data[i,5])/csv_data[i,5])\n",
    "    end  \n",
    "    return montly_return\n",
    "end;    "
   ]
  },
  {
   "cell_type": "code",
   "execution_count": 173,
   "metadata": {},
   "outputs": [
    {
     "name": "stdout",
     "output_type": "stream",
     "text": [
      "top30/ABBV.csv: 60\n",
      "top30/ADS.csv: 199\n",
      "top30/AIZ.csv: 167\n",
      "top30/ALGN.csv: 204\n",
      "top30/AVGO.csv: 101\n",
      "top30/AYI.csv: 193\n",
      "top30/CBOE.csv: 91\n",
      "top30/CME.csv: 181\n",
      "top30/DG.csv: 98\n",
      "top30/DISCA.csv: 150\n",
      "top30/EQIX.csv: 209\n",
      "top30/FTV.csv: 18\n",
      "top30/GOOGL.csv: 161\n",
      "top30/HCA.csv: 82\n",
      "top30/HII.csv: 82\n",
      "top30/HLT.csv: 49\n",
      "top30/KHC.csv: 30\n",
      "top30/KMI.csv: 83\n",
      "top30/LYB.csv: 93\n",
      "top30/MDLZ.csv: 199\n",
      "top30/NAVI.csv: 45\n",
      "top30/NLSN.csv: 84\n",
      "top30/NRG.csv: 169\n",
      "top30/NWSA.csv: 55\n",
      "top30/PM.csv: 118\n",
      "top30/PPG.csv: 2\n",
      "top30/RTN.csv: 276\n",
      "top30/STX.csv: 181\n",
      "top30/SYF.csv: 42\n",
      "top30/TDG.csv: 142\n",
      "top30/TEL.csv: 127\n",
      "top30/UA.csv: 30\n",
      "top30/V.csv: 118\n",
      "top30/WRK.csv: 31\n",
      "top30/WYNN.csv: 183\n"
     ]
    },
    {
     "data": {
      "text/plain": [
       "215×129 Array{Float64,2}:\n",
       "  0.104819    -0.196552    -0.143617    …   0.743169   -0.0698691 \n",
       "  0.184842     0.0300429    0.0248447       0.0384013   0.166667  \n",
       " -0.0865162    0.333333    -0.0363637      -0.115472    0.0905433 \n",
       " -0.322922     0.2125       0.201258        0.0392491  -0.134686  \n",
       "  0.247024     0.278994    -0.17801         0.0845649  -0.0362474 \n",
       " -0.0298329    0.126449    -0.0445859   …  -0.0908403  -0.141593  \n",
       "  0.199262     0.00536673  -0.0112529       0.184013    0.201674  \n",
       " -0.577436     0.338078    -0.023006       -0.0365682   0.0509393 \n",
       " -0.240292    -0.0757979    0.275362       -0.154015   -0.0204081 \n",
       " -0.15655      0.133813     0.159091       -0.461605    0.2       \n",
       " -0.0984845    0.0253807    0.17647     …   0.182692   -0.0833333 \n",
       "  0.453782    -0.0528713   -0.00466662      0.170732    0.0915152 \n",
       " -0.15607      0.123144     0.00803746     -0.280093    0.0688506 \n",
       "  ⋮                                     ⋱                         \n",
       "  0.0477465    0.116255    -0.0304492      -0.035945    0.0347386 \n",
       "  0.128883     0.0484647    0.0612292       0.0106529  -0.00320462\n",
       "  0.0486897   -0.0328926   -0.0197999   …  -0.015811   -0.0217391 \n",
       " -6.96784e-5  -0.0728813   -0.00629889      0.0901711   0.0289515 \n",
       "  0.063418     0.118464    -0.0911475       0.0570432   0.104791  \n",
       " -0.0572139    0.0300752   -0.00481003     -0.0358267   0.0154185 \n",
       "  0.0327037   -0.00751083   0.019333       -0.0164801   0.0233189 \n",
       "  0.102669    -0.144639    -0.0203888   …   0.0442618   0.017753  \n",
       " -0.0602439    0.0311526    0.0287996       0.0722071  -0.041786  \n",
       "  0.0968077   -0.0700907   -0.0385791       0.0403784   0.0114114 \n",
       "  0.0166234    0.102274    -0.0242231      -0.0567241   0.121155  \n",
       " -0.0152459    0.0825277    0.00501507     -0.0300677  -0.0222835 "
      ]
     },
     "execution_count": 173,
     "metadata": {},
     "output_type": "execute_result"
    }
   ],
   "source": [
    "using CSV, LinearAlgebra\n",
    "# remove those files(not long enough)\n",
    "data_files = readdir(\"top30\")\n",
    "total_monthly_return = zeros(215)\n",
    "valid_data = zeros(216)\n",
    "\n",
    "for i in data_files\n",
    "    file_path = string(\"top30/\", i)\n",
    "    csv_data = CSV.read(file_path) \n",
    "    csv_length = (size(csv_data))[1]\n",
    "    # check all csv has the same length (no new/removed S&P 500)\n",
    "    if csv_length != 216\n",
    "        print(file_path, \": \")\n",
    "        println(csv_length)\n",
    "    else\n",
    "        valid_data = hcat(valid_data, csv_data[:,5])        \n",
    "        total_monthly_return = hcat(total_monthly_return, get_monthly_return(csv_data))\n",
    "    end\n",
    "end    \n",
    "\n",
    "valid_data = valid_data[:, 2:end]\n",
    "total_monthly_return = total_monthly_return[:, 2:end]"
   ]
  },
  {
   "cell_type": "code",
   "execution_count": 3,
   "metadata": {},
   "outputs": [
    {
     "data": {
      "text/plain": [
       "129-element Array{Float64,1}:\n",
       " 0.025585884938832314 \n",
       " 0.016912595764853138 \n",
       " 0.009564503171370812 \n",
       " 0.007014600703790782 \n",
       " 0.005397906212492487 \n",
       " 0.016519475094170087 \n",
       " 0.015524168594298294 \n",
       " 0.016263200737921635 \n",
       " 0.016155426487548447 \n",
       " 0.023064400886971745 \n",
       " 0.01092046897112602  \n",
       " 0.01049504978008741  \n",
       " 0.019188604844708784 \n",
       " ⋮                    \n",
       " 0.010202314552856976 \n",
       " 0.009012570445919637 \n",
       " 0.01900224488440054  \n",
       " 0.009288300060753934 \n",
       " 0.013756442432663793 \n",
       " 0.016681222100094976 \n",
       " 0.0019328706496993188\n",
       " 0.012594881969745533 \n",
       " 0.009612927352649934 \n",
       " 0.004164458380570289 \n",
       " 0.008563595437728933 \n",
       " 0.015380230394524868 "
      ]
     },
     "execution_count": 3,
     "metadata": {},
     "output_type": "execute_result"
    }
   ],
   "source": [
    "num_time_period = size(total_monthly_return)[1]\n",
    "num_stock = size(total_monthly_return)[2]\n",
    "\n",
    "# mean of monthly return of a stock\n",
    "using Statistics\n",
    "expected_monthly_return = Float64[]\n",
    "for i in 1:size(total_monthly_return)[2]\n",
    "    push!(expected_monthly_return, mean(total_monthly_return[:,i]))\n",
    "end\n",
    "expected_monthly_return"
   ]
  },
  {
   "cell_type": "code",
   "execution_count": 4,
   "metadata": {},
   "outputs": [
    {
     "data": {
      "text/plain": [
       "129×129 Array{Float64,2}:\n",
       " -0.000654638  -0.000432724  -0.000244716  …  -0.000219107  -0.000393517\n",
       " -0.000432724  -0.000286036  -0.000161761     -0.000144833  -0.00026012 \n",
       " -0.000244716  -0.000161761  -9.14797e-5      -8.19065e-5   -0.000147104\n",
       " -0.000179475  -0.000118635  -6.70912e-5      -6.00702e-5   -0.000107886\n",
       " -0.00013811   -9.12926e-5   -5.16283e-5      -4.62255e-5   -8.3021e-5  \n",
       " -0.000422665  -0.000279387  -0.000158001  …  -0.000141466  -0.000254073\n",
       " -0.0003972    -0.000262554  -0.000148481     -0.000132943  -0.000238765\n",
       " -0.000416108  -0.000275053  -0.000155549     -0.000139271  -0.000250132\n",
       " -0.000413351  -0.00027323   -0.000154519     -0.000138349  -0.000248474\n",
       " -0.000590123  -0.000390079  -0.0002206       -0.000197514  -0.000354736\n",
       " -0.00027941   -0.000184693  -0.000104449  …  -9.35185e-5   -0.000167959\n",
       " -0.000268525  -0.000177499  -0.00010038      -8.98754e-5   -0.000161416\n",
       " -0.000490957  -0.000324529  -0.000183529     -0.000164323  -0.000295125\n",
       "  ⋮                                        ⋱                            \n",
       " -0.000261035  -0.000172548  -9.75801e-5      -8.73685e-5   -0.000156914\n",
       " -0.000230595  -0.000152426  -8.62008e-5      -7.718e-5     -0.000138615\n",
       " -0.000486189  -0.000321377  -0.000181747     -0.000162728  -0.000292259\n",
       " -0.000237649  -0.000157089  -8.8838e-5    …  -7.95412e-5   -0.000142856\n",
       " -0.000351971  -0.000232657  -0.000131574     -0.000117805  -0.000211577\n",
       " -0.000426804  -0.000282123  -0.000159548     -0.000142851  -0.000256561\n",
       " -4.94542e-5   -3.26899e-5   -1.84869e-5      -1.65523e-5   -2.9728e-5  \n",
       " -0.000322251  -0.000213012  -0.000120464     -0.000107857  -0.000193712\n",
       " -0.000245955  -0.00016258   -9.19429e-5   …  -8.23212e-5   -0.000147849\n",
       " -0.000106551  -7.04318e-5   -3.9831e-5       -3.56627e-5   -6.40503e-5 \n",
       " -0.000219107  -0.000144833  -8.19065e-5      -7.33352e-5   -0.00013171 \n",
       " -0.000393517  -0.00026012   -0.000147104     -0.00013171   -0.000236551"
      ]
     },
     "execution_count": 4,
     "metadata": {},
     "output_type": "execute_result"
    }
   ],
   "source": [
    "# Σ\n",
    "# convolution between stocks\n",
    "cov_matrix = transpose(total_monthly_return)*total_monthly_return./num_time_period\n",
    "        -expected_monthly_return*transpose(expected_monthly_return)"
   ]
  },
  {
   "cell_type": "code",
   "execution_count": 5,
   "metadata": {},
   "outputs": [
    {
     "name": "stdout",
     "output_type": "stream",
     "text": [
      "Academic license - for non-commercial use only\n",
      "Optimal\n"
     ]
    },
    {
     "data": {
      "text/plain": [
       "129-element Array{Float64,1}:\n",
       "  0.007108407340855522 \n",
       "  0.03647864473049046  \n",
       " -0.005775556476774045 \n",
       " -0.003189883506351814 \n",
       " -0.08110973755242526  \n",
       "  0.0026888480093362134\n",
       " -0.029219116856031794 \n",
       " -0.08684272198938832  \n",
       "  0.06800140178301012  \n",
       "  0.008537710143941609 \n",
       " -0.00357649687628895  \n",
       " -0.030277104265095438 \n",
       " -0.02198331965221331  \n",
       "  ⋮                    \n",
       " -0.09021261827929782  \n",
       "  0.027742781657780567 \n",
       "  0.047493594696279604 \n",
       "  0.026949404536924095 \n",
       "  0.010139574569564259 \n",
       "  0.047024739990467204 \n",
       "  0.0068385379752427195\n",
       " -0.020378217995989146 \n",
       "  0.00919529283248459  \n",
       "  0.14607991854623822  \n",
       " -0.03150761380468012  \n",
       "  0.014453430511462624 "
      ]
     },
     "execution_count": 5,
     "metadata": {},
     "output_type": "execute_result"
    }
   ],
   "source": [
    "baseline_profit = 0.01\n",
    "mT = transpose(expected_monthly_return)\n",
    "\n",
    "using JuMP, Gurobi\n",
    "m = Model(solver=GurobiSolver(OutputFlag=0))\n",
    "@variable(m, w[1:num_stock])\n",
    "@objective(m, Min, dot(w,cov_matrix*w) )\n",
    "@constraint(m, mT*w >= baseline_profit )\n",
    "@constraint(m, sum(w[i] for i in 1:num_stock) == 1)\n",
    "\n",
    "status = solve(m)\n",
    "println(status) \n",
    "xsol = getvalue(w)"
   ]
  },
  {
   "cell_type": "code",
   "execution_count": 6,
   "metadata": {},
   "outputs": [
    {
     "data": {
      "text/plain": [
       "get_cov_matrix (generic function with 1 method)"
      ]
     },
     "execution_count": 6,
     "metadata": {},
     "output_type": "execute_result"
    }
   ],
   "source": [
    "# mean of monthly return of a stock\n",
    "using Statistics\n",
    "\n",
    "function get_expected_monthly_return(total_monthly_return)\n",
    "    expected_monthly_return = Float64[]\n",
    "    for i in 1:size(total_monthly_return)[2]\n",
    "        push!(expected_monthly_return, mean(total_monthly_return[:,i]))\n",
    "    end\n",
    "    return expected_monthly_return\n",
    "end\n",
    "\n",
    "function get_cov_matrix(total_monthly_return, expected_monthly_return)\n",
    "    return transpose(total_monthly_return)*total_monthly_return./size(total_monthly_return)[2]-expected_monthly_return*transpose(expected_monthly_return)\n",
    "end"
   ]
  },
  {
   "cell_type": "code",
   "execution_count": 51,
   "metadata": {},
   "outputs": [
    {
     "data": {
      "text/plain": [
       "0.03803351955307261"
      ]
     },
     "execution_count": 51,
     "metadata": {},
     "output_type": "execute_result"
    }
   ],
   "source": [
    "# US treasurt securities data in %\n",
    "risk_free = CSV.read(\"data/risk_free.csv\")\n",
    "risk_free_15 = mean(risk_free[2:180,2])/100"
   ]
  },
  {
   "cell_type": "code",
   "execution_count": 52,
   "metadata": {},
   "outputs": [
    {
     "data": {
      "text/plain": [
       "0.03317899159663869"
      ]
     },
     "execution_count": 52,
     "metadata": {},
     "output_type": "execute_result"
    }
   ],
   "source": [
    "risk_free_10 = mean(risk_free[62:180,2])/100"
   ]
  },
  {
   "cell_type": "code",
   "execution_count": 54,
   "metadata": {},
   "outputs": [
    {
     "data": {
      "text/plain": [
       "119-element Array{Float64,1}:\n",
       "  0.018903346078316657  \n",
       " -0.019117655748441098  \n",
       " -0.020108581881679344  \n",
       "  0.02995204626256571   \n",
       " -0.0001427142257658092 \n",
       "  0.0359682871938124    \n",
       " -0.01122210487449661   \n",
       "  0.006949024694760399  \n",
       " -0.017740780066319385  \n",
       "  0.03518609592972647   \n",
       " -0.0009523489924185018 \n",
       "  0.025466771348641722  \n",
       "  0.00045315763072534016\n",
       "  ⋮                     \n",
       " -0.035582905675162646  \n",
       "  0.043117029976595334  \n",
       "  0.006932165607935714  \n",
       "  0.006200788965052755  \n",
       "  0.02103028001299596   \n",
       "  0.019058331658920603  \n",
       " -0.015079830581919834  \n",
       "  0.037655295489735195  \n",
       " -0.015513837223063749  \n",
       "  0.023201460786772227  \n",
       "  0.024533588760364766  \n",
       " -0.004188587877920406  "
      ]
     },
     "execution_count": 54,
     "metadata": {},
     "output_type": "execute_result"
    }
   ],
   "source": [
    "# US treasurt securities data in %\n",
    "index_data = CSV.read(\"data/index.csv\")\n",
    "index_monthly_return_15 = get_monthly_return(index_data[1:180,:])\n",
    "index_monthly_return_10 = get_monthly_return(index_data[61:180,:])"
   ]
  },
  {
   "cell_type": "code",
   "execution_count": 10,
   "metadata": {},
   "outputs": [],
   "source": [
    "# HELPER FUNCTION TO CALCULATE RATIO OF RETURN\n",
    "# ratio of return in a monthly base\n",
    "function get_monthly_return_stock(csv_data)\n",
    "    montly_return = Float64[]\n",
    "    for i in 1:((size(csv_data))[1]-1)\n",
    "        append!(montly_return, (csv_data[i+1,1]-csv_data[i,1])/csv_data[i,1])\n",
    "    end  \n",
    "    return montly_return\n",
    "end;    "
   ]
  },
  {
   "cell_type": "code",
   "execution_count": 11,
   "metadata": {},
   "outputs": [
    {
     "data": {
      "text/plain": [
       "179×129 Array{Float64,2}:\n",
       "  0.104819   -0.196552    -0.143617    …   0.743169    -0.0698691 \n",
       "  0.184842    0.0300429    0.0248447       0.0384013    0.166667  \n",
       " -0.0865162   0.333333    -0.0363637      -0.115472     0.0905433 \n",
       " -0.322922    0.2125       0.201258        0.0392491   -0.134686  \n",
       "  0.247024    0.278994    -0.17801         0.0845649   -0.0362474 \n",
       " -0.0298329   0.126449    -0.0445859   …  -0.0908403   -0.141593  \n",
       "  0.199262    0.00536673  -0.0112529       0.184013     0.201674  \n",
       " -0.577436    0.338078    -0.023006       -0.0365682    0.0509393 \n",
       " -0.240292   -0.0757979    0.275362       -0.154015    -0.0204081 \n",
       " -0.15655     0.133813     0.159091       -0.461605     0.2       \n",
       " -0.0984845   0.0253807    0.17647     …   0.182692    -0.0833333 \n",
       "  0.453782   -0.0528713   -0.00466662      0.170732     0.0915152 \n",
       " -0.15607     0.123144     0.00803746     -0.280093     0.0688506 \n",
       "  ⋮                                    ⋱                          \n",
       " -0.107697   -0.0439482   -0.0903226       0.0108885   -0.11189   \n",
       "  0.0512185   0.00937217   0.0283687       0.124515     0.103202  \n",
       "  0.0199529  -0.0333088    0.0687192       0.0396552    0.0176836 \n",
       "  0.0993964  -0.00625089   0.00783593  …  -0.130459     0.021223  \n",
       "  0.0727178   0.122737     0.0276698      -0.00487391   0.00415636\n",
       "  0.0276619  -0.00710571  -0.018469        0.00745319   0.0503169 \n",
       "  0.0287313   0.0584916    0.0519157      -0.130628    -0.14532   \n",
       "  0.0721758   0.006241     0.0745689       0.0272307    0.04366   \n",
       " -0.0170732  -0.00116289   0.0248696   …   0.00236682  -0.00621293\n",
       "  0.0719603   0.104916    -0.0802348       0.0502952   -0.00208393\n",
       "  0.101204    0.0660344    0.120851        0.0215827    0.075456  \n",
       " -0.0718911  -0.00977484  -0.0129081      -0.0473151   -0.0569579 "
      ]
     },
     "execution_count": 11,
     "metadata": {},
     "output_type": "execute_result"
    }
   ],
   "source": [
    "using CSV, LinearAlgebra\n",
    "# remove those files(not long enough)\n",
    "length_15 = 180-1\n",
    "total_monthly_return_15 = zeros(length_15)\n",
    "\n",
    "for i in 1:num_stock\n",
    "    total_monthly_return_15 = hcat(total_monthly_return_15, get_monthly_return_stock(valid_data[1:180,i]))\n",
    "end    \n",
    "\n",
    "total_monthly_return_15 = total_monthly_return_15[:, 2:end]"
   ]
  },
  {
   "cell_type": "code",
   "execution_count": 12,
   "metadata": {},
   "outputs": [
    {
     "data": {
      "text/plain": [
       "129×129 Array{Float64,2}:\n",
       "  0.0226678    -0.00164294    0.000622467  …   0.00867433   0.00429746 \n",
       " -0.00164294    0.00829318    0.000996604     -0.0011917    0.0011988  \n",
       "  0.000622467   0.000996604   0.0104447        0.000472707  0.001336   \n",
       "  0.00217689    0.00185024    0.00215674       0.00341712   0.00199801 \n",
       " -0.000264272   0.00208967    0.00136046       0.000158642  0.00198801 \n",
       "  0.00532297    0.00172085    0.00238859   …   0.00494921   0.00311222 \n",
       "  0.0161282     0.000324373   0.00185512       0.0174276    0.00549434 \n",
       "  0.00868097    0.00222622    0.00119386       0.010233     0.00399481 \n",
       "  0.0043248    -0.00110706   -8.4115e-5        0.011878     0.00119186 \n",
       "  0.0101926    -0.00178298    0.000131288      0.0120719    0.00444719 \n",
       "  0.00112706    0.0014516     0.00156047   …   0.00104211   0.000799915\n",
       "  0.00304015    0.00170215    0.00224391       0.00321934   0.00217468 \n",
       "  0.00926067    0.00143387    0.000650334      0.00995883   0.00474411 \n",
       "  ⋮                                        ⋱                           \n",
       "  0.00888179    0.00176045    0.0027386        0.00591238   0.00491432 \n",
       "  0.00121585    0.00212033   -0.000535311      0.00305362   0.00135525 \n",
       "  0.0020236     0.00306162    0.00141349       0.00116919   0.00218718 \n",
       "  0.00246689    0.00113999    0.00176812   …   0.0043103    0.00309611 \n",
       "  0.00134046    0.00119396    0.00195372       0.0041975    0.00245323 \n",
       "  0.00204876    0.0022956    -7.00824e-5       0.00278855   0.00276633 \n",
       "  0.00164772    0.000943029   0.00176214       0.000378872  0.00110334 \n",
       "  0.00408484    0.00280083    5.47908e-5       0.00765264   0.00168553 \n",
       "  0.00747539    0.000338096   0.00254128   …   0.0098309    0.00261245 \n",
       "  0.00031573    0.000741648   0.0011966        0.000492417  0.00133559 \n",
       "  0.00867433   -0.0011917     0.000472707      0.0214235    0.00256034 \n",
       "  0.00429746    0.0011988     0.001336         0.00256034   0.00765926 "
      ]
     },
     "execution_count": 12,
     "metadata": {},
     "output_type": "execute_result"
    }
   ],
   "source": [
    "expected_monthly_return_15 = get_expected_monthly_return(total_monthly_return_15)\n",
    "cov_matrix_15 = get_cov_matrix(total_monthly_return_15, expected_monthly_return_15)"
   ]
  },
  {
   "cell_type": "code",
   "execution_count": 13,
   "metadata": {},
   "outputs": [
    {
     "name": "stdout",
     "output_type": "stream",
     "text": [
      "\n",
      "******************************************************************************\n",
      "This program contains Ipopt, a library for large-scale nonlinear optimization.\n",
      " Ipopt is released as open source code under the Eclipse Public License (EPL).\n",
      "         For more information visit http://projects.coin-or.org/Ipopt\n",
      "******************************************************************************\n",
      "\n",
      "Optimal\n"
     ]
    },
    {
     "data": {
      "text/plain": [
       "129-element Array{Float64,1}:\n",
       "  0.05205708211236412 \n",
       "  0.16424080763461782 \n",
       " -0.08077104431565989 \n",
       "  0.06264544627520525 \n",
       " -0.14837640835675703 \n",
       " -0.11214441698177009 \n",
       " -0.04081221914668509 \n",
       " -0.07114929983071001 \n",
       "  0.13312638353359962 \n",
       " -0.032927831307456724\n",
       " -0.0302743056962417  \n",
       "  0.041685584756914966\n",
       "  0.29730513954506976 \n",
       "  ⋮                   \n",
       " -0.18679720196760255 \n",
       " -0.14959534440078087 \n",
       "  0.1765324143589622  \n",
       " -0.061112907654419756\n",
       "  0.24422763933384095 \n",
       "  0.24695093698929665 \n",
       " -0.15859868604806393 \n",
       " -0.24177474251002    \n",
       "  0.08055968959985271 \n",
       "  0.09279167006007527 \n",
       " -0.016501918876240782\n",
       "  0.018055526984987514"
      ]
     },
     "execution_count": 13,
     "metadata": {},
     "output_type": "execute_result"
    }
   ],
   "source": [
    "# 2000-2015 risk free\n",
    "baseline_profit = risk_free_15\n",
    "# baseline_profit = sum(expected_monthly_return_15)/length_15\n",
    "mT = transpose(expected_monthly_return_15)\n",
    "cov = cov_matrix_15\n",
    "\n",
    "using JuMP, Gurobi, Ipopt\n",
    "# m = Model(solver=GurobiSolver(OutputFlag=0))\n",
    "m = Model(solver=IpoptSolver(print_level=0))\n",
    "\n",
    "@variable(m, w[1:num_stock])\n",
    "@objective(m, Min, dot(w,cov*w) )\n",
    "@constraint(m, mT*w >= baseline_profit )\n",
    "@constraint(m, sum(w[i] for i in 1:num_stock) == 1)\n",
    "\n",
    "status = solve(m)\n",
    "println(status) \n",
    "xsol = getvalue(w)"
   ]
  },
  {
   "cell_type": "code",
   "execution_count": 14,
   "metadata": {},
   "outputs": [
    {
     "name": "stdout",
     "output_type": "stream",
     "text": [
      "Optimal\n"
     ]
    },
    {
     "data": {
      "text/plain": [
       "129-element Array{Float64,1}:\n",
       "  0.01075847684029408 \n",
       "  0.062069842724571396\n",
       "  0.005344786998251666\n",
       " -0.13835651332957086 \n",
       " -0.14337893920208494 \n",
       "  0.052320973134375066\n",
       " -0.042481784113803676\n",
       " -0.08514915495732239 \n",
       "  0.0397728096991244  \n",
       "  0.0213247354262065  \n",
       "  0.018224483260470173\n",
       " -0.07488425200073953 \n",
       " -0.06274895378738177 \n",
       "  ⋮                   \n",
       " -0.131964675011162   \n",
       "  0.016293509275082895\n",
       "  0.06590061994110956 \n",
       "  0.1472150317407254  \n",
       "  0.04732109339503089 \n",
       "  0.03165898617138159 \n",
       "  0.15354083829267443 \n",
       "  0.013729996018217136\n",
       "  0.03907934762420442 \n",
       "  0.21512268445812174 \n",
       " -0.025581005586628125\n",
       "  0.04741994739648087 "
      ]
     },
     "execution_count": 14,
     "metadata": {},
     "output_type": "execute_result"
    }
   ],
   "source": [
    "# 2000-2015 index\n",
    "baseline_profit = mean(index_monthly_return_15)\n",
    "# baseline_profit = sum(expected_monthly_return_15)/length_15\n",
    "mT = transpose(expected_monthly_return_15)\n",
    "cov = cov_matrix_15\n",
    "\n",
    "using JuMP, Gurobi, Ipopt\n",
    "# m = Model(solver=GurobiSolver(OutputFlag=0))\n",
    "m = Model(solver=IpoptSolver(print_level=0))\n",
    "\n",
    "@variable(m, w[1:num_stock])\n",
    "@objective(m, Min, dot(w,cov*w) )\n",
    "@constraint(m, mT*w >= baseline_profit )\n",
    "@constraint(m, sum(w[i] for i in 1:num_stock) == 1)\n",
    "\n",
    "status = solve(m)\n",
    "println(status) \n",
    "xsol = getvalue(w)"
   ]
  },
  {
   "cell_type": "code",
   "execution_count": 15,
   "metadata": {},
   "outputs": [
    {
     "name": "stdout",
     "output_type": "stream",
     "text": [
      "Optimal\n"
     ]
    },
    {
     "data": {
      "text/plain": [
       "129-element Array{Float64,1}:\n",
       "  0.08464572977214564 \n",
       "  0.2448637137734302  \n",
       " -0.14872487631870446 \n",
       "  0.2212556946681672  \n",
       " -0.15231990137304868 \n",
       " -0.24192373072407886 \n",
       " -0.03949476873643228 \n",
       " -0.060102041866337046\n",
       "  0.20679150383078973 \n",
       " -0.07573842431113376 \n",
       " -0.06854460404709965 \n",
       "  0.13367061216466933 \n",
       "  0.5814231117810164  \n",
       "  ⋮                   \n",
       " -0.23006544043490812 \n",
       " -0.28049791041999406 \n",
       "  0.26383174431214773 \n",
       " -0.2255040721964453  \n",
       "  0.39960620491083143 \n",
       "  0.41683738915811247 \n",
       " -0.4049073667509396  \n",
       " -0.4433930258502831  \n",
       "  0.11329174533264133 \n",
       " -0.003739491218092218\n",
       " -0.009337629527281052\n",
       " -0.005115879027862329"
      ]
     },
     "execution_count": 15,
     "metadata": {},
     "output_type": "execute_result"
    }
   ],
   "source": [
    "# 2000-2015 equally weighted\n",
    "baseline_profit = mean(expected_monthly_return_15)\n",
    "# baseline_profit = sum(expected_monthly_return_15)/length_15\n",
    "mT = transpose(expected_monthly_return_15)\n",
    "cov = cov_matrix_15\n",
    "\n",
    "using JuMP, Gurobi, Ipopt\n",
    "# m = Model(solver=GurobiSolver(OutputFlag=0))\n",
    "m = Model(solver=IpoptSolver(print_level=0))\n",
    "\n",
    "@variable(m, w[1:num_stock])\n",
    "@objective(m, Min, dot(w,cov*w) )\n",
    "@constraint(m, mT*w >= baseline_profit )\n",
    "@constraint(m, sum(w[i] for i in 1:num_stock) == 1)\n",
    "\n",
    "status = solve(m)\n",
    "println(status) \n",
    "xsol = getvalue(w)"
   ]
  },
  {
   "cell_type": "code",
   "execution_count": 16,
   "metadata": {},
   "outputs": [
    {
     "data": {
      "text/plain": [
       "119×129 Array{Float64,2}:\n",
       "  0.16671     0.0277968   -0.00413227  …   0.0346009    0.0524272 \n",
       " -0.0711101  -0.0435726    0.019917       -0.0321192    0.0621157 \n",
       " -0.134629    0.0696457   -0.268104       -0.0783441   -0.0936113 \n",
       "  0.102607    0.053688     0.103391        0.0308092    0.0922062 \n",
       " -0.0741951   0.0709308    0.077078       -0.0817429    0.0154026 \n",
       "  0.158652    0.0381779    0.0729655   …   0.111765     0.00518436\n",
       "  0.0994138   0.040117    -0.0187446      -0.00952381  -0.094938  \n",
       "  0.143314    0.0352217    0.0955131      -0.00819088   0.0217392 \n",
       "  0.07424    -0.0133248   -0.0117599      -0.140036     0.050816  \n",
       "  0.177635    0.0534942   -0.0328273       0.103967    -0.0408885 \n",
       "  0.0600118   0.0304916    0.0462452   …  -0.0465205   -0.0391473 \n",
       "  0.0503547   0.0541062    0.277372        0.117017     0.0552474 \n",
       " -0.0929678   0.0538497    0.0069841      -0.03125     -0.0357792 \n",
       "  ⋮                                    ⋱                          \n",
       " -0.107697   -0.0439482   -0.0903226       0.0108885   -0.11189   \n",
       "  0.0512185   0.00937217   0.0283687       0.124515     0.103202  \n",
       "  0.0199529  -0.0333088    0.0687192       0.0396552    0.0176836 \n",
       "  0.0993964  -0.00625089   0.00783593  …  -0.130459     0.021223  \n",
       "  0.0727178   0.122737     0.0276698      -0.00487391   0.00415636\n",
       "  0.0276619  -0.00710571  -0.018469        0.00745319   0.0503169 \n",
       "  0.0287313   0.0584916    0.0519157      -0.130628    -0.14532   \n",
       "  0.0721758   0.006241     0.0745689       0.0272307    0.04366   \n",
       " -0.0170732  -0.00116289   0.0248696   …   0.00236682  -0.00621293\n",
       "  0.0719603   0.104916    -0.0802348       0.0502952   -0.00208393\n",
       "  0.101204    0.0660344    0.120851        0.0215827    0.075456  \n",
       " -0.0718911  -0.00977484  -0.0129081      -0.0473151   -0.0569579 "
      ]
     },
     "execution_count": 16,
     "metadata": {},
     "output_type": "execute_result"
    }
   ],
   "source": [
    "using CSV, LinearAlgebra\n",
    "# remove those files(not long enough)\n",
    "length_10 = 180-60-1\n",
    "total_monthly_return_10 = zeros(length_10)\n",
    "\n",
    "for i in 1:num_stock\n",
    "    total_monthly_return_10 = hcat(total_monthly_return_10, get_monthly_return_stock(valid_data[61:180,i]))\n",
    "end    \n",
    "\n",
    "total_monthly_return_10 = total_monthly_return_10[:, 2:end]"
   ]
  },
  {
   "cell_type": "code",
   "execution_count": 17,
   "metadata": {},
   "outputs": [
    {
     "data": {
      "text/plain": [
       "129×129 Array{Float64,2}:\n",
       " 0.00884296   0.000740552   0.00112632   …  0.00208645   0.00266909 \n",
       " 0.000740552  0.00292671    0.000703173     0.00130032   0.000918648\n",
       " 0.00112632   0.000703173   0.00688703      0.000985165  0.00104175 \n",
       " 0.00125489   0.00111254    0.000990962     0.00116032   0.00127278 \n",
       " 0.000671267  0.000762714   0.000514824     0.000882854  0.000993186\n",
       " 0.00346078   0.00182497    0.00105365   …  0.00383127   0.0029     \n",
       " 0.00544862   0.00264863    0.00145819      0.00603374   0.00304246 \n",
       " 0.003792     0.00232649    0.000546522     0.00372281   0.00352729 \n",
       " 0.00246195   0.000875993   0.000538722     0.00125441   0.000936933\n",
       " 0.00365474   0.000679229  -1.7115e-6       0.00338646   0.00257509 \n",
       " 0.00163581   0.00080084    0.000780148  …  0.00148172   0.00108278 \n",
       " 0.00301957   0.00117867    0.00100302      0.00237914   0.00213695 \n",
       " 0.00372811   0.00166286    0.00100846      0.00316325   0.00248489 \n",
       " ⋮                                       ⋱                          \n",
       " 0.00581363   0.00248728    0.00117311      0.00377297   0.00448727 \n",
       " 0.000966889  0.0020427    -0.000406772     0.00210108   0.00157752 \n",
       " 0.0015815    0.0017182     0.000990312     0.0012372    0.00162012 \n",
       " 0.00177416   0.00116438    0.000790929  …  0.00223763   0.00178044 \n",
       " 0.00160052   0.00115017    0.000538927     0.00201616   0.0015176  \n",
       " 0.00110969   0.00202241   -0.000389185     0.00181541   0.00205255 \n",
       " 0.00116572   0.000672129   0.000879443     0.00041211   0.000865651\n",
       " 0.00300559   0.00124606    0.000114461     0.00250441   0.00164255 \n",
       " 0.00377449   0.000840372   0.00143936   …  0.00215446   0.00207427 \n",
       " 0.000138547  0.000482312   0.000572564     0.000462435  0.000874415\n",
       " 0.00208645   0.00130032    0.000985165     0.00522576   0.00193726 \n",
       " 0.00266909   0.000918648   0.00104175      0.00193726   0.00410354 "
      ]
     },
     "execution_count": 17,
     "metadata": {},
     "output_type": "execute_result"
    }
   ],
   "source": [
    "expected_monthly_return_10 = get_expected_monthly_return(total_monthly_return_10)\n",
    "cov_matrix_10 = get_cov_matrix(total_monthly_return_10, expected_monthly_return_10)"
   ]
  },
  {
   "cell_type": "code",
   "execution_count": 18,
   "metadata": {},
   "outputs": [
    {
     "name": "stdout",
     "output_type": "stream",
     "text": [
      "Optimal\n"
     ]
    },
    {
     "data": {
      "text/plain": [
       "129-element Array{Float64,1}:\n",
       " 0.3513000737882712   \n",
       " 3.1526641524578017e-6\n",
       " 7.632852004787723e-7 \n",
       " 4.843162111828505e-7 \n",
       " 3.5399142543062926e-7\n",
       " 4.980297935475188e-7 \n",
       " 1.8108471433763118e-7\n",
       " 5.066284397305023e-7 \n",
       " 1.015039073987516e-6 \n",
       " 1.5359367250599971e-6\n",
       " 8.931495200690383e-7 \n",
       " 3.624131077506856e-7 \n",
       " 7.025578340711965e-7 \n",
       " ⋮                    \n",
       " 2.401402854891694e-7 \n",
       " 3.0348928987405016e-7\n",
       " 4.901099693347951e-7 \n",
       " 3.654646969841553e-7 \n",
       " 1.3446872735355094e-6\n",
       " 5.451718545200605e-7 \n",
       " 3.7098778880670495e-7\n",
       " 3.756291943808678e-7 \n",
       " 4.557312118498781e-7 \n",
       " 4.326246868365292e-7 \n",
       " 3.112136983673777e-7 \n",
       " 5.040563074214958e-7 "
      ]
     },
     "execution_count": 18,
     "metadata": {},
     "output_type": "execute_result"
    }
   ],
   "source": [
    "# 2005-2015 risk-free\n",
    "baseline_profit = risk_free_10\n",
    "# baseline_profit = sum(expected_monthly_return_10)/length_10\n",
    "mT = transpose(expected_monthly_return_10)\n",
    "cov = cov_matrix_10\n",
    "\n",
    "using JuMP, Gurobi, Ipopt\n",
    "# m = Model(solver=GurobiSolver(OutputFlag=0))\n",
    "m = Model(solver=IpoptSolver(print_level=0))\n",
    "@variable(m, w[1:num_stock] >= 0)\n",
    "@objective(m, Min, dot(w,cov*w) )\n",
    "@constraint(m, mT*w >= baseline_profit )\n",
    "@constraint(m, sum(w[i] for i in 1:num_stock) == 1)\n",
    "\n",
    "status = solve(m)\n",
    "println(status) \n",
    "xsol = getvalue(w)"
   ]
  },
  {
   "cell_type": "code",
   "execution_count": 19,
   "metadata": {},
   "outputs": [
    {
     "name": "stdout",
     "output_type": "stream",
     "text": [
      "Optimal\n"
     ]
    },
    {
     "data": {
      "text/plain": [
       "129-element Array{Float64,1}:\n",
       " 6.0741538532358805e-6\n",
       " 0.021471926390341838 \n",
       " 0.0011730301017139682\n",
       " 2.6226678359631782e-5\n",
       " 1.0993376977953288e-5\n",
       " 4.066507989206471e-6 \n",
       " 1.8752673091247251e-6\n",
       " 1.7006775680566362e-6\n",
       " 0.05759166431638319  \n",
       " 3.95821769789563e-6  \n",
       " 0.035971296474877346 \n",
       " 6.079213866356719e-6 \n",
       " 2.8924707314699687e-6\n",
       " ⋮                    \n",
       " 1.7263371069671088e-6\n",
       " 3.85434625198967e-6  \n",
       " 0.000163957730884722 \n",
       " 1.7036778572277386e-5\n",
       " 1.0121603116707708e-5\n",
       " 3.199337666205788e-6 \n",
       " 0.00064891654939836  \n",
       " 7.076054916738684e-6 \n",
       " 2.3046793974671988e-5\n",
       " 0.14290115472058493  \n",
       " 4.548156041273254e-6 \n",
       " 6.0532409929550216e-6"
      ]
     },
     "execution_count": 19,
     "metadata": {},
     "output_type": "execute_result"
    }
   ],
   "source": [
    "# 2005-2015 index\n",
    "baseline_profit = mean(index_monthly_return_10)\n",
    "# baseline_profit = sum(expected_monthly_return_15)/length_15\n",
    "mT = transpose(expected_monthly_return_10)\n",
    "cov = cov_matrix_10\n",
    "\n",
    "using JuMP, Gurobi, Ipopt\n",
    "# m = Model(solver=GurobiSolver(OutputFlag=0))\n",
    "m = Model(solver=IpoptSolver(print_level=0))\n",
    "\n",
    "@variable(m, w[1:num_stock] >= 0)\n",
    "@objective(m, Min, dot(w,cov*w) )\n",
    "@constraint(m, mT*w >= baseline_profit )\n",
    "@constraint(m, sum(w[i] for i in 1:num_stock) == 1)\n",
    "\n",
    "status = solve(m)\n",
    "println(status) \n",
    "xsol = getvalue(w)"
   ]
  },
  {
   "cell_type": "code",
   "execution_count": 20,
   "metadata": {},
   "outputs": [
    {
     "name": "stdout",
     "output_type": "stream",
     "text": [
      "Optimal\n"
     ]
    },
    {
     "data": {
      "text/plain": [
       "129-element Array{Float64,1}:\n",
       " 0.9774244644277528   \n",
       " 3.1715364001346465e-8\n",
       " 1.5382806298361245e-8\n",
       " 1.330216867712195e-8 \n",
       " 9.51477976018853e-9  \n",
       " 1.9872907892507558e-8\n",
       " 5.225903784924334e-9 \n",
       " 2.5805510585739498e-8\n",
       " 2.4068374287519098e-8\n",
       " 7.040539575872053e-8 \n",
       " 2.1508102037490435e-8\n",
       " 1.4212788125417303e-8\n",
       " 2.7478571889857854e-8\n",
       " ⋮                    \n",
       " 1.3767559454634381e-8\n",
       " 9.936953993792494e-9 \n",
       " 1.464589098090727e-8 \n",
       " 1.2229644567741976e-8\n",
       " 3.022783120354963e-8 \n",
       " 1.6907811948986615e-8\n",
       " 9.154227350983515e-9 \n",
       " 1.3301825131792953e-8\n",
       " 1.773841957866201e-8 \n",
       " 1.0231804373662613e-8\n",
       " 9.790393539257079e-9 \n",
       " 1.7999056464402436e-8"
      ]
     },
     "execution_count": 20,
     "metadata": {},
     "output_type": "execute_result"
    }
   ],
   "source": [
    "# 2005-2015 equally weighted\n",
    "baseline_profit = mean(expected_monthly_return_10)\n",
    "# baseline_profit = sum(expected_monthly_return_10)/length_10\n",
    "mT = transpose(expected_monthly_return_10)\n",
    "cov = cov_matrix_10\n",
    "\n",
    "using JuMP, Gurobi, Ipopt\n",
    "# m = Model(solver=GurobiSolver(OutputFlag=0))\n",
    "m = Model(solver=IpoptSolver(print_level=0))\n",
    "@variable(m, w[1:num_stock] >= 0)\n",
    "@objective(m, Min, dot(w,cov*w) )\n",
    "@constraint(m, mT*w >= baseline_profit )\n",
    "@constraint(m, sum(w[i] for i in 1:num_stock) == 1)\n",
    "\n",
    "status = solve(m)\n",
    "println(status) \n",
    "xsol = getvalue(w)"
   ]
  },
  {
   "cell_type": "code",
   "execution_count": null,
   "metadata": {},
   "outputs": [],
   "source": [
    "#####3.2"
   ]
  },
  {
   "cell_type": "code",
   "execution_count": 115,
   "metadata": {},
   "outputs": [
    {
     "data": {
      "text/plain": [
       "linear_regression (generic function with 1 method)"
      ]
     },
     "execution_count": 115,
     "metadata": {},
     "output_type": "execute_result"
    }
   ],
   "source": [
    "\n",
    "using JuMP, Gurobi, Mosek\n",
    "function linear_regression(r_stock, r_m)\n",
    "    # m = Model(solver=MosekSolver(LOG=0))\n",
    "    m = Model(solver=GurobiSolver(OutputFlag=0,BarHomogeneous=1))\n",
    "    #m = Model(solver=GurobiSolver(OutputFlag=0,NumericFocus=3,BarHomogeneous=1))\n",
    "\n",
    "    @variable(m, u[1:2])\n",
    "    @objective(m, Min, sum( (r_stock - (r_m*u[2]+u[1])).^2 ) )\n",
    "    status = solve(m)\n",
    "    uopt = getvalue(u)\n",
    "    err_term = getobjectivevalue(m)\n",
    "    return uopt, err_term\n",
    "end"
   ]
  },
  {
   "cell_type": "code",
   "execution_count": 184,
   "metadata": {
    "scrolled": false
   },
   "outputs": [
    {
     "name": "stdout",
     "output_type": "stream",
     "text": [
      "Academic license - for non-commercial use only\r\n",
      "Academic license - for non-commercial use only\r\n",
      "Academic license - for non-commercial use only\r\n",
      "Academic license - for non-commercial use only\r\n",
      "Academic license - for non-commercial use only\r\n",
      "Academic license - for non-commercial use only\r\n",
      "Academic license - for non-commercial use only\r\n",
      "Academic license - for non-commercial use only\r\n",
      "Academic license - for non-commercial use only\r\n",
      "Academic license - for non-commercial use only\r\n",
      "Academic license - for non-commercial use only\r\n",
      "Academic license - for non-commercial use only\r\n",
      "Academic license - for non-commercial use only\r\n",
      "Academic license - for non-commercial use only\r\n",
      "Academic license - for non-commercial use only\r\n",
      "Academic license - for non-commercial use only\r\n",
      "Academic license - for non-commercial use only\r\n",
      "Academic license - for non-commercial use only\r\n",
      "Academic license - for non-commercial use only\r\n",
      "Academic license - for non-commercial use only\r\n",
      "Academic license - for non-commercial use only\r\n",
      "Academic license - for non-commercial use only\r\n",
      "Academic license - for non-commercial use only\r\n",
      "Academic license - for non-commercial use only\r\n",
      "Academic license - for non-commercial use only\r\n",
      "Academic license - for non-commercial use only\r\n",
      "Academic license - for non-commercial use only\r\n",
      "Academic license - for non-commercial use only\r\n",
      "Academic license - for non-commercial use only\r\n",
      "Academic license - for non-commercial use only\r\n",
      "Academic license - for non-commercial use only\r\n",
      "Academic license - for non-commercial use only\r\n",
      "Academic license - for non-commercial use only\r\n",
      "Academic license - for non-commercial use only\r\n",
      "Academic license - for non-commercial use only\r\n",
      "Academic license - for non-commercial use only\r\n",
      "Academic license - for non-commercial use only\r\n",
      "Academic license - for non-commercial use only\r\n",
      "Academic license - for non-commercial use only\r\n",
      "Academic license - for non-commercial use only\r\n",
      "Academic license - for non-commercial use only\r\n",
      "Academic license - for non-commercial use only\r\n",
      "Academic license - for non-commercial use only\r\n",
      "Academic license - for non-commercial use only\r\n",
      "Academic license - for non-commercial use only\r\n",
      "Academic license - for non-commercial use only\r\n",
      "Academic license - for non-commercial use only\r\n",
      "Academic license - for non-commercial use only\r\n",
      "Academic license - for non-commercial use only\r\n",
      "Academic license - for non-commercial use only\r\n",
      "Academic license - for non-commercial use only\r\n",
      "Academic license - for non-commercial use only\r\n",
      "Academic license - for non-commercial use only\r\n",
      "Academic license - for non-commercial use only\r\n",
      "Academic license - for non-commercial use only\r\n",
      "Academic license - for non-commercial use only\r\n",
      "Academic license - for non-commercial use only\r\n",
      "Academic license - for non-commercial use only\r\n",
      "Academic license - for non-commercial use only\r\n",
      "Academic license - for non-commercial use only\r\n",
      "Academic license - for non-commercial use only\r\n",
      "Academic license - for non-commercial use only\r\n",
      "Academic license - for non-commercial use only\r\n",
      "Academic license - for non-commercial use only\r\n",
      "Academic license - for non-commercial use only\r\n",
      "Academic license - for non-commercial use only\r\n",
      "Academic license - for non-commercial use only\r\n",
      "Academic license - for non-commercial use only\r\n",
      "Academic license - for non-commercial use only\r\n",
      "Academic license - for non-commercial use only\r\n",
      "Academic license - for non-commercial use only\r\n",
      "Academic license - for non-commercial use only\r\n",
      "Academic license - for non-commercial use only\r\n",
      "Academic license - for non-commercial use only\r\n",
      "Academic license - for non-commercial use only\r\n",
      "Academic license - for non-commercial use only\r\n",
      "Academic license - for non-commercial use only\r\n",
      "Academic license - for non-commercial use only\r\n",
      "Academic license - for non-commercial use only\r\n",
      "Academic license - for non-commercial use only\r\n",
      "Academic license - for non-commercial use only\r\n",
      "Academic license - for non-commercial use only\r\n",
      "Academic license - for non-commercial use only\r\n",
      "Academic license - for non-commercial use only\r\n",
      "Academic license - for non-commercial use only\r\n",
      "Academic license - for non-commercial use only\r\n",
      "Academic license - for non-commercial use only\r\n",
      "Academic license - for non-commercial use only\r\n",
      "Academic license - for non-commercial use only\r\n",
      "Academic license - for non-commercial use only\r\n",
      "Academic license - for non-commercial use only\r\n",
      "Academic license - for non-commercial use only\r\n",
      "Academic license - for non-commercial use only\r\n",
      "Academic license - for non-commercial use only\r\n",
      "Academic license - for non-commercial use only\r\n",
      "Academic license - for non-commercial use only\r\n",
      "Academic license - for non-commercial use only\r\n",
      "Academic license - for non-commercial use only\r\n",
      "Academic license - for non-commercial use only\r\n",
      "Academic license - for non-commercial use only\r\n",
      "Academic license - for non-commercial use only\r\n",
      "Academic license - for non-commercial use only\r\n",
      "Academic license - for non-commercial use only\r\n",
      "Academic license - for non-commercial use only\r\n",
      "Academic license - for non-commercial use only\r\n",
      "Academic license - for non-commercial use only\r\n",
      "Academic license - for non-commercial use only\r\n",
      "Academic license - for non-commercial use only\r\n",
      "Academic license - for non-commercial use only\r\n",
      "Academic license - for non-commercial use only\r\n",
      "Academic license - for non-commercial use only\r\n",
      "Academic license - for non-commercial use only\r\n",
      "Academic license - for non-commercial use only\r\n",
      "Academic license - for non-commercial use only\r\n",
      "Academic license - for non-commercial use only\r\n",
      "Academic license - for non-commercial use only\r\n",
      "Academic license - for non-commercial use only\r\n",
      "Academic license - for non-commercial use only\r\n",
      "Academic license - for non-commercial use only\r\n",
      "Academic license - for non-commercial use only\r\n",
      "Academic license - for non-commercial use only\r\n",
      "Academic license - for non-commercial use only\r\n",
      "Academic license - for non-commercial use only\r\n",
      "Academic license - for non-commercial use only\r\n",
      "Academic license - for non-commercial use only\r\n",
      "Academic license - for non-commercial use only\r\n",
      "Academic license - for non-commercial use only\r\n",
      "Academic license - for non-commercial use only\r\n",
      "Academic license - for non-commercial use only\r\n"
     ]
    }
   ],
   "source": [
    "var_index = var(index_monthly_return_15, corrected=false)\n",
    "# a_vec = Float64[]\n",
    "b_vec = Float64[]\n",
    "err_vec = Float64[]\n",
    "expected_monthly_return_removed = Float64[]\n",
    "var_err_stock = Float64[]\n",
    "mean_err_stock = Float64[]\n",
    "for stock in 1:num_stock\n",
    "    monthly_return_stock = total_monthly_return[1:length_15,stock]\n",
    "    mean_15 = mean(monthly_return_stock)\n",
    "    distance_15 = [(i-mean_15)^2 for i in monthly_return_stock]\n",
    "    # remove 5% = 9 extreme values\n",
    "    remove_h = sort(distance_15, rev=true)[1:9]\n",
    "    remove_h_index_all = [findall(x -> x== i, distance_15) for i in remove_h]\n",
    "    remove_h_index = collect(Iterators.flatten(remove_h_index_all))\n",
    "    new_monthly_return_stock = Float64[]\n",
    "    new_index_monthly_return = Float64[]\n",
    "    for i in 1:length_15\n",
    "        if !(i in remove_h_index)\n",
    "            append!(new_monthly_return_stock, monthly_return_stock[i])\n",
    "            append!(new_index_monthly_return, index_monthly_return_15[i])\n",
    "        end\n",
    "    end\n",
    "    append!(expected_monthly_return_removed, mean(new_monthly_return_stock))\n",
    "    (a, err_term) = linear_regression(new_monthly_return_stock, new_index_monthly_return)\n",
    "    # append!(a_vec, a[1])\n",
    "    append!(b_vec, a[2])\n",
    "    append!(err_vec, err_term)\n",
    "    # var_market = var(new_index_monthly_return, corrected=false)\n",
    "    err = new_monthly_return_stock - (new_index_monthly_return.*a[2].+a[1])\n",
    "    append!(var_err_stock, var(err))\n",
    "    append!(mean_err_stock, mean(err))\n",
    "end"
   ]
  },
  {
   "cell_type": "code",
   "execution_count": 177,
   "metadata": {},
   "outputs": [
    {
     "data": {
      "text/plain": [
       "129×129 Array{Float64,2}:\n",
       " 0.0023941    0.000711447  0.00117492   …  0.00279611   0.00153971 \n",
       " 0.000711447  0.000211418  0.000349147     0.000830912  0.00045755 \n",
       " 0.00117492   0.000349147  0.0005766       0.00137221   0.000755622\n",
       " 0.00154838   0.000460127  0.000759878     0.00180838   0.000995804\n",
       " 0.000716853  0.000213025  0.0003518       0.000837226  0.000461027\n",
       " 0.00232131   0.000689817  0.0011392    …  0.00271111   0.0014929  \n",
       " 0.0048785    0.00144973   0.00239416      0.00569769   0.00313749 \n",
       " 0.00349447   0.00103844   0.00171494      0.00408126   0.00224739 \n",
       " 0.0015987    0.00047508   0.000784572     0.00186715   0.00102816 \n",
       " 0.00234988   0.000698307  0.00115322      0.00274447   0.00151127 \n",
       " 0.000869768  0.000258466  0.000426844  …  0.00101582   0.00055937 \n",
       " 0.00165751   0.000492555  0.000813432     0.00193583   0.00106598 \n",
       " 0.00299212   0.00088916   0.00146841      0.00349456   0.00192431 \n",
       " ⋮                                      ⋱                          \n",
       " 0.0026884    0.000798903  0.00131935      0.00313983   0.00172898 \n",
       " 0.000675033  0.000200597  0.000331277     0.000788384  0.000434131\n",
       " 0.000779168  0.000231543  0.000382382     0.000910005  0.000501103\n",
       " 0.00166776   0.000495602  0.000818462  …  0.0019478    0.00107258 \n",
       " 0.00134908   0.000400902  0.00066207      0.00157562   0.000867629\n",
       " 0.000799155  0.000237482  0.00039219      0.000933347  0.000513957\n",
       " 0.00104165   0.000309542  0.000511194     0.00121656   0.000669909\n",
       " 0.00164362   0.000488428  0.000806616     0.00191961   0.00105705 \n",
       " 0.00218676   0.000649833  0.00107317   …  0.00255396   0.00140636 \n",
       " 0.000741708  0.000220411  0.000363998     0.000866255  0.000477012\n",
       " 0.00279611   0.000830912  0.00137221      0.00326563   0.00179825 \n",
       " 0.00153971   0.00045755   0.000755622     0.00179825   0.000990226"
      ]
     },
     "execution_count": 177,
     "metadata": {},
     "output_type": "execute_result"
    }
   ],
   "source": [
    "# cov_stock = [[b_vec[i]*b_vec[j]*var_index for j in 1:num_stock] for i in 1:num_stock]\n",
    "# err_correction = [[] for i in 1:num_stock]\n",
    "\n",
    "cov_stock = transpose(zeros(num_stock))\n",
    "# transpose([b_vec[i]*b_vec[j]*var_index for j in 1:num_stock])\n",
    "for i in 1:num_stock\n",
    "    cov_stock = vcat(cov_stock, transpose([b_vec[i]*b_vec[j]*var_index for j in 1:num_stock]))\n",
    "end\n",
    "\n",
    "cov_stock = cov_stock[2:end, :]"
   ]
  },
  {
   "cell_type": "code",
   "execution_count": 181,
   "metadata": {},
   "outputs": [
    {
     "data": {
      "text/plain": [
       "129×129 Array{Float64,2}:\n",
       " 0.0023941    0.000711447  0.00117492   …  0.00279611   0.00153971 \n",
       " 0.000711447  0.000211418  0.000349147     0.000830912  0.00045755 \n",
       " 0.00117492   0.000349147  0.0005766       0.00137221   0.000755622\n",
       " 0.00154838   0.000460127  0.000759878     0.00180838   0.000995804\n",
       " 0.000716853  0.000213025  0.0003518       0.000837226  0.000461027\n",
       " 0.00232131   0.000689817  0.0011392    …  0.00271111   0.0014929  \n",
       " 0.0048785    0.00144973   0.00239416      0.00569769   0.00313749 \n",
       " 0.00349447   0.00103844   0.00171494      0.00408126   0.00224739 \n",
       " 0.0015987    0.00047508   0.000784572     0.00186715   0.00102816 \n",
       " 0.00234988   0.000698307  0.00115322      0.00274447   0.00151127 \n",
       " 0.000869768  0.000258466  0.000426844  …  0.00101582   0.00055937 \n",
       " 0.00165751   0.000492555  0.000813432     0.00193583   0.00106598 \n",
       " 0.00299212   0.00088916   0.00146841      0.00349456   0.00192431 \n",
       " ⋮                                      ⋱                          \n",
       " 0.0026884    0.000798903  0.00131935      0.00313983   0.00172898 \n",
       " 0.000675033  0.000200597  0.000331277     0.000788384  0.000434131\n",
       " 0.000779168  0.000231543  0.000382382     0.000910005  0.000501103\n",
       " 0.00166776   0.000495602  0.000818462  …  0.0019478    0.00107258 \n",
       " 0.00134908   0.000400902  0.00066207      0.00157562   0.000867629\n",
       " 0.000799155  0.000237482  0.00039219      0.000933347  0.000513957\n",
       " 0.00104165   0.000309542  0.000511194     0.00121656   0.000669909\n",
       " 0.00164362   0.000488428  0.000806616     0.00191961   0.00105705 \n",
       " 0.00218676   0.000649833  0.00107317   …  0.00255396   0.00140636 \n",
       " 0.000741708  0.000220411  0.000363998     0.000866255  0.000477012\n",
       " 0.00279611   0.000830912  0.00137221      0.00326563   0.00179825 \n",
       " 0.00153971   0.00045755   0.000755622     0.00179825   0.000990226"
      ]
     },
     "execution_count": 181,
     "metadata": {},
     "output_type": "execute_result"
    }
   ],
   "source": [
    "# with a bias-correction term\n",
    "cov_stock = cov_stock .+ (length_15-1)/(length_15-2).*Diagonal(mean_err_stock)"
   ]
  },
  {
   "cell_type": "code",
   "execution_count": 185,
   "metadata": {},
   "outputs": [
    {
     "name": "stdout",
     "output_type": "stream",
     "text": [
      "Optimal\n"
     ]
    },
    {
     "data": {
      "text/plain": [
       "129-element Array{Float64,1}:\n",
       "  0.25408653653394314 \n",
       "  0.06668407191411285 \n",
       " -0.03174351375437464 \n",
       " -0.04425665461346221 \n",
       " -0.029529786281366613\n",
       "  0.013692155259288026\n",
       " -0.2684501576475007  \n",
       "  0.09825361227377133 \n",
       " -0.03996569190378858 \n",
       "  0.039176341620236886\n",
       "  0.025558372411297027\n",
       " -0.020967625950404647\n",
       "  0.10421569220575849 \n",
       "  ⋮                   \n",
       "  0.021313528017065802\n",
       "  0.031983316938161435\n",
       "  0.14850185732270044 \n",
       "  0.028388754086167353\n",
       "  0.05292535887752809 \n",
       "  0.08634731643194012 \n",
       " -0.11091005341886215 \n",
       "  0.03150324438890131 \n",
       " -0.012781601428102408\n",
       " -0.06457883134578521 \n",
       " -0.033731839996382296\n",
       "  0.010947746834897097"
      ]
     },
     "execution_count": 185,
     "metadata": {},
     "output_type": "execute_result"
    }
   ],
   "source": [
    "# 2000-2015 risk free remove 5% extreme values\n",
    "baseline_profit = risk_free_15\n",
    "# baseline_profit = sum(expected_monthly_return_15)/length_15\n",
    "mT = transpose(expected_monthly_return_removed)\n",
    "cov = cov_stock\n",
    "\n",
    "using JuMP, Gurobi, Ipopt\n",
    "# m = Model(solver=GurobiSolver(OutputFlag=0))\n",
    "m = Model(solver=IpoptSolver(print_level=0))\n",
    "\n",
    "@variable(m, w[1:num_stock])\n",
    "@objective(m, Min, dot(w,cov*w) )\n",
    "@constraint(m, mT*w >= baseline_profit )\n",
    "@constraint(m, sum(w[i] for i in 1:num_stock) == 1)\n",
    "\n",
    "status = solve(m)\n",
    "println(status) \n",
    "xsol = getvalue(w)"
   ]
  },
  {
   "cell_type": "code",
   "execution_count": 212,
   "metadata": {},
   "outputs": [
    {
     "name": "stdout",
     "output_type": "stream",
     "text": [
      "Optimal\n"
     ]
    },
    {
     "data": {
      "text/plain": [
       "129-element Array{Float64,1}:\n",
       " -1.6207662362678597e-10\n",
       " -3.7212465921299124e-11\n",
       " -5.14205436727226e-11  \n",
       " -3.4229183582207657e-11\n",
       "  1.0559060516437935e-10\n",
       "  1.565772258716753e-11 \n",
       " -1.0000000198284937    \n",
       " -4.411590590642938e-11 \n",
       "  4.495611328056239e-11 \n",
       " -1.0446077134756881e-10\n",
       " -2.0161026018515736e-11\n",
       " -1.543923077838823e-10 \n",
       "  9.571813405701516e-12 \n",
       "  ⋮                     \n",
       " -1.909019325198696e-11 \n",
       "  8.700114151267917e-11 \n",
       " -1.6806573808388643e-12\n",
       "  6.304278422989994e-12 \n",
       " -4.636325315044644e-11 \n",
       "  1.0000000199249472    \n",
       " -2.951503897747029e-11 \n",
       "  1.793789090944814e-10 \n",
       "  1.0000000197183423    \n",
       " -4.917651084638691e-11 \n",
       "  1.941353809961095e-11 \n",
       " -1.0000000198644128    "
      ]
     },
     "execution_count": 212,
     "metadata": {},
     "output_type": "execute_result"
    }
   ],
   "source": [
    "#3.3\n",
    "# 2000-2015 index\n",
    "target_profit = mean(index_monthly_return_15)\n",
    "mT = transpose(expected_monthly_return_15)\n",
    "cov = cov_matrix_15\n",
    "tune_factor = 100\n",
    "\n",
    "using JuMP, Gurobi, Ipopt\n",
    "m = Model(solver=IpoptSolver(print_level=0))\n",
    "\n",
    "@variable(m, w[1:num_stock])\n",
    "@variable(m, t[1:num_stock])\n",
    "@constraint(m,  w .<= t)\n",
    "@constraint(m, -w .<= t)\n",
    "@constraint(m,  t .<= 1)\n",
    "@constraint(m, mT*w >= target_profit )\n",
    "@constraint(m, sum(w[i] for i in 1:num_stock) == 1)\n",
    "@objective(m, Min, sum([target_profit - (transpose(total_monthly_return_15[t,:])*w)^2 for t in 1:length_15]) + tune_factor*sum(t) )\n",
    "\n",
    "status = solve(m)\n",
    "println(status) \n",
    "xsol = getvalue(w)"
   ]
  },
  {
   "cell_type": "code",
   "execution_count": 214,
   "metadata": {},
   "outputs": [
    {
     "name": "stdout",
     "output_type": "stream",
     "text": [
      "7\n",
      "-1.0000000198284937\n",
      "16\n",
      "1.0000000199113575\n",
      "18\n",
      "1.0000000199573624\n",
      "19\n",
      "1.0000000199362626\n",
      "26\n",
      "-1.0000000197852699\n",
      "28\n",
      "-1.0000000199010561\n",
      "31\n",
      "-1.0000000198978058\n",
      "32\n",
      "-1.0000000199346186\n",
      "35\n",
      "-1.0000000198949812\n",
      "38\n",
      "1.000000019999996\n",
      "39\n",
      "1.000000019875882\n",
      "44\n",
      "1.0000000198988401\n",
      "45\n",
      "-1.0000000199675614\n",
      "46\n",
      "1.0000000199811612\n",
      "51\n",
      "1.000000019004049\n",
      "68\n",
      "1.0000000199683905\n",
      "73\n",
      "1.000000019662806\n",
      "76\n",
      "1.0000000195623702\n",
      "83\n",
      "-1.0000000197658778\n",
      "89\n",
      "1.000000019965632\n",
      "91\n",
      "-1.0000000197161647\n",
      "93\n",
      "1.000000002886523\n",
      "94\n",
      "-1.0000000199370884\n",
      "97\n",
      "-1.000000019883709\n",
      "99\n",
      "-1.0000000199542693\n",
      "105\n",
      "-1.0000000199009005\n",
      "111\n",
      "1.0000000199619983\n",
      "113\n",
      "-1.000000019888663\n",
      "123\n",
      "1.0000000199249472\n",
      "126\n",
      "1.0000000197183423\n",
      "129\n",
      "-1.0000000198644128\n"
     ]
    }
   ],
   "source": [
    "for i in 1:num_stock\n",
    "    if abs(xsol[i]) > 0.01\n",
    "        println(i)\n",
    "        println(xsol[i])\n",
    "    end\n",
    "end"
   ]
  },
  {
   "cell_type": "code",
   "execution_count": 207,
   "metadata": {},
   "outputs": [
    {
     "data": {
      "text/plain": [
       "\"HII.csv\""
      ]
     },
     "execution_count": 207,
     "metadata": {},
     "output_type": "execute_result"
    }
   ],
   "source": [
    "data_files[70]"
   ]
  },
  {
   "cell_type": "code",
   "execution_count": null,
   "metadata": {},
   "outputs": [],
   "source": []
  }
 ],
 "metadata": {
  "kernelspec": {
   "display_name": "Julia 1.0.2",
   "language": "julia",
   "name": "julia-1.0"
  },
  "language_info": {
   "file_extension": ".jl",
   "mimetype": "application/julia",
   "name": "julia",
   "version": "1.0.2"
  }
 },
 "nbformat": 4,
 "nbformat_minor": 2
}
