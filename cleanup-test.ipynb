{
 "cells": [
  {
   "cell_type": "code",
   "execution_count": 1,
   "metadata": {},
   "outputs": [],
   "source": [
    "# comp_name = CSV.read(\"data/constituents_csv.csv\")\n",
    "# for i in 1:((size(comp_name))[1]-1)\n",
    "#     #println(\"https://query1.finance.yahoo.com/v7/finance/download/\",comp_name[i,1],\"?period1=946706400&period2=1514786400&interval=1mo&events=history&crumb=UB6zx5WdF5I\")\n",
    "# end"
   ]
  },
  {
   "cell_type": "code",
   "execution_count": 1,
   "metadata": {},
   "outputs": [],
   "source": [
    "# HELPER FUNCTION TO CALCULATE RATIO OF RETURN\n",
    "# ratio of return in a monthly base\n",
    "function get_monthly_return(csv_data)\n",
    "    montly_return = Float64[]\n",
    "    for i in 1:((size(csv_data))[1]-1)\n",
    "        append!(montly_return, (csv_data[i+1,5]-csv_data[i,5])/csv_data[i,5])\n",
    "    end  \n",
    "    return montly_return\n",
    "end;    "
   ]
  },
  {
   "cell_type": "code",
   "execution_count": 2,
   "metadata": {},
   "outputs": [
    {
     "name": "stdout",
     "output_type": "stream",
     "text": [
      "top30/ABBV.csv: 60\n",
      "top30/ADS.csv: 199\n",
      "top30/AIZ.csv: 167\n",
      "top30/ALGN.csv: 204\n",
      "top30/AVGO.csv: 101\n",
      "top30/AYI.csv: 193\n",
      "top30/CBOE.csv: 91\n",
      "top30/CME.csv: 181\n",
      "top30/DG.csv: 98\n",
      "top30/DISCA.csv: 150\n",
      "top30/EQIX.csv: 209\n",
      "top30/FTV.csv: 18\n",
      "top30/GOOGL.csv: 161\n",
      "top30/HCA.csv: 82\n",
      "top30/HII.csv: 82\n",
      "top30/HLT.csv: 49\n",
      "top30/KHC.csv: 30\n",
      "top30/KMI.csv: 83\n",
      "top30/LYB.csv: 93\n",
      "top30/MDLZ.csv: 199\n",
      "top30/NAVI.csv: 45\n",
      "top30/NLSN.csv: 84\n",
      "top30/NRG.csv: 169\n",
      "top30/NWSA.csv: 55\n",
      "top30/PM.csv: 118\n",
      "top30/PPG.csv: 2\n",
      "top30/RTN.csv: 276\n",
      "top30/STX.csv: 181\n",
      "top30/SYF.csv: 42\n",
      "top30/TDG.csv: 142\n",
      "top30/TEL.csv: 127\n",
      "top30/UA.csv: 30\n",
      "top30/V.csv: 118\n",
      "top30/WRK.csv: 31\n",
      "top30/WYNN.csv: 183\n"
     ]
    }
   ],
   "source": [
    "using CSV, LinearAlgebra\n",
    "# remove those files(not long enough)\n",
    "data_files = readdir(\"top30\")\n",
    "total_monthly_return = zeros(215)\n",
    "valid_data = zeros(216)\n",
    "\n",
    "for i in data_files\n",
    "    file_path = string(\"top30/\", i)\n",
    "    csv_data = CSV.read(file_path) \n",
    "    csv_length = (size(csv_data))[1]\n",
    "    # check all csv has the same length (no new/removed S&P 500)\n",
    "    if csv_length != 216\n",
    "        print(file_path, \": \")\n",
    "        println(csv_length)\n",
    "    else\n",
    "        valid_data = hcat(valid_data, csv_data[:,5])        \n",
    "        total_monthly_return = hcat(total_monthly_return, get_monthly_return(csv_data))\n",
    "    end\n",
    "end    \n",
    "\n",
    "valid_data = valid_data[:, 2:end]\n",
    "total_monthly_return = total_monthly_return[:, 2:end]\n",
    ";"
   ]
  },
  {
   "cell_type": "code",
   "execution_count": 7,
   "metadata": {},
   "outputs": [],
   "source": [
    "num_time_period = size(total_monthly_return)[1]\n",
    "num_stock = size(total_monthly_return)[2]\n",
    "\n",
    "# mean of monthly return of a stock\n",
    "using Statistics\n",
    "expected_monthly_return = Float64[]\n",
    "for i in 1:size(total_monthly_return)[2]\n",
    "    push!(expected_monthly_return, mean(total_monthly_return[:,i]))\n",
    "end\n",
    "expected_monthly_return\n",
    ";"
   ]
  },
  {
   "cell_type": "code",
   "execution_count": 9,
   "metadata": {},
   "outputs": [],
   "source": [
    "# Σ\n",
    "# convolution between stocks\n",
    "cov_matrix = transpose(total_monthly_return)*total_monthly_return./num_time_period\n",
    "        -expected_monthly_return*transpose(expected_monthly_return)\n",
    ";"
   ]
  },
  {
   "cell_type": "code",
   "execution_count": 10,
   "metadata": {},
   "outputs": [
    {
     "name": "stdout",
     "output_type": "stream",
     "text": [
      "Academic license - for non-commercial use only\n",
      "Optimal\n"
     ]
    }
   ],
   "source": [
    "baseline_profit = 0.01\n",
    "mT = transpose(expected_monthly_return)\n",
    "\n",
    "using JuMP, Gurobi\n",
    "m = Model(solver=GurobiSolver(OutputFlag=0))\n",
    "@variable(m, w[1:num_stock])\n",
    "@objective(m, Min, dot(w,cov_matrix*w) )\n",
    "@constraint(m, mT*w >= baseline_profit )\n",
    "@constraint(m, sum(w[i] for i in 1:num_stock) == 1)\n",
    "\n",
    "status = solve(m)\n",
    "println(status) \n",
    "xsol = getvalue(w)\n",
    ";"
   ]
  },
  {
   "cell_type": "code",
   "execution_count": 11,
   "metadata": {},
   "outputs": [],
   "source": [
    "# mean of monthly return of a stock\n",
    "using Statistics\n",
    "\n",
    "function get_expected_monthly_return(total_monthly_return)\n",
    "    expected_monthly_return = Float64[]\n",
    "    for i in 1:size(total_monthly_return)[2]\n",
    "        push!(expected_monthly_return, mean(total_monthly_return[:,i]))\n",
    "    end\n",
    "    return expected_monthly_return\n",
    "end\n",
    "\n",
    "function get_cov_matrix(total_monthly_return, expected_monthly_return)\n",
    "    return transpose(total_monthly_return)*total_monthly_return./size(total_monthly_return)[2]-expected_monthly_return*transpose(expected_monthly_return)\n",
    "end\n",
    ";"
   ]
  },
  {
   "cell_type": "code",
   "execution_count": 12,
   "metadata": {},
   "outputs": [
    {
     "data": {
      "text/plain": [
       "0.03803351955307261"
      ]
     },
     "execution_count": 12,
     "metadata": {},
     "output_type": "execute_result"
    }
   ],
   "source": [
    "# US treasurt securities data in %\n",
    "risk_free = CSV.read(\"data/risk_free.csv\")\n",
    "risk_free_15 = mean(risk_free[2:180,2])/100"
   ]
  },
  {
   "cell_type": "code",
   "execution_count": 13,
   "metadata": {},
   "outputs": [
    {
     "data": {
      "text/plain": [
       "0.03317899159663869"
      ]
     },
     "execution_count": 13,
     "metadata": {},
     "output_type": "execute_result"
    }
   ],
   "source": [
    "risk_free_10 = mean(risk_free[62:180,2])/100"
   ]
  },
  {
   "cell_type": "code",
   "execution_count": 14,
   "metadata": {},
   "outputs": [],
   "source": [
    "# US treasurt securities data in %\n",
    "index_data = CSV.read(\"data/index.csv\")\n",
    "index_monthly_return_15 = get_monthly_return(index_data[1:180,:])\n",
    "index_monthly_return_10 = get_monthly_return(index_data[61:180,:])\n",
    ";"
   ]
  },
  {
   "cell_type": "code",
   "execution_count": 15,
   "metadata": {},
   "outputs": [],
   "source": [
    "# HELPER FUNCTION TO CALCULATE RATIO OF RETURN\n",
    "# ratio of return in a monthly base\n",
    "function get_monthly_return_stock(csv_data)\n",
    "    montly_return = Float64[]\n",
    "    for i in 1:((size(csv_data))[1]-1)\n",
    "        append!(montly_return, (csv_data[i+1,1]-csv_data[i,1])/csv_data[i,1])\n",
    "    end  \n",
    "    return montly_return\n",
    "end;    "
   ]
  },
  {
   "cell_type": "code",
   "execution_count": 16,
   "metadata": {},
   "outputs": [],
   "source": [
    "using CSV, LinearAlgebra\n",
    "# remove those files(not long enough)\n",
    "length_15 = 180-1\n",
    "total_monthly_return_15 = zeros(length_15)\n",
    "\n",
    "for i in 1:num_stock\n",
    "    total_monthly_return_15 = hcat(total_monthly_return_15, get_monthly_return_stock(valid_data[1:180,i]))\n",
    "end    \n",
    "\n",
    "total_monthly_return_15 = total_monthly_return_15[:, 2:end]\n",
    ";"
   ]
  },
  {
   "cell_type": "code",
   "execution_count": 17,
   "metadata": {},
   "outputs": [],
   "source": [
    "expected_monthly_return_15 = get_expected_monthly_return(total_monthly_return_15)\n",
    "cov_matrix_15 = get_cov_matrix(total_monthly_return_15, expected_monthly_return_15)\n",
    ";"
   ]
  },
  {
   "cell_type": "code",
   "execution_count": 46,
   "metadata": {},
   "outputs": [
    {
     "name": "stdout",
     "output_type": "stream",
     "text": [
      "Optimal\n"
     ]
    },
    {
     "data": {
      "text/plain": [
       "129-element Array{Float64,1}:\n",
       "  0.05186932254529168 \n",
       "  0.16377629857886364 \n",
       " -0.08037952815913918 \n",
       "  0.06173161297096315 \n",
       " -0.14835368791284317 \n",
       " -0.11139669317261398 \n",
       " -0.040819809640198726\n",
       " -0.07121294863241658 \n",
       "  0.13270196177667962 \n",
       " -0.03268117797920508 \n",
       " -0.030053811285878546\n",
       "  0.041155612813808654\n",
       "  0.2956681932065273  \n",
       "  ⋮                   \n",
       " -0.1865479119139798  \n",
       " -0.14884114897109776 \n",
       "  0.17602943907232724 \n",
       " -0.060165767588734605\n",
       "  0.24333242537743216 \n",
       "  0.24597213581153293 \n",
       " -0.15717957802805635 \n",
       " -0.24061311831532314 \n",
       "  0.08037110378684333 \n",
       "  0.09334783456373777 \n",
       " -0.016543195945501434\n",
       "  0.018189029093046812"
      ]
     },
     "execution_count": 46,
     "metadata": {},
     "output_type": "execute_result"
    }
   ],
   "source": [
    "# 2000-2015 risk free\n",
    "baseline_profit = risk_free_15\n",
    "# baseline_profit = sum(expected_monthly_return_15)/length_15\n",
    "mT = transpose(expected_monthly_return_15)\n",
    "cov = cov_matrix_15\n",
    "\n",
    "using JuMP, Gurobi, Ipopt\n",
    "# m = Model(solver=GurobiSolver(OutputFlag=0))\n",
    "m = Model(solver=IpoptSolver(print_level=0))\n",
    "\n",
    "@variable(m, w[1:num_stock])\n",
    "@objective(m, Min, dot(w,cov*w) )\n",
    "@constraint(m, mT*w >= baseline_profit )\n",
    "@constraint(m, sum(w[i] for i in 1:num_stock) == 1)\n",
    "\n",
    "status = solve(m)\n",
    "println(status) \n",
    "xsol = getvalue(w)"
   ]
  },
  {
   "cell_type": "code",
   "execution_count": 24,
   "metadata": {},
   "outputs": [
    {
     "name": "stdout",
     "output_type": "stream",
     "text": [
      "Optimal\n"
     ]
    },
    {
     "data": {
      "text/plain": [
       "129-element Array{Float64,1}:\n",
       "  0.01075847684029391  \n",
       "  0.06206984272456412  \n",
       "  0.0053447869982521864\n",
       " -0.13835651332957027  \n",
       " -0.14337893920207737  \n",
       "  0.05232097313437602  \n",
       " -0.04248178411380556  \n",
       " -0.08514915495732697  \n",
       "  0.03977280969912411  \n",
       "  0.02132473542620534  \n",
       "  0.018224483260470412 \n",
       " -0.0748842520007391   \n",
       " -0.06274895378737814  \n",
       "  ⋮                    \n",
       " -0.13196467501116238  \n",
       "  0.016293509275095475 \n",
       "  0.06590061994111036  \n",
       "  0.147215031740718    \n",
       "  0.0473210933950309   \n",
       "  0.03165898617138493  \n",
       "  0.15354083829267104  \n",
       "  0.01372999601822003  \n",
       "  0.039079347624200816 \n",
       "  0.21512268445811902  \n",
       " -0.02558100558663165  \n",
       "  0.047419947396478944 "
      ]
     },
     "execution_count": 24,
     "metadata": {},
     "output_type": "execute_result"
    }
   ],
   "source": [
    "# 2000-2015 index\n",
    "baseline_profit = mean(index_monthly_return_15)\n",
    "# baseline_profit = sum(expected_monthly_return_15)/length_15\n",
    "mT = transpose(expected_monthly_return_15)\n",
    "cov = cov_matrix_15\n",
    "\n",
    "using JuMP, Gurobi, Ipopt\n",
    "# m = Model(solver=GurobiSolver(OutputFlag=0))\n",
    "m = Model(solver=IpoptSolver(print_level=0))\n",
    "\n",
    "@variable(m, w[1:num_stock])\n",
    "@objective(m, Min, dot(w,cov*w) )\n",
    "@constraint(m, mT*w >= baseline_profit )\n",
    "@constraint(m, sum(w[i] for i in 1:num_stock) == 1)\n",
    "\n",
    "status = solve(m)\n",
    "println(status) \n",
    "xsol = getvalue(w)"
   ]
  },
  {
   "cell_type": "code",
   "execution_count": 15,
   "metadata": {},
   "outputs": [
    {
     "name": "stdout",
     "output_type": "stream",
     "text": [
      "Optimal\n"
     ]
    },
    {
     "data": {
      "text/plain": [
       "129-element Array{Float64,1}:\n",
       "  0.08464572977214564 \n",
       "  0.2448637137734302  \n",
       " -0.14872487631870446 \n",
       "  0.2212556946681672  \n",
       " -0.15231990137304868 \n",
       " -0.24192373072407886 \n",
       " -0.03949476873643228 \n",
       " -0.060102041866337046\n",
       "  0.20679150383078973 \n",
       " -0.07573842431113376 \n",
       " -0.06854460404709965 \n",
       "  0.13367061216466933 \n",
       "  0.5814231117810164  \n",
       "  ⋮                   \n",
       " -0.23006544043490812 \n",
       " -0.28049791041999406 \n",
       "  0.26383174431214773 \n",
       " -0.2255040721964453  \n",
       "  0.39960620491083143 \n",
       "  0.41683738915811247 \n",
       " -0.4049073667509396  \n",
       " -0.4433930258502831  \n",
       "  0.11329174533264133 \n",
       " -0.003739491218092218\n",
       " -0.009337629527281052\n",
       " -0.005115879027862329"
      ]
     },
     "execution_count": 15,
     "metadata": {},
     "output_type": "execute_result"
    }
   ],
   "source": [
    "# 2000-2015 equally weighted\n",
    "baseline_profit = mean(expected_monthly_return_15)\n",
    "# baseline_profit = sum(expected_monthly_return_15)/length_15\n",
    "mT = transpose(expected_monthly_return_15)\n",
    "cov = cov_matrix_15\n",
    "\n",
    "using JuMP, Gurobi, Ipopt\n",
    "# m = Model(solver=GurobiSolver(OutputFlag=0))\n",
    "m = Model(solver=IpoptSolver(print_level=0))\n",
    "\n",
    "@variable(m, w[1:num_stock])\n",
    "@objective(m, Min, dot(w,cov*w) )\n",
    "@constraint(m, mT*w >= baseline_profit )\n",
    "@constraint(m, sum(w[i] for i in 1:num_stock) == 1)\n",
    "\n",
    "status = solve(m)\n",
    "println(status) \n",
    "xsol = getvalue(w)"
   ]
  },
  {
   "cell_type": "code",
   "execution_count": 16,
   "metadata": {},
   "outputs": [
    {
     "data": {
      "text/plain": [
       "119×129 Array{Float64,2}:\n",
       "  0.16671     0.0277968   -0.00413227  …   0.0346009    0.0524272 \n",
       " -0.0711101  -0.0435726    0.019917       -0.0321192    0.0621157 \n",
       " -0.134629    0.0696457   -0.268104       -0.0783441   -0.0936113 \n",
       "  0.102607    0.053688     0.103391        0.0308092    0.0922062 \n",
       " -0.0741951   0.0709308    0.077078       -0.0817429    0.0154026 \n",
       "  0.158652    0.0381779    0.0729655   …   0.111765     0.00518436\n",
       "  0.0994138   0.040117    -0.0187446      -0.00952381  -0.094938  \n",
       "  0.143314    0.0352217    0.0955131      -0.00819088   0.0217392 \n",
       "  0.07424    -0.0133248   -0.0117599      -0.140036     0.050816  \n",
       "  0.177635    0.0534942   -0.0328273       0.103967    -0.0408885 \n",
       "  0.0600118   0.0304916    0.0462452   …  -0.0465205   -0.0391473 \n",
       "  0.0503547   0.0541062    0.277372        0.117017     0.0552474 \n",
       " -0.0929678   0.0538497    0.0069841      -0.03125     -0.0357792 \n",
       "  ⋮                                    ⋱                          \n",
       " -0.107697   -0.0439482   -0.0903226       0.0108885   -0.11189   \n",
       "  0.0512185   0.00937217   0.0283687       0.124515     0.103202  \n",
       "  0.0199529  -0.0333088    0.0687192       0.0396552    0.0176836 \n",
       "  0.0993964  -0.00625089   0.00783593  …  -0.130459     0.021223  \n",
       "  0.0727178   0.122737     0.0276698      -0.00487391   0.00415636\n",
       "  0.0276619  -0.00710571  -0.018469        0.00745319   0.0503169 \n",
       "  0.0287313   0.0584916    0.0519157      -0.130628    -0.14532   \n",
       "  0.0721758   0.006241     0.0745689       0.0272307    0.04366   \n",
       " -0.0170732  -0.00116289   0.0248696   …   0.00236682  -0.00621293\n",
       "  0.0719603   0.104916    -0.0802348       0.0502952   -0.00208393\n",
       "  0.101204    0.0660344    0.120851        0.0215827    0.075456  \n",
       " -0.0718911  -0.00977484  -0.0129081      -0.0473151   -0.0569579 "
      ]
     },
     "execution_count": 16,
     "metadata": {},
     "output_type": "execute_result"
    }
   ],
   "source": [
    "using CSV, LinearAlgebra\n",
    "# remove those files(not long enough)\n",
    "length_10 = 180-60-1\n",
    "total_monthly_return_10 = zeros(length_10)\n",
    "\n",
    "for i in 1:num_stock\n",
    "    total_monthly_return_10 = hcat(total_monthly_return_10, get_monthly_return_stock(valid_data[61:180,i]))\n",
    "end    \n",
    "\n",
    "total_monthly_return_10 = total_monthly_return_10[:, 2:end]"
   ]
  },
  {
   "cell_type": "code",
   "execution_count": 17,
   "metadata": {},
   "outputs": [
    {
     "data": {
      "text/plain": [
       "129×129 Array{Float64,2}:\n",
       " 0.00884296   0.000740552   0.00112632   …  0.00208645   0.00266909 \n",
       " 0.000740552  0.00292671    0.000703173     0.00130032   0.000918648\n",
       " 0.00112632   0.000703173   0.00688703      0.000985165  0.00104175 \n",
       " 0.00125489   0.00111254    0.000990962     0.00116032   0.00127278 \n",
       " 0.000671267  0.000762714   0.000514824     0.000882854  0.000993186\n",
       " 0.00346078   0.00182497    0.00105365   …  0.00383127   0.0029     \n",
       " 0.00544862   0.00264863    0.00145819      0.00603374   0.00304246 \n",
       " 0.003792     0.00232649    0.000546522     0.00372281   0.00352729 \n",
       " 0.00246195   0.000875993   0.000538722     0.00125441   0.000936933\n",
       " 0.00365474   0.000679229  -1.7115e-6       0.00338646   0.00257509 \n",
       " 0.00163581   0.00080084    0.000780148  …  0.00148172   0.00108278 \n",
       " 0.00301957   0.00117867    0.00100302      0.00237914   0.00213695 \n",
       " 0.00372811   0.00166286    0.00100846      0.00316325   0.00248489 \n",
       " ⋮                                       ⋱                          \n",
       " 0.00581363   0.00248728    0.00117311      0.00377297   0.00448727 \n",
       " 0.000966889  0.0020427    -0.000406772     0.00210108   0.00157752 \n",
       " 0.0015815    0.0017182     0.000990312     0.0012372    0.00162012 \n",
       " 0.00177416   0.00116438    0.000790929  …  0.00223763   0.00178044 \n",
       " 0.00160052   0.00115017    0.000538927     0.00201616   0.0015176  \n",
       " 0.00110969   0.00202241   -0.000389185     0.00181541   0.00205255 \n",
       " 0.00116572   0.000672129   0.000879443     0.00041211   0.000865651\n",
       " 0.00300559   0.00124606    0.000114461     0.00250441   0.00164255 \n",
       " 0.00377449   0.000840372   0.00143936   …  0.00215446   0.00207427 \n",
       " 0.000138547  0.000482312   0.000572564     0.000462435  0.000874415\n",
       " 0.00208645   0.00130032    0.000985165     0.00522576   0.00193726 \n",
       " 0.00266909   0.000918648   0.00104175      0.00193726   0.00410354 "
      ]
     },
     "execution_count": 17,
     "metadata": {},
     "output_type": "execute_result"
    }
   ],
   "source": [
    "expected_monthly_return_10 = get_expected_monthly_return(total_monthly_return_10)\n",
    "cov_matrix_10 = get_cov_matrix(total_monthly_return_10, expected_monthly_return_10)"
   ]
  },
  {
   "cell_type": "code",
   "execution_count": 18,
   "metadata": {},
   "outputs": [
    {
     "name": "stdout",
     "output_type": "stream",
     "text": [
      "Optimal\n"
     ]
    },
    {
     "data": {
      "text/plain": [
       "129-element Array{Float64,1}:\n",
       " 0.3513000737882712   \n",
       " 3.1526641524578017e-6\n",
       " 7.632852004787723e-7 \n",
       " 4.843162111828505e-7 \n",
       " 3.5399142543062926e-7\n",
       " 4.980297935475188e-7 \n",
       " 1.8108471433763118e-7\n",
       " 5.066284397305023e-7 \n",
       " 1.015039073987516e-6 \n",
       " 1.5359367250599971e-6\n",
       " 8.931495200690383e-7 \n",
       " 3.624131077506856e-7 \n",
       " 7.025578340711965e-7 \n",
       " ⋮                    \n",
       " 2.401402854891694e-7 \n",
       " 3.0348928987405016e-7\n",
       " 4.901099693347951e-7 \n",
       " 3.654646969841553e-7 \n",
       " 1.3446872735355094e-6\n",
       " 5.451718545200605e-7 \n",
       " 3.7098778880670495e-7\n",
       " 3.756291943808678e-7 \n",
       " 4.557312118498781e-7 \n",
       " 4.326246868365292e-7 \n",
       " 3.112136983673777e-7 \n",
       " 5.040563074214958e-7 "
      ]
     },
     "execution_count": 18,
     "metadata": {},
     "output_type": "execute_result"
    }
   ],
   "source": [
    "# 2005-2015 risk-free\n",
    "baseline_profit = risk_free_10\n",
    "# baseline_profit = sum(expected_monthly_return_10)/length_10\n",
    "mT = transpose(expected_monthly_return_10)\n",
    "cov = cov_matrix_10\n",
    "\n",
    "using JuMP, Gurobi, Ipopt\n",
    "# m = Model(solver=GurobiSolver(OutputFlag=0))\n",
    "m = Model(solver=IpoptSolver(print_level=0))\n",
    "@variable(m, w[1:num_stock] >= 0)\n",
    "@objective(m, Min, dot(w,cov*w) )\n",
    "@constraint(m, mT*w >= baseline_profit )\n",
    "@constraint(m, sum(w[i] for i in 1:num_stock) == 1)\n",
    "\n",
    "status = solve(m)\n",
    "println(status) \n",
    "xsol = getvalue(w)"
   ]
  },
  {
   "cell_type": "code",
   "execution_count": 19,
   "metadata": {},
   "outputs": [
    {
     "name": "stdout",
     "output_type": "stream",
     "text": [
      "Optimal\n"
     ]
    },
    {
     "data": {
      "text/plain": [
       "129-element Array{Float64,1}:\n",
       " 6.0741538532358805e-6\n",
       " 0.021471926390341838 \n",
       " 0.0011730301017139682\n",
       " 2.6226678359631782e-5\n",
       " 1.0993376977953288e-5\n",
       " 4.066507989206471e-6 \n",
       " 1.8752673091247251e-6\n",
       " 1.7006775680566362e-6\n",
       " 0.05759166431638319  \n",
       " 3.95821769789563e-6  \n",
       " 0.035971296474877346 \n",
       " 6.079213866356719e-6 \n",
       " 2.8924707314699687e-6\n",
       " ⋮                    \n",
       " 1.7263371069671088e-6\n",
       " 3.85434625198967e-6  \n",
       " 0.000163957730884722 \n",
       " 1.7036778572277386e-5\n",
       " 1.0121603116707708e-5\n",
       " 3.199337666205788e-6 \n",
       " 0.00064891654939836  \n",
       " 7.076054916738684e-6 \n",
       " 2.3046793974671988e-5\n",
       " 0.14290115472058493  \n",
       " 4.548156041273254e-6 \n",
       " 6.0532409929550216e-6"
      ]
     },
     "execution_count": 19,
     "metadata": {},
     "output_type": "execute_result"
    }
   ],
   "source": [
    "# 2005-2015 index\n",
    "baseline_profit = mean(index_monthly_return_10)\n",
    "# baseline_profit = sum(expected_monthly_return_15)/length_15\n",
    "mT = transpose(expected_monthly_return_10)\n",
    "cov = cov_matrix_10\n",
    "\n",
    "using JuMP, Gurobi, Ipopt\n",
    "# m = Model(solver=GurobiSolver(OutputFlag=0))\n",
    "m = Model(solver=IpoptSolver(print_level=0))\n",
    "\n",
    "@variable(m, w[1:num_stock] >= 0)\n",
    "@objective(m, Min, dot(w,cov*w) )\n",
    "@constraint(m, mT*w >= baseline_profit )\n",
    "@constraint(m, sum(w[i] for i in 1:num_stock) == 1)\n",
    "\n",
    "status = solve(m)\n",
    "println(status) \n",
    "xsol = getvalue(w)"
   ]
  },
  {
   "cell_type": "code",
   "execution_count": 20,
   "metadata": {},
   "outputs": [
    {
     "name": "stdout",
     "output_type": "stream",
     "text": [
      "Optimal\n"
     ]
    },
    {
     "data": {
      "text/plain": [
       "129-element Array{Float64,1}:\n",
       " 0.9774244644277528   \n",
       " 3.1715364001346465e-8\n",
       " 1.5382806298361245e-8\n",
       " 1.330216867712195e-8 \n",
       " 9.51477976018853e-9  \n",
       " 1.9872907892507558e-8\n",
       " 5.225903784924334e-9 \n",
       " 2.5805510585739498e-8\n",
       " 2.4068374287519098e-8\n",
       " 7.040539575872053e-8 \n",
       " 2.1508102037490435e-8\n",
       " 1.4212788125417303e-8\n",
       " 2.7478571889857854e-8\n",
       " ⋮                    \n",
       " 1.3767559454634381e-8\n",
       " 9.936953993792494e-9 \n",
       " 1.464589098090727e-8 \n",
       " 1.2229644567741976e-8\n",
       " 3.022783120354963e-8 \n",
       " 1.6907811948986615e-8\n",
       " 9.154227350983515e-9 \n",
       " 1.3301825131792953e-8\n",
       " 1.773841957866201e-8 \n",
       " 1.0231804373662613e-8\n",
       " 9.790393539257079e-9 \n",
       " 1.7999056464402436e-8"
      ]
     },
     "execution_count": 20,
     "metadata": {},
     "output_type": "execute_result"
    }
   ],
   "source": [
    "# 2005-2015 equally weighted\n",
    "baseline_profit = mean(expected_monthly_return_10)\n",
    "# baseline_profit = sum(expected_monthly_return_10)/length_10\n",
    "mT = transpose(expected_monthly_return_10)\n",
    "cov = cov_matrix_10\n",
    "\n",
    "using JuMP, Gurobi, Ipopt\n",
    "# m = Model(solver=GurobiSolver(OutputFlag=0))\n",
    "m = Model(solver=IpoptSolver(print_level=0))\n",
    "@variable(m, w[1:num_stock] >= 0)\n",
    "@objective(m, Min, dot(w,cov*w) )\n",
    "@constraint(m, mT*w >= baseline_profit )\n",
    "@constraint(m, sum(w[i] for i in 1:num_stock) == 1)\n",
    "\n",
    "status = solve(m)\n",
    "println(status) \n",
    "xsol = getvalue(w)"
   ]
  },
  {
   "cell_type": "code",
   "execution_count": 111,
   "metadata": {},
   "outputs": [
    {
     "data": {
      "text/plain": [
       "linear_regression (generic function with 1 method)"
      ]
     },
     "execution_count": 111,
     "metadata": {},
     "output_type": "execute_result"
    }
   ],
   "source": [
    "using JuMP, Gurobi, Mosek\n",
    "function linear_regression(r_stock, r_m)\n",
    "    # m = Model(solver=MosekSolver(LOG=0))\n",
    "    m = Model(solver=GurobiSolver(OutputFlag=0,BarHomogeneous=1))\n",
    "    #m = Model(solver=GurobiSolver(OutputFlag=0,NumericFocus=3,BarHomogeneous=1))\n",
    "\n",
    "    @variable(m, u[1:2])\n",
    "    @objective(m, Min, sum( (r_stock - (r_m*u[2]+u[1])).^2 ) )\n",
    "    status = solve(m)\n",
    "    uopt = getvalue(u)\n",
    "    err_term = getobjectivevalue(m)\n",
    "    return uopt[2], err_term\n",
    "end"
   ]
  },
  {
   "cell_type": "code",
   "execution_count": 114,
   "metadata": {},
   "outputs": [
    {
     "name": "stdout",
     "output_type": "stream",
     "text": [
      "Academic license - for non-commercial use only\r\n",
      "Academic license - for non-commercial use only\r\n",
      "Academic license - for non-commercial use only\r\n",
      "Academic license - for non-commercial use only\r\n",
      "Academic license - for non-commercial use only\r\n",
      "Academic license - for non-commercial use only\r\n",
      "Academic license - for non-commercial use only\r\n",
      "Academic license - for non-commercial use only\r\n",
      "Academic license - for non-commercial use only\r\n",
      "Academic license - for non-commercial use only\r\n",
      "Academic license - for non-commercial use only\r\n",
      "Academic license - for non-commercial use only\r\n",
      "Academic license - for non-commercial use only\r\n",
      "Academic license - for non-commercial use only\r\n",
      "Academic license - for non-commercial use only\r\n",
      "Academic license - for non-commercial use only\r\n",
      "Academic license - for non-commercial use only\r\n",
      "Academic license - for non-commercial use only\r\n",
      "Academic license - for non-commercial use only\r\n",
      "Academic license - for non-commercial use only\r\n",
      "Academic license - for non-commercial use only\r\n",
      "Academic license - for non-commercial use only\r\n",
      "Academic license - for non-commercial use only\r\n",
      "Academic license - for non-commercial use only\r\n",
      "Academic license - for non-commercial use only\r\n",
      "Academic license - for non-commercial use only\r\n",
      "Academic license - for non-commercial use only\r\n",
      "Academic license - for non-commercial use only\r\n",
      "Academic license - for non-commercial use only\r\n",
      "Academic license - for non-commercial use only\r\n",
      "Academic license - for non-commercial use only\r\n",
      "Academic license - for non-commercial use only\r\n",
      "Academic license - for non-commercial use only\r\n",
      "Academic license - for non-commercial use only\r\n",
      "Academic license - for non-commercial use only\r\n",
      "Academic license - for non-commercial use only\r\n",
      "Academic license - for non-commercial use only\r\n",
      "Academic license - for non-commercial use only\r\n",
      "Academic license - for non-commercial use only\r\n",
      "Academic license - for non-commercial use only\r\n",
      "Academic license - for non-commercial use only\r\n",
      "Academic license - for non-commercial use only\r\n",
      "Academic license - for non-commercial use only\r\n",
      "Academic license - for non-commercial use only\r\n",
      "Academic license - for non-commercial use only\r\n",
      "Academic license - for non-commercial use only\r\n",
      "Academic license - for non-commercial use only\r\n",
      "Academic license - for non-commercial use only\r\n",
      "Academic license - for non-commercial use only\r\n",
      "Academic license - for non-commercial use only\r\n",
      "Academic license - for non-commercial use only\r\n",
      "Academic license - for non-commercial use only\r\n",
      "Academic license - for non-commercial use only\r\n",
      "Academic license - for non-commercial use only\r\n",
      "Academic license - for non-commercial use only\r\n",
      "Academic license - for non-commercial use only\r\n",
      "Academic license - for non-commercial use only\r\n",
      "Academic license - for non-commercial use only\r\n",
      "Academic license - for non-commercial use only\r\n",
      "Academic license - for non-commercial use only\r\n",
      "Academic license - for non-commercial use only\r\n",
      "Academic license - for non-commercial use only\r\n",
      "Academic license - for non-commercial use only\r\n",
      "Academic license - for non-commercial use only\r\n",
      "Academic license - for non-commercial use only\r\n",
      "Academic license - for non-commercial use only\r\n",
      "Academic license - for non-commercial use only\r\n",
      "Academic license - for non-commercial use only\r\n",
      "Academic license - for non-commercial use only\r\n",
      "Academic license - for non-commercial use only\r\n",
      "Academic license - for non-commercial use only\r\n",
      "Academic license - for non-commercial use only\r\n",
      "Academic license - for non-commercial use only\r\n",
      "Academic license - for non-commercial use only\r\n",
      "Academic license - for non-commercial use only\r\n",
      "Academic license - for non-commercial use only\r\n",
      "Academic license - for non-commercial use only\r\n",
      "Academic license - for non-commercial use only\r\n",
      "Academic license - for non-commercial use only\r\n",
      "Academic license - for non-commercial use only\r\n",
      "Academic license - for non-commercial use only\r\n",
      "Academic license - for non-commercial use only\r\n",
      "Academic license - for non-commercial use only\r\n",
      "Academic license - for non-commercial use only\r\n",
      "Academic license - for non-commercial use only\r\n",
      "Academic license - for non-commercial use only\r\n",
      "Academic license - for non-commercial use only\r\n",
      "Academic license - for non-commercial use only\r\n",
      "Academic license - for non-commercial use only\r\n",
      "Academic license - for non-commercial use only\r\n",
      "Academic license - for non-commercial use only\r\n",
      "Academic license - for non-commercial use only\r\n",
      "Academic license - for non-commercial use only\r\n",
      "Academic license - for non-commercial use only\r\n",
      "Academic license - for non-commercial use only\r\n",
      "Academic license - for non-commercial use only\r\n",
      "Academic license - for non-commercial use only\r\n",
      "Academic license - for non-commercial use only\r\n",
      "Academic license - for non-commercial use only\r\n",
      "Academic license - for non-commercial use only\r\n",
      "Academic license - for non-commercial use only\r\n",
      "Academic license - for non-commercial use only\r\n",
      "Academic license - for non-commercial use only\r\n",
      "Academic license - for non-commercial use only\r\n",
      "Academic license - for non-commercial use only\r\n",
      "Academic license - for non-commercial use only\r\n",
      "Academic license - for non-commercial use only\r\n",
      "Academic license - for non-commercial use only\r\n",
      "Academic license - for non-commercial use only\r\n",
      "Academic license - for non-commercial use only\r\n",
      "Academic license - for non-commercial use only\r\n",
      "Academic license - for non-commercial use only\r\n",
      "Academic license - for non-commercial use only\r\n",
      "Academic license - for non-commercial use only\r\n",
      "Academic license - for non-commercial use only\r\n",
      "Academic license - for non-commercial use only\r\n",
      "Academic license - for non-commercial use only\r\n",
      "Academic license - for non-commercial use only\r\n",
      "Academic license - for non-commercial use only\r\n",
      "Academic license - for non-commercial use only\r\n",
      "Academic license - for non-commercial use only\r\n",
      "Academic license - for non-commercial use only\r\n",
      "Academic license - for non-commercial use only\r\n",
      "Academic license - for non-commercial use only\r\n",
      "Academic license - for non-commercial use only\r\n",
      "Academic license - for non-commercial use only\r\n",
      "Academic license - for non-commercial use only\r\n",
      "Academic license - for non-commercial use only\r\n",
      "Academic license - for non-commercial use only\r\n"
     ]
    }
   ],
   "source": [
    "var_stock = var(index_monthly_return_15, corrected=false)\n",
    "# a_vec = Float64[]\n",
    "b_vec = Float64[]\n",
    "err_vec = Float64[]\n",
    "# var_market_vec = Float64[]\n",
    "for stock in 1:num_stock\n",
    "    monthly_return_stock = total_monthly_return[1:length_15,stock]\n",
    "    mean_15 = mean(monthly_return_stock)\n",
    "    distance_15 = [(i-mean_15)^2 for i in monthly_return_stock]\n",
    "    # remove 5% = 9 extreme values\n",
    "    remove_h = sort(distance_15, rev=true)[1:9]\n",
    "    remove_h_index_all = [findall(x -> x== i, distance_15) for i in remove_h]\n",
    "    remove_h_index = collect(Iterators.flatten(remove_h_index_all))\n",
    "    new_monthly_return_stock = Float64[]\n",
    "    new_index_monthly_return = Float64[]\n",
    "    for i in 1:length_15\n",
    "        if !(i in remove_h_index)\n",
    "            append!(new_monthly_return_stock, monthly_return_stock[i])\n",
    "            append!(new_index_monthly_return, index_monthly_return_15[i])\n",
    "        end\n",
    "    end\n",
    "    (a, err_term) = linear_regression(new_monthly_return_stock, new_index_monthly_return)\n",
    "    # append!(a_vec, a[1])\n",
    "    append!(b_vec, a)\n",
    "    append!(err_vec, err_term)\n",
    "    # var_market = var(new_index_monthly_return, corrected=false)\n",
    "    # append!(var_market_vec, var_market)\n",
    "end\n"
   ]
  },
  {
   "cell_type": "code",
   "execution_count": 113,
   "metadata": {},
   "outputs": [
    {
     "data": {
      "text/plain": [
       "129-element Array{Float64,1}:\n",
       " 1.2505089170792378 \n",
       " 0.5464123923121056 \n",
       " 0.7260930246056752 \n",
       " 0.2686180766159822 \n",
       " 0.3889759530985714 \n",
       " 0.5910004776833906 \n",
       " 2.9638812603485496 \n",
       " 0.49047827360450735\n",
       " 1.0644833381767644 \n",
       " 1.8207230531724208 \n",
       " 0.6116999862893331 \n",
       " 0.34707053758566403\n",
       " 0.7301924958505146 \n",
       " ⋮                  \n",
       " 0.9012754071080634 \n",
       " 0.5174748182712804 \n",
       " 0.5379896526446125 \n",
       " 0.24755341171862746\n",
       " 0.44317490784532343\n",
       " 0.6940972426960571 \n",
       " 0.41432679269328604\n",
       " 0.8046072923908817 \n",
       " 1.1658005893738164 \n",
       " 0.303229179542644  \n",
       " 0.8143419862034382 \n",
       " 0.4824610166356604 "
      ]
     },
     "execution_count": 113,
     "metadata": {},
     "output_type": "execute_result"
    }
   ],
   "source": [
    "err_vec"
   ]
  },
  {
   "cell_type": "code",
   "execution_count": 95,
   "metadata": {},
   "outputs": [
    {
     "name": "stdout",
     "output_type": "stream",
     "text": [
      "Academic license - for non-commercial use only\r\n"
     ]
    },
    {
     "data": {
      "text/plain": [
       "2-element Array{Float64,1}:\n",
       " 0.029775788820806896\n",
       " 1.1164564210588992  "
      ]
     },
     "execution_count": 95,
     "metadata": {},
     "output_type": "execute_result"
    }
   ],
   "source": [
    "monthly_return_stock = total_monthly_return[1:length_15,1]\n",
    "mean_15 = mean(monthly_return_stock)\n",
    "distance_15 = [(i-mean_15)^2 for i in total_monthly_return[1:length_15,1]]\n",
    "# remove 5% = 9 extreme values\n",
    "remove_h = sort(distance_15, rev=true)[1:9]\n",
    "remove_h_index = collect(Iterators.flatten([findall(x -> x== i, distance_15) for i in remove_h]))\n",
    "# new_monthly_return_stock = [ monthly_return_stock[i] if i not in remove_h_index]\n",
    "new_monthly_return_stock = Float64[]\n",
    "new_index_monthly_return = Float64[]\n",
    "for i in 1:length_15\n",
    "    if !(i in remove_h_index)\n",
    "        append!(new_monthly_return_stock, monthly_return_stock[i])\n",
    "        append!(new_index_monthly_return, index_monthly_return_15[i])\n",
    "    end\n",
    "end\n",
    "(a, err_term)= linear_regression(new_monthly_return_stock, new_index_monthly_return)\n"
   ]
  },
  {
   "cell_type": "code",
   "execution_count": 96,
   "metadata": {},
   "outputs": [],
   "source": [
    "# mean_market = mean(index_monthly_return_15)\n",
    "# var_15 = 0\n",
    "# for i in index_monthly_return_15\n",
    "#     var_15 += (i-mean_market)^2\n",
    "# end\n",
    "# var_15/179"
   ]
  },
  {
   "cell_type": "code",
   "execution_count": 47,
   "metadata": {},
   "outputs": [
    {
     "data": {
      "text/plain": [
       "getTestValue (generic function with 2 methods)"
      ]
     },
     "execution_count": 47,
     "metadata": {},
     "output_type": "execute_result"
    }
   ],
   "source": [
    "function getTestValue(weight)\n",
    "    test_monthly_return = Float64[]\n",
    "    #sum = 0\n",
    "    # replace low-percentage stock by risk-free product\n",
    "    for i in 1:num_stock\n",
    "        if abs(weight[i]) < 0.001\n",
    "     #       sum += weight[i]\n",
    "            weight[i] = 0\n",
    "            \n",
    "        end\n",
    "    end\n",
    "        \n",
    "    test_sample = total_monthly_return[182:215, :]\n",
    "    a = test_sample * weight\n",
    "end"
   ]
  },
  {
   "cell_type": "code",
   "execution_count": 87,
   "metadata": {},
   "outputs": [
    {
     "name": "stdout",
     "output_type": "stream",
     "text": [
      "(34,)\n"
     ]
    }
   ],
   "source": [
    "final_result = getTestValue(xsol)\n",
    "final_tracking = Float64[]\n",
    "final_return = 1\n",
    "for i in final_result\n",
    "    final_return *= i+1\n",
    "    push!(final_tracking,final_return)\n",
    "end\n"
   ]
  },
  {
   "cell_type": "markdown",
   "metadata": {},
   "source": [
    "1. explain we satisfy the lower risk\n",
    "2."
   ]
  },
  {
   "cell_type": "code",
   "execution_count": 82,
   "metadata": {},
   "outputs": [],
   "source": [
    "file_path = \"data/^GSPC.csv\"\n",
    "sp500_data = CSV.read(file_path)\n",
    "sp500_monthly_return = get_monthly_return(sp500_data)\n",
    "sp500_compare_data = sp500_monthly_return[182:215]\n",
    ";"
   ]
  },
  {
   "cell_type": "code",
   "execution_count": 96,
   "metadata": {},
   "outputs": [
    {
     "data": {
      "image/png": "[encoded data removed]",
      "text/plain": [
       "Figure(PyObject <Figure size 1200x800 with 1 Axes>)"
      ]
     },
     "metadata": {},
     "output_type": "display_data"
    },
    {
     "data": {
      "image/png": "[encoded data removed]",
      "text/plain": [
       "Figure(PyObject <Figure size 1200x800 with 1 Axes>)"
      ]
     },
     "metadata": {},
     "output_type": "display_data"
    },
    {
     "data": {
      "image/png": "[encoded data removed]",
      "text/plain": [
       "Figure(PyObject <Figure size 1200x800 with 1 Axes>)"
      ]
     },
     "metadata": {},
     "output_type": "display_data"
    }
   ],
   "source": [
    "using PyPlot\n",
    "x = range(1,stop = 129)\n",
    "fig = figure(\"pyplot_barplot\",figsize=(12,8))\n",
    "subplot(311)\n",
    "bar(x,xsol,color=\"#0f87bf\",align=\"center\",alpha=0.4)\n",
    "xlabel(\"stock number\")\n",
    "ylabel(\"weight\")\n",
    "\n",
    "figure(figsize=(12,8))\n",
    "subplot(312)\n",
    "plot([sp500_compare_data final_result],\".-\");\n",
    "legend([\"sp-500\", \"our portfolio\"], loc=\"lower right\");\n",
    "\n",
    "x = range(1,stop = 34)\n",
    "figure(figsize=(12,8))\n",
    "subplot(313)\n",
    "plot(x, final_tracking,\".-\");\n",
    "legend([\"our portfolio tracking\"], loc=\"lower right\");\n",
    ";"
   ]
  },
  {
   "cell_type": "code",
   "execution_count": 88,
   "metadata": {},
   "outputs": [
    {
     "data": {
      "image/png": "[encoded data removed]",
      "text/plain": [
       "Figure(PyObject <Figure size 1200x400 with 1 Axes>)"
      ]
     },
     "metadata": {},
     "output_type": "display_data"
    }
   ],
   "source": [
    "using PyPlot\n",
    "figure(figsize=(12,4))\n",
    "plot([sp500_compare_data final_result],\".-\");\n",
    "legend([\"sp-500\", \"our portfolio\"], loc=\"lower right\");"
   ]
  },
  {
   "cell_type": "code",
   "execution_count": 90,
   "metadata": {},
   "outputs": [
    {
     "name": "stderr",
     "output_type": "stream",
     "text": [
      "┌ Warning: `range(start, stop)` (with neither `length` nor `step` given) is deprecated, use `range(start, stop=stop)` instead.\n",
      "│   caller = top-level scope at In[90]:1\n",
      "└ @ Core In[90]:1\n",
      "┌ Warning: `haskey(o::PyObject, s::Union{Symbol, AbstractString})` is deprecated, use `hasproperty(o, s)` instead.\n",
      "│   caller = #plot#85(::Base.Iterators.Pairs{Union{},Union{},Tuple{},NamedTuple{(),Tuple{}}}, ::Function, ::UnitRange{Int64}, ::Vararg{Any,N} where N) at PyPlot.jl:176\n",
      "└ @ PyPlot /Users/zhengxianjie/.julia/packages/PyPlot/fZuOQ/src/PyPlot.jl:176\n"
     ]
    },
    {
     "data": {
      "image/png": "[encoded data removed]",
      "text/plain": [
       "Figure(PyObject <Figure size 1200x400 with 1 Axes>)"
      ]
     },
     "metadata": {},
     "output_type": "display_data"
    },
    {
     "name": "stderr",
     "output_type": "stream",
     "text": [
      "┌ Warning: `getindex(o::PyObject, s::AbstractString)` is deprecated in favor of dot overloading (`getproperty`) so elements should now be accessed as e.g. `o.\"s\"` instead of `o[\"s\"]`.\n",
      "│   caller = #plot#85(::Base.Iterators.Pairs{Union{},Union{},Tuple{},NamedTuple{(),Tuple{}}}, ::Function, ::UnitRange{Int64}, ::Vararg{Any,N} where N) at PyPlot.jl:179\n",
      "└ @ PyPlot /Users/zhengxianjie/.julia/packages/PyPlot/fZuOQ/src/PyPlot.jl:179\n"
     ]
    }
   ],
   "source": [
    "x = range(1,34)\n",
    "figure(figsize=(12,4))\n",
    "plot(x, final_tracking,\".-\");\n",
    "legend([\"our portfolio tracking\"], loc=\"lower right\");"
   ]
  },
  {
   "cell_type": "code",
   "execution_count": null,
   "metadata": {},
   "outputs": [],
   "source": []
  }
 ],
 "metadata": {
  "kernelspec": {
   "display_name": "Julia 1.1.0",
   "language": "julia",
   "name": "julia-1.1"
  },
  "language_info": {
   "file_extension": ".jl",
   "mimetype": "application/julia",
   "name": "julia",
   "version": "1.1.0"
  }
 },
 "nbformat": 4,
 "nbformat_minor": 2
}
