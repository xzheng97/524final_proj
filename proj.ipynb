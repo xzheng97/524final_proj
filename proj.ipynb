{
 "cells": [
  {
   "cell_type": "code",
   "execution_count": 1,
   "metadata": {},
   "outputs": [
    {
     "data": {
      "text/html": [
       "<table class=\"data-frame\"><thead><tr><th></th><th>Date</th><th>Open</th><th>High</th><th>Low</th><th>Close</th><th>Adj Close</th><th>Volume</th></tr><tr><th></th><th>String⍰</th><th>Float64⍰</th><th>Float64⍰</th><th>Float64⍰</th><th>Float64⍰</th><th>Float64⍰</th><th>Int64⍰</th></tr></thead><tbody><p>216 rows × 7 columns</p><tr><th>1</th><td>1/1/2000</td><td>27.8125</td><td>33.8125</td><td>26.75</td><td>30.5313</td><td>20.2925</td><td>128938600</td></tr><tr><th>2</th><td>2/1/2000</td><td>30.9688</td><td>36.9375</td><td>28.4688</td><td>36.9297</td><td>24.5452</td><td>136040800</td></tr><tr><th>3</th><td>3/1/2000</td><td>37.9063</td><td>42.1875</td><td>34.7188</td><td>38.25</td><td>25.567</td><td>192208000</td></tr><tr><th>4</th><td>4/1/2000</td><td>39.0</td><td>41.375</td><td>33.4063</td><td>38.2813</td><td>25.5879</td><td>117477800</td></tr><tr><th>5</th><td>5/1/2000</td><td>38.1563</td><td>42.125</td><td>34.625</td><td>36.7813</td><td>24.5852</td><td>132615200</td></tr><tr><th>6</th><td>6/1/2000</td><td>36.7813</td><td>39.75</td><td>34.5313</td><td>37.3125</td><td>24.9403</td><td>117963000</td></tr><tr><th>7</th><td>7/1/2000</td><td>37.1875</td><td>38.5938</td><td>34.3125</td><td>36.9609</td><td>24.839</td><td>94400200</td></tr><tr><th>8</th><td>8/1/2000</td><td>37.1875</td><td>44.4375</td><td>37.0625</td><td>42.6641</td><td>28.6716</td><td>126830600</td></tr><tr><th>9</th><td>9/1/2000</td><td>42.5625</td><td>43.8438</td><td>38.0938</td><td>41.1563</td><td>27.6583</td><td>123804600</td></tr><tr><th>10</th><td>10/1/2000</td><td>41.5625</td><td>43.1875</td><td>36.2813</td><td>38.0625</td><td>25.6922</td><td>114738800</td></tr><tr><th>11</th><td>11/1/2000</td><td>38.4688</td><td>40.4375</td><td>30.5938</td><td>31.0</td><td>20.925</td><td>132501600</td></tr><tr><th>12</th><td>12/1/2000</td><td>31.4688</td><td>41.2188</td><td>30.5625</td><td>39.9688</td><td>26.9789</td><td>154685200</td></tr><tr><th>13</th><td>1/1/2001</td><td>40.0938</td><td>41.4063</td><td>35.8125</td><td>38.4</td><td>26.0497</td><td>158063200</td></tr><tr><th>14</th><td>2/1/2001</td><td>37.9</td><td>39.955</td><td>29.855</td><td>31.875</td><td>21.6233</td><td>247335400</td></tr><tr><th>15</th><td>3/1/2001</td><td>31.9</td><td>34.8</td><td>28.65</td><td>28.805</td><td>19.655</td><td>172737600</td></tr><tr><th>16</th><td>4/1/2001</td><td>28.875</td><td>33.75</td><td>26.42</td><td>33.15</td><td>22.6198</td><td>180215400</td></tr><tr><th>17</th><td>5/1/2001</td><td>33.15</td><td>34.625</td><td>30.375</td><td>31.515</td><td>21.5042</td><td>130823600</td></tr><tr><th>18</th><td>6/1/2001</td><td>31.515</td><td>32.93</td><td>25.575</td><td>26.325</td><td>17.9628</td><td>160580000</td></tr><tr><th>19</th><td>7/1/2001</td><td>26.65</td><td>28.45</td><td>23.45</td><td>26.875</td><td>18.4482</td><td>182618000</td></tr><tr><th>20</th><td>8/1/2001</td><td>27.25</td><td>27.8</td><td>24.125</td><td>24.5</td><td>16.8179</td><td>138906000</td></tr><tr><th>21</th><td>9/1/2001</td><td>24.575</td><td>25.75</td><td>20.42</td><td>22.85</td><td>15.8067</td><td>130662200</td></tr><tr><th>22</th><td>10/1/2001</td><td>22.6</td><td>27.075</td><td>21.025</td><td>24.21</td><td>16.7475</td><td>162980800</td></tr><tr><th>23</th><td>11/1/2001</td><td>23.925</td><td>25.12</td><td>21.05</td><td>24.005</td><td>16.6057</td><td>177513000</td></tr><tr><th>24</th><td>12/1/2001</td><td>23.84</td><td>28.375</td><td>23.635</td><td>27.475</td><td>19.0061</td><td>139403200</td></tr><tr><th>25</th><td>1/1/2002</td><td>27.475</td><td>28.23</td><td>24.575</td><td>28.195</td><td>19.646</td><td>125366600</td></tr><tr><th>26</th><td>2/1/2002</td><td>28.19</td><td>29.935</td><td>26.285</td><td>29.105</td><td>20.2801</td><td>123247400</td></tr><tr><th>27</th><td>3/1/2002</td><td>29.325</td><td>31.215</td><td>28.045</td><td>29.41</td><td>20.6311</td><td>136286400</td></tr><tr><th>28</th><td>4/1/2002</td><td>29.9</td><td>29.945</td><td>25.935</td><td>27.375</td><td>19.2035</td><td>146845200</td></tr><tr><th>29</th><td>5/1/2002</td><td>27.19</td><td>29.25</td><td>25.655</td><td>25.82</td><td>18.1127</td><td>128525600</td></tr><tr><th>30</th><td>6/1/2002</td><td>25.925</td><td>25.925</td><td>23.15</td><td>23.25</td><td>16.3099</td><td>127344000</td></tr><tr><th>&vellip;</th><td>&vellip;</td><td>&vellip;</td><td>&vellip;</td><td>&vellip;</td><td>&vellip;</td><td>&vellip;</td><td>&vellip;</td></tr></tbody></table>"
      ],
      "text/latex": [
       "\\begin{tabular}{r|ccccccc}\n",
       "\t& Date & Open & High & Low & Close & Adj Close & Volume\\\\\n",
       "\t\\hline\n",
       "\t& String⍰ & Float64⍰ & Float64⍰ & Float64⍰ & Float64⍰ & Float64⍰ & Int64⍰\\\\\n",
       "\t\\hline\n",
       "\t1 & 1/1/2000 & 27.8125 & 33.8125 & 26.75 & 30.5313 & 20.2925 & 128938600 \\\\\n",
       "\t2 & 2/1/2000 & 30.9688 & 36.9375 & 28.4688 & 36.9297 & 24.5452 & 136040800 \\\\\n",
       "\t3 & 3/1/2000 & 37.9063 & 42.1875 & 34.7188 & 38.25 & 25.567 & 192208000 \\\\\n",
       "\t4 & 4/1/2000 & 39.0 & 41.375 & 33.4063 & 38.2813 & 25.5879 & 117477800 \\\\\n",
       "\t5 & 5/1/2000 & 38.1563 & 42.125 & 34.625 & 36.7813 & 24.5852 & 132615200 \\\\\n",
       "\t6 & 6/1/2000 & 36.7813 & 39.75 & 34.5313 & 37.3125 & 24.9403 & 117963000 \\\\\n",
       "\t7 & 7/1/2000 & 37.1875 & 38.5938 & 34.3125 & 36.9609 & 24.839 & 94400200 \\\\\n",
       "\t8 & 8/1/2000 & 37.1875 & 44.4375 & 37.0625 & 42.6641 & 28.6716 & 126830600 \\\\\n",
       "\t9 & 9/1/2000 & 42.5625 & 43.8438 & 38.0938 & 41.1563 & 27.6583 & 123804600 \\\\\n",
       "\t10 & 10/1/2000 & 41.5625 & 43.1875 & 36.2813 & 38.0625 & 25.6922 & 114738800 \\\\\n",
       "\t11 & 11/1/2000 & 38.4688 & 40.4375 & 30.5938 & 31.0 & 20.925 & 132501600 \\\\\n",
       "\t12 & 12/1/2000 & 31.4688 & 41.2188 & 30.5625 & 39.9688 & 26.9789 & 154685200 \\\\\n",
       "\t13 & 1/1/2001 & 40.0938 & 41.4063 & 35.8125 & 38.4 & 26.0497 & 158063200 \\\\\n",
       "\t14 & 2/1/2001 & 37.9 & 39.955 & 29.855 & 31.875 & 21.6233 & 247335400 \\\\\n",
       "\t15 & 3/1/2001 & 31.9 & 34.8 & 28.65 & 28.805 & 19.655 & 172737600 \\\\\n",
       "\t16 & 4/1/2001 & 28.875 & 33.75 & 26.42 & 33.15 & 22.6198 & 180215400 \\\\\n",
       "\t17 & 5/1/2001 & 33.15 & 34.625 & 30.375 & 31.515 & 21.5042 & 130823600 \\\\\n",
       "\t18 & 6/1/2001 & 31.515 & 32.93 & 25.575 & 26.325 & 17.9628 & 160580000 \\\\\n",
       "\t19 & 7/1/2001 & 26.65 & 28.45 & 23.45 & 26.875 & 18.4482 & 182618000 \\\\\n",
       "\t20 & 8/1/2001 & 27.25 & 27.8 & 24.125 & 24.5 & 16.8179 & 138906000 \\\\\n",
       "\t21 & 9/1/2001 & 24.575 & 25.75 & 20.42 & 22.85 & 15.8067 & 130662200 \\\\\n",
       "\t22 & 10/1/2001 & 22.6 & 27.075 & 21.025 & 24.21 & 16.7475 & 162980800 \\\\\n",
       "\t23 & 11/1/2001 & 23.925 & 25.12 & 21.05 & 24.005 & 16.6057 & 177513000 \\\\\n",
       "\t24 & 12/1/2001 & 23.84 & 28.375 & 23.635 & 27.475 & 19.0061 & 139403200 \\\\\n",
       "\t25 & 1/1/2002 & 27.475 & 28.23 & 24.575 & 28.195 & 19.646 & 125366600 \\\\\n",
       "\t26 & 2/1/2002 & 28.19 & 29.935 & 26.285 & 29.105 & 20.2801 & 123247400 \\\\\n",
       "\t27 & 3/1/2002 & 29.325 & 31.215 & 28.045 & 29.41 & 20.6311 & 136286400 \\\\\n",
       "\t28 & 4/1/2002 & 29.9 & 29.945 & 25.935 & 27.375 & 19.2035 & 146845200 \\\\\n",
       "\t29 & 5/1/2002 & 27.19 & 29.25 & 25.655 & 25.82 & 18.1127 & 128525600 \\\\\n",
       "\t30 & 6/1/2002 & 25.925 & 25.925 & 23.15 & 23.25 & 16.3099 & 127344000 \\\\\n",
       "\t$\\dots$ & $\\dots$ & $\\dots$ & $\\dots$ & $\\dots$ & $\\dots$ & $\\dots$ & $\\dots$ \\\\\n",
       "\\end{tabular}\n"
      ],
      "text/plain": [
       "216×7 DataFrames.DataFrame. Omitted printing of 1 columns\n",
       "│ Row │ Date      │ Open     │ High     │ Low      │ Close    │ Adj Close │\n",
       "│     │ \u001b[90mString⍰\u001b[39m   │ \u001b[90mFloat64⍰\u001b[39m │ \u001b[90mFloat64⍰\u001b[39m │ \u001b[90mFloat64⍰\u001b[39m │ \u001b[90mFloat64⍰\u001b[39m │ \u001b[90mFloat64⍰\u001b[39m  │\n",
       "├─────┼───────────┼──────────┼──────────┼──────────┼──────────┼───────────┤\n",
       "│ 1   │ 1/1/2000  │ 27.8125  │ 33.8125  │ 26.75    │ 30.5313  │ 20.2925   │\n",
       "│ 2   │ 2/1/2000  │ 30.9688  │ 36.9375  │ 28.4688  │ 36.9297  │ 24.5452   │\n",
       "│ 3   │ 3/1/2000  │ 37.9063  │ 42.1875  │ 34.7188  │ 38.25    │ 25.567    │\n",
       "│ 4   │ 4/1/2000  │ 39.0     │ 41.375   │ 33.4063  │ 38.2813  │ 25.5879   │\n",
       "│ 5   │ 5/1/2000  │ 38.1563  │ 42.125   │ 34.625   │ 36.7813  │ 24.5852   │\n",
       "│ 6   │ 6/1/2000  │ 36.7813  │ 39.75    │ 34.5313  │ 37.3125  │ 24.9403   │\n",
       "│ 7   │ 7/1/2000  │ 37.1875  │ 38.5938  │ 34.3125  │ 36.9609  │ 24.839    │\n",
       "│ 8   │ 8/1/2000  │ 37.1875  │ 44.4375  │ 37.0625  │ 42.6641  │ 28.6716   │\n",
       "│ 9   │ 9/1/2000  │ 42.5625  │ 43.8438  │ 38.0938  │ 41.1563  │ 27.6583   │\n",
       "│ 10  │ 10/1/2000 │ 41.5625  │ 43.1875  │ 36.2813  │ 38.0625  │ 25.6922   │\n",
       "⋮\n",
       "│ 206 │ 2/1/2017  │ 84.06    │ 84.44    │ 79.48    │ 80.36    │ 74.6616   │\n",
       "│ 207 │ 3/1/2017  │ 80.91    │ 82.69    │ 76.14    │ 78.1     │ 73.0061   │\n",
       "│ 208 │ 4/1/2017  │ 78.3     │ 80.89    │ 72.1     │ 72.59    │ 67.8555   │\n",
       "│ 209 │ 5/1/2017  │ 72.7     │ 73.2     │ 68.23    │ 69.59    │ 65.0511   │\n",
       "│ 210 │ 6/1/2017  │ 69.67    │ 70.69    │ 65.1     │ 65.84    │ 61.9879   │\n",
       "│ 211 │ 7/1/2017  │ 66.12    │ 69.04    │ 64.15    │ 68.6     │ 64.5865   │\n",
       "│ 212 │ 8/1/2017  │ 68.5     │ 69.37    │ 62.56    │ 63.51    │ 59.7943   │\n",
       "│ 213 │ 9/1/2017  │ 63.2     │ 70.01    │ 62.97    │ 69.76    │ 65.6786   │\n",
       "│ 214 │ 10/1/2017 │ 68.73    │ 69.57    │ 61.4     │ 64.0     │ 60.7337   │\n",
       "│ 215 │ 11/1/2017 │ 64.62    │ 67.68    │ 61.02    │ 62.85    │ 59.6424   │\n",
       "│ 216 │ 12/1/2017 │ 63.23    │ 68.4     │ 61.78    │ 67.39    │ 63.9507   │"
      ]
     },
     "execution_count": 1,
     "metadata": {},
     "output_type": "execute_result"
    }
   ],
   "source": [
    "using CSV, LinearAlgebra\n",
    "slb = CSV.read(\"top30/SLB.csv\") "
   ]
  },
  {
   "cell_type": "code",
   "execution_count": 2,
   "metadata": {},
   "outputs": [
    {
     "data": {
      "text/plain": [
       "216"
      ]
     },
     "execution_count": 2,
     "metadata": {},
     "output_type": "execute_result"
    }
   ],
   "source": [
    "(size(slb))[1]"
   ]
  },
  {
   "cell_type": "code",
   "execution_count": 3,
   "metadata": {},
   "outputs": [
    {
     "data": {
      "text/plain": [
       "30.96875"
      ]
     },
     "execution_count": 3,
     "metadata": {},
     "output_type": "execute_result"
    }
   ],
   "source": [
    "slb[2,2]"
   ]
  },
  {
   "cell_type": "code",
   "execution_count": 4,
   "metadata": {},
   "outputs": [
    {
     "ename": "UndefVarError",
     "evalue": "UndefVarError: slb_return not defined",
     "output_type": "error",
     "traceback": [
      "UndefVarError: slb_return not defined",
      "",
      "Stacktrace:",
      " [1] top-level scope at In[4]:1"
     ]
    }
   ],
   "source": [
    "slb_return"
   ]
  },
  {
   "cell_type": "code",
   "execution_count": 5,
   "metadata": {},
   "outputs": [
    {
     "data": {
      "text/plain": [
       "164-element Array{String,1}:\n",
       " \"AAPL.csv\"\n",
       " \"ABBV.csv\"\n",
       " \"ABC.csv\" \n",
       " \"ADM.csv\" \n",
       " \"ADP.csv\" \n",
       " \"ADS.csv\" \n",
       " \"AEP.csv\" \n",
       " \"AIZ.csv\" \n",
       " \"ALB.csv\" \n",
       " \"ALGN.csv\"\n",
       " \"AMD.csv\" \n",
       " \"AMG.csv\" \n",
       " \"AMT.csv\" \n",
       " ⋮         \n",
       " \"UTX.csv\" \n",
       " \"V.csv\"   \n",
       " \"VFC.csv\" \n",
       " \"VTR.csv\" \n",
       " \"VZ.csv\"  \n",
       " \"WAT.csv\" \n",
       " \"WMB.csv\" \n",
       " \"WMT.csv\" \n",
       " \"WRK.csv\" \n",
       " \"WYNN.csv\"\n",
       " \"XLNX.csv\"\n",
       " \"YUM.csv\" "
      ]
     },
     "execution_count": 5,
     "metadata": {},
     "output_type": "execute_result"
    }
   ],
   "source": [
    "data_files = readdir(\"top30\")"
   ]
  },
  {
   "cell_type": "code",
   "execution_count": 6,
   "metadata": {
    "scrolled": false
   },
   "outputs": [],
   "source": [
    "comp_name = CSV.read(\"data/constituents_csv.csv\")\n",
    "for i in 1:((size(comp_name))[1]-1)\n",
    "    #println(\"https://query1.finance.yahoo.com/v7/finance/download/\",comp_name[i,1],\"?period1=946706400&period2=1514786400&interval=1mo&events=history&crumb=UB6zx5WdF5I\")\n",
    "end    "
   ]
  },
  {
   "cell_type": "code",
   "execution_count": 7,
   "metadata": {},
   "outputs": [],
   "source": [
    "url_csv = []\n",
    "for i in 1:((size(comp_name))[1]-1)\n",
    "    push!(url_csv, \"https://query1.finance.yahoo.com/v7/finance/download/\",comp_name[i,1],\"?period1=946706400&period2=1514786400&interval=1mo&events=history&crumb=UB6zx5WdF5I\")\n",
    "end    "
   ]
  },
  {
   "cell_type": "code",
   "execution_count": 8,
   "metadata": {},
   "outputs": [],
   "source": [
    "# open(\"url.docx\", \"w\") do f\n",
    "#     for url in url_csv\n",
    "#         write(f, url_csv, \"\\n\")\n",
    "#     end\n",
    "# end    "
   ]
  },
  {
   "cell_type": "code",
   "execution_count": 9,
   "metadata": {},
   "outputs": [],
   "source": [
    "# HELPER FUNCTION TO CALCULATE RATIO OF RETURN\n",
    "# ratio of return in a monthly base\n",
    "function get_monthly_return(csv_data)\n",
    "    montly_return = Float64[]\n",
    "    for i in 1:((size(csv_data))[1]-1)\n",
    "        append!(montly_return, (csv_data[i+1,5]-csv_data[i,5])/csv_data[i,5])\n",
    "    end  \n",
    "    return montly_return\n",
    "end;    "
   ]
  },
  {
   "cell_type": "code",
   "execution_count": 10,
   "metadata": {
    "scrolled": true
   },
   "outputs": [
    {
     "name": "stdout",
     "output_type": "stream",
     "text": [
      "top30/ABBV.csv: 60\n",
      "top30/ADS.csv: 199\n",
      "top30/AIZ.csv: 167\n",
      "top30/ALGN.csv: 204\n",
      "top30/AVGO.csv: 101\n",
      "top30/AYI.csv: 193\n",
      "top30/CBOE.csv: 91\n",
      "top30/CME.csv: 181\n",
      "top30/DG.csv: 98\n",
      "top30/DISCA.csv: 150\n",
      "top30/EQIX.csv: 209\n",
      "top30/FTV.csv: 18\n",
      "top30/GOOGL.csv: 161\n",
      "top30/HCA.csv: 82\n",
      "top30/HII.csv: 82\n",
      "top30/HLT.csv: 49\n",
      "top30/KHC.csv: 30\n",
      "top30/KMI.csv: 83\n",
      "top30/LYB.csv: 93\n",
      "top30/MDLZ.csv: 199\n",
      "top30/NAVI.csv: 45\n",
      "top30/NLSN.csv: 84\n",
      "top30/NRG.csv: 169\n",
      "top30/NWSA.csv: 55\n",
      "top30/PM.csv: 118\n",
      "top30/PPG.csv: 2\n",
      "top30/RTN.csv: 276\n",
      "top30/STX.csv: 181\n",
      "top30/SYF.csv: 42\n",
      "top30/TDG.csv: 142\n",
      "top30/TEL.csv: 127\n",
      "top30/UA.csv: 30\n",
      "top30/V.csv: 118\n",
      "top30/WRK.csv: 31\n",
      "top30/WYNN.csv: 183\n"
     ]
    }
   ],
   "source": [
    "# repeatedly run to remove those files(not long enough)\n",
    "data_files = readdir(\"top30\")\n",
    "for i in data_files\n",
    "    file_path = string(\"top30/\", i)\n",
    "    csv_data = CSV.read(file_path) \n",
    "    csv_length = (size(csv_data))[1]\n",
    "    # check all csv has the same length (no new/removed S&P 500)\n",
    "    if csv_length != 216\n",
    "        print(file_path, \": \")\n",
    "        println(csv_length)\n",
    "    end\n",
    "    get_monthly_return(csv_data)\n",
    "end    "
   ]
  },
  {
   "cell_type": "code",
   "execution_count": 11,
   "metadata": {},
   "outputs": [],
   "source": [
    "data_files = readdir(\"top30\")\n",
    "for i in data_files\n",
    "    file_path = string(\"top30/\", i)\n",
    "    csv_data = CSV.read(file_path) \n",
    "    get_monthly_return(csv_data)\n",
    "end    "
   ]
  },
  {
   "cell_type": "code",
   "execution_count": 12,
   "metadata": {},
   "outputs": [],
   "source": [
    "# filter!(x->x≠\"AVGO.csv\", data_files)"
   ]
  },
  {
   "cell_type": "code",
   "execution_count": 13,
   "metadata": {},
   "outputs": [
    {
     "name": "stdout",
     "output_type": "stream",
     "text": [
      "Previous contains 164 data files\n",
      "top30/ABBV.csv: 60\n",
      "top30/ADS.csv: 199\n",
      "top30/AIZ.csv: 167\n",
      "top30/ALGN.csv: 204\n",
      "top30/AVGO.csv: 101\n",
      "top30/AYI.csv: 193\n",
      "top30/CBOE.csv: 91\n",
      "top30/CME.csv: 181\n",
      "top30/DG.csv: 98\n",
      "top30/DISCA.csv: 150\n",
      "top30/EQIX.csv: 209\n",
      "top30/FTV.csv: 18\n",
      "top30/GOOGL.csv: 161\n",
      "top30/HCA.csv: 82\n",
      "top30/HII.csv: 82\n",
      "top30/HLT.csv: 49\n",
      "top30/KHC.csv: 30\n",
      "top30/KMI.csv: 83\n",
      "top30/LYB.csv: 93\n",
      "top30/MDLZ.csv: 199\n",
      "top30/NAVI.csv: 45\n",
      "top30/NLSN.csv: 84\n",
      "top30/NRG.csv: 169\n",
      "top30/NWSA.csv: 55\n",
      "top30/PM.csv: 118\n",
      "top30/PPG.csv: 2\n",
      "top30/RTN.csv: 276\n",
      "top30/STX.csv: 181\n",
      "top30/SYF.csv: 42\n",
      "top30/TDG.csv: 142\n",
      "top30/TEL.csv: 127\n",
      "top30/UA.csv: 30\n",
      "top30/V.csv: 118\n",
      "top30/WRK.csv: 31\n",
      "top30/WYNN.csv: 183\n",
      "Now contains 129 valid data files\n"
     ]
    }
   ],
   "source": [
    "data_files = readdir(\"top30\")\n",
    "println(\"Previous contains \", length(data_files), \" data files\")\n",
    "remove_file_id = Int64[]\n",
    "for i in 1:length(data_files)\n",
    "    file_name = data_files[i]\n",
    "    file_path = string(\"top30/\", file_name)\n",
    "    csv_data = CSV.read(file_path) \n",
    "    csv_length = (size(csv_data))[1]\n",
    "    # check all csv has the same length (no new/removed S&P 500)\n",
    "    if csv_length != 216\n",
    "        print(file_path, \": \")\n",
    "        println(csv_length)\n",
    "        # deleteat!(data_files, i)\n",
    "        push!(remove_file_id, i)\n",
    "    else\n",
    "        # println(get_monthly_return(csv_data))\n",
    "    end\n",
    "end  \n",
    "for i in remove_file_id[end:-1:1]\n",
    "    deleteat!(data_files, i)\n",
    "end\n",
    "println(\"Now contains \", length(data_files), \" valid data files\")"
   ]
  },
  {
   "cell_type": "code",
   "execution_count": 14,
   "metadata": {},
   "outputs": [],
   "source": [
    "# data_files = readdir(\"top30\")\n",
    "total_monthly_return = zeros(215)\n",
    "for i in data_files    \n",
    "    file_path = string(\"top30/\", i)\n",
    "    csv_data = CSV.read(file_path) \n",
    "    total_monthly_return = hcat(total_monthly_return, get_monthly_return(csv_data))\n",
    "end    "
   ]
  },
  {
   "cell_type": "code",
   "execution_count": 15,
   "metadata": {},
   "outputs": [
    {
     "data": {
      "text/plain": [
       "1×129 Array{String,2}:\n",
       " \"AAPL.csv\"  \"ABC.csv\"  \"ADM.csv\"  …  \"WMT.csv\"  \"XLNX.csv\"  \"YUM.csv\""
      ]
     },
     "execution_count": 15,
     "metadata": {},
     "output_type": "execute_result"
    }
   ],
   "source": [
    "permutedims(data_files)"
   ]
  },
  {
   "cell_type": "code",
   "execution_count": 16,
   "metadata": {},
   "outputs": [
    {
     "data": {
      "text/plain": [
       "1×129 Array{String,2}:\n",
       " \"AAPL.csv\"  \"ABC.csv\"  \"ADM.csv\"  …  \"WMT.csv\"  \"XLNX.csv\"  \"YUM.csv\""
      ]
     },
     "execution_count": 16,
     "metadata": {},
     "output_type": "execute_result"
    }
   ],
   "source": [
    "reshape(data_files, 1, :)"
   ]
  },
  {
   "cell_type": "code",
   "execution_count": null,
   "metadata": {},
   "outputs": [],
   "source": [
    "function get_expected_monthly_return(y)\n",
    "    using JuMP, Gurobi\n",
    "    m = Model(solver=GurobiSolver(OutputFlag=0))\n",
    "    @variable(m, x)\n",
    "    @objective(m, Min, sum( (y-x).^2 ) )\n",
    "    \n",
    "    solve(m)\n",
    "    println(\"The mean of y is: \", getvalue(x))\n",
    "    return x\n",
    "end"
   ]
  },
  {
   "cell_type": "code",
   "execution_count": 17,
   "metadata": {},
   "outputs": [
    {
     "data": {
      "text/plain": [
       "215×129 Array{Float64,2}:\n",
       "  0.104819    -0.196552    -0.143617    …   0.743169   -0.0698691 \n",
       "  0.184842     0.0300429    0.0248447       0.0384013   0.166667  \n",
       " -0.0865162    0.333333    -0.0363637      -0.115472    0.0905433 \n",
       " -0.322922     0.2125       0.201258        0.0392491  -0.134686  \n",
       "  0.247024     0.278994    -0.17801         0.0845649  -0.0362474 \n",
       " -0.0298329    0.126449    -0.0445859   …  -0.0908403  -0.141593  \n",
       "  0.199262     0.00536673  -0.0112529       0.184013    0.201674  \n",
       " -0.577436     0.338078    -0.023006       -0.0365682   0.0509393 \n",
       " -0.240292    -0.0757979    0.275362       -0.154015   -0.0204081 \n",
       " -0.15655      0.133813     0.159091       -0.461605    0.2       \n",
       " -0.0984845    0.0253807    0.17647     …   0.182692   -0.0833333 \n",
       "  0.453782    -0.0528713   -0.00466662      0.170732    0.0915152 \n",
       " -0.15607      0.123144     0.00803746     -0.280093    0.0688506 \n",
       "  ⋮                                     ⋱                         \n",
       "  0.0477465    0.116255    -0.0304492      -0.035945    0.0347386 \n",
       "  0.128883     0.0484647    0.0612292       0.0106529  -0.00320462\n",
       "  0.0486897   -0.0328926   -0.0197999   …  -0.015811   -0.0217391 \n",
       " -6.96784e-5  -0.0728813   -0.00629889      0.0901711   0.0289515 \n",
       "  0.063418     0.118464    -0.0911475       0.0570432   0.104791  \n",
       " -0.0572139    0.0300752   -0.00481003     -0.0358267   0.0154185 \n",
       "  0.0327037   -0.00751083   0.019333       -0.0164801   0.0233189 \n",
       "  0.102669    -0.144639    -0.0203888   …   0.0442618   0.017753  \n",
       " -0.0602439    0.0311526    0.0287996       0.0722071  -0.041786  \n",
       "  0.0968077   -0.0700907   -0.0385791       0.0403784   0.0114114 \n",
       "  0.0166234    0.102274    -0.0242231      -0.0567241   0.121155  \n",
       " -0.0152459    0.0825277    0.00501507     -0.0300677  -0.0222835 "
      ]
     },
     "execution_count": 17,
     "metadata": {},
     "output_type": "execute_result"
    }
   ],
   "source": [
    "# m\n",
    "total_monthly_return = total_monthly_return[:, 2:end]"
   ]
  },
  {
   "cell_type": "code",
   "execution_count": 19,
   "metadata": {},
   "outputs": [
    {
     "data": {
      "text/plain": [
       "215×128 Array{Float64,2}:\n",
       " -0.196552    -0.143617    -0.0816864    …   0.743169   -0.0698691 \n",
       "  0.0300429    0.0248447    0.107604         0.0384013   0.166667  \n",
       "  0.333333    -0.0363637    0.115285        -0.115472    0.0905433 \n",
       "  0.2125       0.201258     0.0220674        0.0392491  -0.134686  \n",
       "  0.278994    -0.17801     -0.0261363        0.0845649  -0.0362474 \n",
       "  0.126449    -0.0445859   -0.0746791    …  -0.0908403  -0.141593  \n",
       "  0.00536673  -0.0112529    0.203341         0.184013    0.201674  \n",
       "  0.338078    -0.023006     0.1213          -0.0365682   0.0509393 \n",
       " -0.0757979    0.275362    -0.0233645       -0.154015   -0.0204081 \n",
       "  0.133813     0.159091     0.0105264       -0.461605    0.2       \n",
       "  0.0253807    0.17647     -0.0407198    …   0.182692   -0.0833333 \n",
       " -0.0528713   -0.00466662  -0.0545311        0.170732    0.0915152 \n",
       "  0.123144     0.00803746  -0.0143668       -0.280093    0.0688506 \n",
       "  ⋮                                      ⋱                         \n",
       "  0.116255    -0.0304492   -0.0174158       -0.035945    0.0347386 \n",
       "  0.0484647    0.0612292    0.0161403        0.0106529  -0.00320462\n",
       " -0.0328926   -0.0197999   -0.00224132   …  -0.015811   -0.0217391 \n",
       " -0.0728813   -0.00629889   0.0205098        0.0901711   0.0289515 \n",
       "  0.118464    -0.0911475   -0.020289         0.0570432   0.104791  \n",
       "  0.0300752   -0.00481003   0.000879125     -0.0358267   0.0154185 \n",
       " -0.00751083   0.019333     0.160551        -0.0164801   0.0233189 \n",
       " -0.144639    -0.0203888   -0.104617     …   0.0442618   0.017753  \n",
       "  0.0311526    0.0287996    0.0267681        0.0722071  -0.041786  \n",
       " -0.0700907   -0.0385791    0.0634834        0.0403784   0.0114114 \n",
       "  0.102274    -0.0242231   -0.0154826       -0.0567241   0.121155  \n",
       "  0.0825277    0.00501507   0.0238512       -0.0300677  -0.0222835 "
      ]
     },
     "execution_count": 19,
     "metadata": {},
     "output_type": "execute_result"
    }
   ],
   "source": [
    "total_monthly_return=total_monthly_return[:,2:end]"
   ]
  },
  {
   "cell_type": "code",
   "execution_count": 27,
   "metadata": {},
   "outputs": [
    {
     "data": {
      "text/plain": [
       "128-element Array{Float64,1}:\n",
       " 0.016912595764853138 \n",
       " 0.009564503171370812 \n",
       " 0.007014600703790782 \n",
       " 0.005397906212492487 \n",
       " 0.016519475094170087 \n",
       " 0.015524168594298294 \n",
       " 0.016263200737921635 \n",
       " 0.016155426487548447 \n",
       " 0.023064400886971745 \n",
       " 0.01092046897112602  \n",
       " 0.01049504978008741  \n",
       " 0.019188604844708784 \n",
       " 0.005197276843331301 \n",
       " ⋮                    \n",
       " 0.010202314552856976 \n",
       " 0.009012570445919637 \n",
       " 0.01900224488440054  \n",
       " 0.009288300060753934 \n",
       " 0.013756442432663793 \n",
       " 0.016681222100094976 \n",
       " 0.0019328706496993188\n",
       " 0.012594881969745533 \n",
       " 0.009612927352649934 \n",
       " 0.004164458380570289 \n",
       " 0.008563595437728933 \n",
       " 0.015380230394524868 "
      ]
     },
     "execution_count": 27,
     "metadata": {},
     "output_type": "execute_result"
    }
   ],
   "source": [
    "using Statistics\n",
    "# mean([2,5,7])\n",
    "expected_monthly_return = Float64[]\n",
    "for i in 1:size(total_monthly_return)[2]\n",
    "    push!(expected_monthly_return, mean(total_monthly_return[:,i]))\n",
    "end\n",
    "expected_monthly_return"
   ]
  },
  {
   "cell_type": "code",
   "execution_count": 32,
   "metadata": {},
   "outputs": [
    {
     "data": {
      "text/plain": [
       "128×215 Transpose{Float64,Array{Float64,2}}:\n",
       " -0.196552    0.0300429    0.333333    …   0.102274     0.0825277 \n",
       " -0.143617    0.0248447   -0.0363637      -0.0242231    0.00501507\n",
       " -0.0816864   0.107604     0.115285       -0.0154826    0.0238512 \n",
       " -0.160448    0.06         0.228512        0.0432737   -0.0522993 \n",
       " -0.16609     0.377593     0.00903614     -0.0466321   -0.0478708 \n",
       "  0.0972222   0.493671     0.483051    …  -0.00909918  -0.0560147 \n",
       "  0.135379    0.208267    -0.155263        0.0652547    0.0331203 \n",
       "  0.372822    0.00253807  -0.056962        0.00180967  -0.00875422\n",
       "  0.0667957  -0.0272232   -0.176306        0.0646623   -0.00618656\n",
       " -0.18599     0.531157    -0.160853       -0.0223802   -0.0443589 \n",
       " -0.130802    0.104369     0.0923077   …   0.0226432    0.00637886\n",
       "  0.177716    0.279124     0.246944        0.0412643   -0.030798  \n",
       " -0.104244    0.0061792    0.0747185       0.07488      0.00648438\n",
       "  ⋮                                    ⋱                          \n",
       "  0.0219895  -0.00204918   0.0174538       0.0563139    0.0157961 \n",
       "  0.038961    0.00625     -0.00621118      0.0139211   -0.020595  \n",
       " -0.0353774   0.166259     0.118449        0.00432882   0.0441908 \n",
       " -0.0377804   0.240491    -0.0158259      -0.0156146    0.0821105 \n",
       " -0.0481928  -0.0253165    0.174026    …   0.0475233    0.0142544 \n",
       " -0.0689653  -0.0185187    0.188679        0.0200797   -0.0624903 \n",
       " -0.209889    0.249042    -0.0184049       0.0630875    0.0400865 \n",
       "  0.327411   -0.0286807   -0.00524934      0.0057128   -0.0201856 \n",
       "  0.0985222   0.0508221   -0.146515        0.0192982    0.0495697 \n",
       " -0.109589    0.158974    -0.0199115   …   0.113618     0.015633  \n",
       "  0.743169    0.0384013   -0.115472       -0.0567241   -0.0300677 \n",
       " -0.0698691   0.166667     0.0905433       0.121155    -0.0222835 "
      ]
     },
     "execution_count": 32,
     "metadata": {},
     "output_type": "execute_result"
    }
   ],
   "source": [
    "transpose(total_monthly_return)"
   ]
  },
  {
   "cell_type": "code",
   "execution_count": 45,
   "metadata": {},
   "outputs": [
    {
     "data": {
      "text/plain": [
       "128×128 Array{Float64,2}:\n",
       "  0.0101211     0.00106254   0.00212201   …  -0.00129881   0.0016289 \n",
       "  0.00106254    0.0117994    0.00244376       0.000753899  0.00135661\n",
       "  0.00212201    0.00244376   0.00594098       0.00375372   0.00211177\n",
       "  0.00197624    0.0013698    0.00186659       9.98264e-5   0.00216555\n",
       "  0.00182979    0.0033003    0.0030029        0.00595434   0.00359229\n",
       "  0.000888504   0.00314121   0.00649325   …   0.0185803    0.00602537\n",
       "  0.00289469    0.0017889    0.00383528       0.0106053    0.00451914\n",
       " -0.00126558    0.00028777   0.00148417       0.0122978    0.00131009\n",
       " -0.00155969    0.000248789  0.00320006       0.0125004    0.00478311\n",
       "  0.00167016    0.00181556   0.00161315       0.00134128   0.0011456 \n",
       "  0.00201235    0.00259238   0.00247013   …   0.00365547   0.00232913\n",
       "  0.00160188    0.00081701   0.00395171       0.0104517    0.00510865\n",
       "  0.00158186    0.00159676   0.00265323       0.00335006   0.00357926\n",
       "  ⋮                                       ⋱                          \n",
       "  0.00240424    0.00317728   0.00434807       0.00629582   0.00522381\n",
       "  0.0023338    -0.00070463   0.000877074      0.00319774   0.00156585\n",
       "  0.0033337     0.0016378    0.00162169       0.00125599   0.00245755\n",
       "  0.00150259    0.00217474   0.0026062        0.00459451   0.00330904\n",
       "  0.00140781    0.0022233    0.00262532   …   0.00434986   0.00271478\n",
       "  0.00263461    0.000137459  0.000522466      0.00264229   0.00327476\n",
       "  0.00120448    0.00204283   0.00302508       0.000648975  0.0012988 \n",
       "  0.0032244     0.000200672  0.00278702       0.00818589   0.0020955 \n",
       "  0.000758914   0.0033548    0.00381212       0.0103898    0.00288109\n",
       "  0.000760288   0.00107955   0.00168205   …   0.000480856  0.00170021\n",
       " -0.00129881    0.000753899  0.00375372       0.0231162    0.00280932\n",
       "  0.0016289     0.00135661   0.00211177       0.00280932   0.00871995"
      ]
     },
     "execution_count": 45,
     "metadata": {},
     "output_type": "execute_result"
    }
   ],
   "source": [
    "cov_matrix = transpose(total_monthly_return)*total_monthly_return./126-expected_monthly_return*transpose(expected_monthly_return)"
   ]
  },
  {
   "cell_type": "code",
   "execution_count": 35,
   "metadata": {},
   "outputs": [
    {
     "data": {
      "text/plain": [
       "215×1 Array{Float64,2}:\n",
       " -0.0538346266825579    \n",
       " -0.03790684177374644   \n",
       "  0.008468111399452388  \n",
       "  0.05906076909912983   \n",
       " -0.08544933180086396   \n",
       " -0.06509143338038721   \n",
       "  0.06809842481372719   \n",
       " -0.015086995570200807  \n",
       " -0.06718470840194934   \n",
       "  0.04965501508240355   \n",
       " -0.0714159389820257    \n",
       "  0.016867317402016132  \n",
       " -0.010521381807744675  \n",
       "  ⋮                     \n",
       "  0.07218785306864074   \n",
       " -0.03160645182548581   \n",
       "  0.061093544603485005  \n",
       " -0.023063266003166574  \n",
       "  0.00804778151061554   \n",
       " -0.008423999732853847  \n",
       "  0.00033057219458861687\n",
       "  0.03440720607814084   \n",
       " -0.008796817263422019  \n",
       "  0.017138551538431742  \n",
       "  0.008972132938802085  \n",
       " -0.01031339357409998   "
      ]
     },
     "execution_count": 35,
     "metadata": {},
     "output_type": "execute_result"
    }
   ],
   "source": [
    "# Σ\n",
    "# cov_matrix = cov(transpose(total_monthly_return), expected_monthly_return)"
   ]
  },
  {
   "cell_type": "code",
   "execution_count": 67,
   "metadata": {},
   "outputs": [
    {
     "name": "stdout",
     "output_type": "stream",
     "text": [
      "Academic license - for non-commercial use only\r\n",
      "Optimal\n"
     ]
    },
    {
     "data": {
      "text/plain": [
       "128-element Array{Float64,1}:\n",
       " 2.071096830664838e-8 \n",
       " 0.012047703387721648 \n",
       " 1.108264161276831e-8 \n",
       " 6.02719572067859e-9  \n",
       " 3.823450787764259e-9 \n",
       " 1.4719912970799151e-9\n",
       " 1.4922359575233983e-9\n",
       " 0.01154282903944727  \n",
       " 5.677598247094121e-9 \n",
       " 0.005083127607038396 \n",
       " 1.4337007521660563e-8\n",
       " 2.9578732314115646e-9\n",
       " 1.297621947840293e-8 \n",
       " ⋮                    \n",
       " 3.1260156510331153e-9\n",
       " 2.8396599137586596e-8\n",
       " 2.280518749403952e-8 \n",
       " 1.4444682879753576e-8\n",
       " 1.3690416656420821e-8\n",
       " 5.228467899479759e-9 \n",
       " 1.7209477854174702e-7\n",
       " 8.72772262105596e-9  \n",
       " 1.2063880783670131e-8\n",
       " 0.12307435879067989  \n",
       " 8.290668590658833e-9 \n",
       " 1.2842641322057818e-8"
      ]
     },
     "execution_count": 67,
     "metadata": {},
     "output_type": "execute_result"
    }
   ],
   "source": [
    "baseline_profit = 0.005\n",
    "mT = transpose(expected_monthly_return)\n",
    "\n",
    "using JuMP, Gurobi\n",
    "m = Model(solver=GurobiSolver(OutputFlag=0))\n",
    "@variable(m, w[1:128] >= 0)\n",
    "@objective(m, Min, dot(w,cov_matrix*w) )\n",
    "@constraint(m, mT*w >= baseline_profit )\n",
    "@constraint(m, sum(w[i] for i in 1:128) == 1)\n",
    "\n",
    "status = solve(m)\n",
    "println(status) \n",
    "xsol = getvalue(w)"
   ]
  },
  {
   "cell_type": "code",
   "execution_count": 37,
   "metadata": {},
   "outputs": [],
   "source": [
    "μ = expected_monthly_return\n",
    "Σ = cov_matrix\n",
    "ix = sortperm(μ);   # sort the assets by expected return\n",
    "\n",
    "# using PyPlot\n",
    "# fig = figure(figsize=(12,6))\n",
    "\n",
    "# subplot(211)\n",
    "# xlim(0,225)\n",
    "# plot(sqrt.(diag(Σ))[ix],\"g\")\n",
    "# ylabel(\"Standard deviation (%)\")\n",
    "# title(\"Standard deviation and expected return of all 225 assets\")\n",
    "# tight_layout()\n",
    "\n",
    "# subplot(212)\n",
    "# xlim(0,225)\n",
    "# plot(μ[ix])\n",
    "# plot([0,225],[0,0],\"r--\")\n",
    "# ylabel(\"Expected return (%)\")\n",
    "# tight_layout()"
   ]
  },
  {
   "cell_type": "code",
   "execution_count": 40,
   "metadata": {},
   "outputs": [
    {
     "ename": "ErrorException",
     "evalue": "Incompatible sizes",
     "output_type": "error",
     "traceback": [
      "Incompatible sizes",
      "",
      "Stacktrace:",
      " [1] error(::String) at .\\error.jl:33",
      " [2] _matmul(::Array{Float64,2}, ::Array{Variable,1}) at C:\\Users\\Administrator\\.julia\\packages\\JuMP\\PbnIJ\\src\\operators.jl:698",
      " [3] *(::Array{Float64,2}, ::Array{Variable,1}) at C:\\Users\\Administrator\\.julia\\packages\\JuMP\\PbnIJ\\src\\operators.jl:473",
      " [4] top-level scope at C:\\Users\\Administrator\\.julia\\packages\\JuMP\\PbnIJ\\src\\macros.jl:859",
      " [5] top-level scope at In[40]:10"
     ]
    }
   ],
   "source": [
    "using JuMP, Mosek\n",
    "m = Model(solver = MosekSolver(LOG=0))\n",
    "@variable(m, x[1:128] >= 0)\n",
    "@constraint(m, sum(x) == 1)\n",
    "\n",
    "# figure(figsize=(12,8))\n",
    "\n",
    "# subplot(211)\n",
    "λ = 1\n",
    "\n",
    "@objective(m, Min, -dot(μ,x) + λ*dot(x,Σ*x) )\n",
    "solve(m)\n",
    "xsol = getvalue(x)\n",
    "# ix1 = find(xsol .> 1e-4)\n",
    "# ret = dot(μ,xsol)\n",
    "# std = sqrt(dot(xsol,Σ*xsol))\n",
    "# xlim(0,225)\n",
    "# bar(1:225,xsol[ix])\n",
    "# title(string(\"Optimal asset selection for \\$\\\\lambda=1\\$\",\" ( \\$\\\\mu=\\$\", round(ret,3), \"%, \\$\\\\sigma=\\$\", round(std,2), \"% )\"));\n",
    "# tight_layout()\n",
    "# subplot(212)\n",
    "# λ = 3e-2\n",
    "\n",
    "# @objective(m, Min, -dot(μ,x) + λ*dot(x,Σ*x) )\n",
    "# solve(m)\n",
    "# xsol = getvalue(x)\n",
    "# ix2 = find(xsol .> 1e-4)\n",
    "# ret = dot(μ,xsol)\n",
    "# std = sqrt(dot(xsol,Σ*xsol))\n",
    "# xlim(0,225)\n",
    "# bar(1:225,xsol[ix])\n",
    "# title(string(\"Optimal asset selection for \\$\\\\lambda=3\\\\times10^\\{-2\\}\\$\",\" ( \\$\\\\mu=\\$\", round(ret,3), \"%, \\$\\\\sigma=\\$\", round(std,2), \"% )\"));\n",
    "# tight_layout()\n",
    "\n",
    "# #savefig(\"folio4_optassets.pdf\")"
   ]
  },
  {
   "cell_type": "code",
   "execution_count": null,
   "metadata": {},
   "outputs": [],
   "source": []
  }
 ],
 "metadata": {
  "kernelspec": {
   "display_name": "Julia 1.0.2",
   "language": "julia",
   "name": "julia-1.0"
  },
  "language_info": {
   "file_extension": ".jl",
   "mimetype": "application/julia",
   "name": "julia",
   "version": "1.0.2"
  }
 },
 "nbformat": 4,
 "nbformat_minor": 2
}
