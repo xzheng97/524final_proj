{
 "cells": [
  {
   "cell_type": "code",
   "execution_count": 1,
   "metadata": {},
   "outputs": [
    {
     "data": {
      "text/html": [
       "<table class=\"data-frame\"><thead><tr><th></th><th>Date</th><th>Open</th><th>High</th><th>Low</th><th>Close</th><th>Adj Close</th><th>Volume</th></tr><tr><th></th><th>String⍰</th><th>Float64⍰</th><th>Float64⍰</th><th>Float64⍰</th><th>Float64⍰</th><th>Float64⍰</th><th>Int64⍰</th></tr></thead><tbody><p>292 rows × 7 columns</p><tr><th>1</th><td>1/1/1995</td><td>12.6875</td><td>13.6875</td><td>12.5313</td><td>13.1875</td><td>5.30775</td><td>52820800</td></tr><tr><th>2</th><td>2/1/1995</td><td>13.25</td><td>14.4375</td><td>13.125</td><td>14.2188</td><td>5.72281</td><td>40948000</td></tr><tr><th>3</th><td>3/1/1995</td><td>14.3125</td><td>15.0313</td><td>14.125</td><td>14.9063</td><td>6.13059</td><td>47130000</td></tr><tr><th>4</th><td>4/1/1995</td><td>14.9063</td><td>16.0</td><td>14.5313</td><td>15.7188</td><td>6.60074</td><td>49483200</td></tr><tr><th>5</th><td>5/1/1995</td><td>15.875</td><td>16.5938</td><td>15.6563</td><td>16.25</td><td>6.82382</td><td>60320400</td></tr><tr><th>6</th><td>6/1/1995</td><td>16.25</td><td>16.6563</td><td>15.375</td><td>15.5313</td><td>6.80504</td><td>50752000</td></tr><tr><th>7</th><td>7/1/1995</td><td>15.5313</td><td>16.9688</td><td>15.4375</td><td>16.75</td><td>7.33903</td><td>49843200</td></tr><tr><th>8</th><td>8/1/1995</td><td>16.6875</td><td>16.7188</td><td>15.3125</td><td>16.125</td><td>7.06519</td><td>50907200</td></tr><tr><th>9</th><td>9/1/1995</td><td>16.375</td><td>17.4063</td><td>15.8125</td><td>16.3438</td><td>7.51654</td><td>58487600</td></tr><tr><th>10</th><td>10/1/1995</td><td>16.3438</td><td>17.0625</td><td>14.7188</td><td>15.5625</td><td>7.15724</td><td>56778000</td></tr><tr><th>11</th><td>11/1/1995</td><td>15.625</td><td>16.8125</td><td>15.0938</td><td>15.875</td><td>7.30096</td><td>48694400</td></tr><tr><th>12</th><td>12/1/1995</td><td>15.9688</td><td>17.625</td><td>15.9063</td><td>17.3125</td><td>7.96207</td><td>56745200</td></tr><tr><th>13</th><td>1/1/1996</td><td>17.2188</td><td>17.6875</td><td>16.3438</td><td>17.5313</td><td>8.4224</td><td>60060000</td></tr><tr><th>14</th><td>2/1/1996</td><td>17.4375</td><td>19.0</td><td>17.2813</td><td>18.2188</td><td>8.7527</td><td>66920800</td></tr><tr><th>15</th><td>3/1/1996</td><td>18.25</td><td>20.1563</td><td>18.0625</td><td>19.7813</td><td>9.70008</td><td>67555600</td></tr><tr><th>16</th><td>4/1/1996</td><td>20.1875</td><td>22.8438</td><td>20.1875</td><td>22.0625</td><td>11.031</td><td>85814000</td></tr><tr><th>17</th><td>5/1/1996</td><td>22.0938</td><td>22.5</td><td>20.7188</td><td>20.8438</td><td>10.4216</td><td>80089200</td></tr><tr><th>18</th><td>6/1/1996</td><td>20.7813</td><td>21.5938</td><td>20.0313</td><td>21.0625</td><td>10.9067</td><td>56644000</td></tr><tr><th>19</th><td>7/1/1996</td><td>21.1875</td><td>22.2813</td><td>19.8438</td><td>20.0</td><td>10.3565</td><td>67386800</td></tr><tr><th>20</th><td>8/1/1996</td><td>20.0</td><td>21.9688</td><td>20.0</td><td>21.0938</td><td>10.9229</td><td>43071200</td></tr><tr><th>21</th><td>9/1/1996</td><td>21.4688</td><td>22.0938</td><td>20.5</td><td>21.125</td><td>10.9391</td><td>51007600</td></tr><tr><th>22</th><td>10/1/1996</td><td>21.1563</td><td>25.4063</td><td>21.0625</td><td>24.7813</td><td>13.0603</td><td>82237600</td></tr><tr><th>23</th><td>11/1/1996</td><td>24.6875</td><td>27.0625</td><td>23.8438</td><td>26.0625</td><td>13.7356</td><td>49920000</td></tr><tr><th>24</th><td>12/1/1996</td><td>26.0</td><td>26.6875</td><td>24.0938</td><td>24.9688</td><td>13.1591</td><td>51091200</td></tr><tr><th>25</th><td>1/1/1997</td><td>25.0938</td><td>29.0625</td><td>24.875</td><td>27.7813</td><td>14.867</td><td>99527600</td></tr><tr><th>26</th><td>2/1/1997</td><td>27.8125</td><td>27.9063</td><td>24.8438</td><td>25.1563</td><td>13.4623</td><td>82095600</td></tr><tr><th>27</th><td>3/1/1997</td><td>24.8125</td><td>29.0938</td><td>24.5</td><td>26.8125</td><td>14.5585</td><td>75212400</td></tr><tr><th>28</th><td>4/1/1997</td><td>26.875</td><td>28.375</td><td>25.5625</td><td>27.6875</td><td>15.0336</td><td>94274400</td></tr><tr><th>29</th><td>5/1/1997</td><td>27.9688</td><td>30.3438</td><td>26.75</td><td>29.7813</td><td>16.1704</td><td>78510800</td></tr><tr><th>30</th><td>6/1/1997</td><td>29.9375</td><td>31.625</td><td>28.9063</td><td>31.25</td><td>17.1842</td><td>93693600</td></tr><tr><th>&vellip;</th><td>&vellip;</td><td>&vellip;</td><td>&vellip;</td><td>&vellip;</td><td>&vellip;</td><td>&vellip;</td><td>&vellip;</td></tr></tbody></table>"
      ],
      "text/latex": [
       "\\begin{tabular}{r|ccccccc}\n",
       "\t& Date & Open & High & Low & Close & Adj Close & Volume\\\\\n",
       "\t\\hline\n",
       "\t& String⍰ & Float64⍰ & Float64⍰ & Float64⍰ & Float64⍰ & Float64⍰ & Int64⍰\\\\\n",
       "\t\\hline\n",
       "\t1 & 1/1/1995 & 12.6875 & 13.6875 & 12.5313 & 13.1875 & 5.30775 & 52820800 \\\\\n",
       "\t2 & 2/1/1995 & 13.25 & 14.4375 & 13.125 & 14.2188 & 5.72281 & 40948000 \\\\\n",
       "\t3 & 3/1/1995 & 14.3125 & 15.0313 & 14.125 & 14.9063 & 6.13059 & 47130000 \\\\\n",
       "\t4 & 4/1/1995 & 14.9063 & 16.0 & 14.5313 & 15.7188 & 6.60074 & 49483200 \\\\\n",
       "\t5 & 5/1/1995 & 15.875 & 16.5938 & 15.6563 & 16.25 & 6.82382 & 60320400 \\\\\n",
       "\t6 & 6/1/1995 & 16.25 & 16.6563 & 15.375 & 15.5313 & 6.80504 & 50752000 \\\\\n",
       "\t7 & 7/1/1995 & 15.5313 & 16.9688 & 15.4375 & 16.75 & 7.33903 & 49843200 \\\\\n",
       "\t8 & 8/1/1995 & 16.6875 & 16.7188 & 15.3125 & 16.125 & 7.06519 & 50907200 \\\\\n",
       "\t9 & 9/1/1995 & 16.375 & 17.4063 & 15.8125 & 16.3438 & 7.51654 & 58487600 \\\\\n",
       "\t10 & 10/1/1995 & 16.3438 & 17.0625 & 14.7188 & 15.5625 & 7.15724 & 56778000 \\\\\n",
       "\t11 & 11/1/1995 & 15.625 & 16.8125 & 15.0938 & 15.875 & 7.30096 & 48694400 \\\\\n",
       "\t12 & 12/1/1995 & 15.9688 & 17.625 & 15.9063 & 17.3125 & 7.96207 & 56745200 \\\\\n",
       "\t13 & 1/1/1996 & 17.2188 & 17.6875 & 16.3438 & 17.5313 & 8.4224 & 60060000 \\\\\n",
       "\t14 & 2/1/1996 & 17.4375 & 19.0 & 17.2813 & 18.2188 & 8.7527 & 66920800 \\\\\n",
       "\t15 & 3/1/1996 & 18.25 & 20.1563 & 18.0625 & 19.7813 & 9.70008 & 67555600 \\\\\n",
       "\t16 & 4/1/1996 & 20.1875 & 22.8438 & 20.1875 & 22.0625 & 11.031 & 85814000 \\\\\n",
       "\t17 & 5/1/1996 & 22.0938 & 22.5 & 20.7188 & 20.8438 & 10.4216 & 80089200 \\\\\n",
       "\t18 & 6/1/1996 & 20.7813 & 21.5938 & 20.0313 & 21.0625 & 10.9067 & 56644000 \\\\\n",
       "\t19 & 7/1/1996 & 21.1875 & 22.2813 & 19.8438 & 20.0 & 10.3565 & 67386800 \\\\\n",
       "\t20 & 8/1/1996 & 20.0 & 21.9688 & 20.0 & 21.0938 & 10.9229 & 43071200 \\\\\n",
       "\t21 & 9/1/1996 & 21.4688 & 22.0938 & 20.5 & 21.125 & 10.9391 & 51007600 \\\\\n",
       "\t22 & 10/1/1996 & 21.1563 & 25.4063 & 21.0625 & 24.7813 & 13.0603 & 82237600 \\\\\n",
       "\t23 & 11/1/1996 & 24.6875 & 27.0625 & 23.8438 & 26.0625 & 13.7356 & 49920000 \\\\\n",
       "\t24 & 12/1/1996 & 26.0 & 26.6875 & 24.0938 & 24.9688 & 13.1591 & 51091200 \\\\\n",
       "\t25 & 1/1/1997 & 25.0938 & 29.0625 & 24.875 & 27.7813 & 14.867 & 99527600 \\\\\n",
       "\t26 & 2/1/1997 & 27.8125 & 27.9063 & 24.8438 & 25.1563 & 13.4623 & 82095600 \\\\\n",
       "\t27 & 3/1/1997 & 24.8125 & 29.0938 & 24.5 & 26.8125 & 14.5585 & 75212400 \\\\\n",
       "\t28 & 4/1/1997 & 26.875 & 28.375 & 25.5625 & 27.6875 & 15.0336 & 94274400 \\\\\n",
       "\t29 & 5/1/1997 & 27.9688 & 30.3438 & 26.75 & 29.7813 & 16.1704 & 78510800 \\\\\n",
       "\t30 & 6/1/1997 & 29.9375 & 31.625 & 28.9063 & 31.25 & 17.1842 & 93693600 \\\\\n",
       "\t$\\dots$ & $\\dots$ & $\\dots$ & $\\dots$ & $\\dots$ & $\\dots$ & $\\dots$ & $\\dots$ \\\\\n",
       "\\end{tabular}\n"
      ],
      "text/plain": [
       "292×7 DataFrames.DataFrame. Omitted printing of 1 columns\n",
       "│ Row │ Date      │ Open     │ High     │ Low      │ Close    │ Adj Close │\n",
       "│     │ \u001b[90mString⍰\u001b[39m   │ \u001b[90mFloat64⍰\u001b[39m │ \u001b[90mFloat64⍰\u001b[39m │ \u001b[90mFloat64⍰\u001b[39m │ \u001b[90mFloat64⍰\u001b[39m │ \u001b[90mFloat64⍰\u001b[39m  │\n",
       "├─────┼───────────┼──────────┼──────────┼──────────┼──────────┼───────────┤\n",
       "│ 1   │ 1/1/1995  │ 12.6875  │ 13.6875  │ 12.5313  │ 13.1875  │ 5.30775   │\n",
       "│ 2   │ 2/1/1995  │ 13.25    │ 14.4375  │ 13.125   │ 14.2188  │ 5.72281   │\n",
       "│ 3   │ 3/1/1995  │ 14.3125  │ 15.0313  │ 14.125   │ 14.9063  │ 6.13059   │\n",
       "│ 4   │ 4/1/1995  │ 14.9063  │ 16.0     │ 14.5313  │ 15.7188  │ 6.60074   │\n",
       "│ 5   │ 5/1/1995  │ 15.875   │ 16.5938  │ 15.6563  │ 16.25    │ 6.82382   │\n",
       "│ 6   │ 6/1/1995  │ 16.25    │ 16.6563  │ 15.375   │ 15.5313  │ 6.80504   │\n",
       "│ 7   │ 7/1/1995  │ 15.5313  │ 16.9688  │ 15.4375  │ 16.75    │ 7.33903   │\n",
       "│ 8   │ 8/1/1995  │ 16.6875  │ 16.7188  │ 15.3125  │ 16.125   │ 7.06519   │\n",
       "│ 9   │ 9/1/1995  │ 16.375   │ 17.4063  │ 15.8125  │ 16.3438  │ 7.51654   │\n",
       "│ 10  │ 10/1/1995 │ 16.3438  │ 17.0625  │ 14.7188  │ 15.5625  │ 7.15724   │\n",
       "⋮\n",
       "│ 282 │ 6/1/2018  │ 68.64    │ 70.47    │ 64.51    │ 67.03    │ 64.5577   │\n",
       "│ 283 │ 7/1/2018  │ 66.45    │ 69.61    │ 64.73    │ 67.52    │ 65.5038   │\n",
       "│ 284 │ 8/1/2018  │ 67.0     │ 67.31    │ 61.82    │ 63.16    │ 61.274    │\n",
       "│ 285 │ 9/1/2018  │ 63.06    │ 63.14    │ 59.25    │ 60.92    │ 59.1009   │\n",
       "│ 286 │ 10/1/2018 │ 61.2     │ 63.65    │ 50.8     │ 51.31    │ 50.175    │\n",
       "│ 287 │ 11/1/2018 │ 51.6     │ 52.94    │ 44.68    │ 45.1     │ 44.1024   │\n",
       "│ 288 │ 12/1/2018 │ 46.28    │ 46.61    │ 34.99    │ 36.08    │ 35.2819   │\n",
       "│ 289 │ 1/1/2019  │ 35.49    │ 45.05    │ 35.34    │ 44.21    │ 43.704    │\n",
       "│ 290 │ 2/1/2019  │ 44.4     │ 46.35    │ 42.23    │ 44.06    │ 43.5558   │\n",
       "│ 291 │ 3/1/2019  │ 44.22    │ 45.66    │ 40.88    │ 43.57    │ 43.57     │\n",
       "│ 292 │ 4/1/2019  │ 43.98    │ 48.88    │ 42.46    │ 43.3     │ 43.3      │"
      ]
     },
     "execution_count": 1,
     "metadata": {},
     "output_type": "execute_result"
    }
   ],
   "source": [
    "using CSV, LinearAlgebra\n",
    "slb = CSV.read(\"top30/SLB.csv\") "
   ]
  },
  {
   "cell_type": "code",
   "execution_count": 2,
   "metadata": {},
   "outputs": [
    {
     "data": {
      "text/plain": [
       "292"
      ]
     },
     "execution_count": 2,
     "metadata": {},
     "output_type": "execute_result"
    }
   ],
   "source": [
    "(size(slb))[1]"
   ]
  },
  {
   "cell_type": "code",
   "execution_count": 3,
   "metadata": {},
   "outputs": [
    {
     "data": {
      "text/plain": [
       "13.25"
      ]
     },
     "execution_count": 3,
     "metadata": {},
     "output_type": "execute_result"
    }
   ],
   "source": [
    "slb[2,2]"
   ]
  },
  {
   "cell_type": "code",
   "execution_count": 4,
   "metadata": {},
   "outputs": [
    {
     "ename": "UndefVarError",
     "evalue": "UndefVarError: slb_return not defined",
     "output_type": "error",
     "traceback": [
      "UndefVarError: slb_return not defined",
      "",
      "Stacktrace:",
      " [1] top-level scope at In[4]:1"
     ]
    }
   ],
   "source": [
    "slb_return"
   ]
  },
  {
   "cell_type": "code",
   "execution_count": 5,
   "metadata": {},
   "outputs": [
    {
     "data": {
      "text/plain": [
       "164-element Array{String,1}:\n",
       " \"AAPL.csv\"\n",
       " \"ABBV.csv\"\n",
       " \"ABC.csv\" \n",
       " \"ADM.csv\" \n",
       " \"ADP.csv\" \n",
       " \"ADS.csv\" \n",
       " \"AEP.csv\" \n",
       " \"AIZ.csv\" \n",
       " \"ALB.csv\" \n",
       " \"ALGN.csv\"\n",
       " \"AMD.csv\" \n",
       " \"AMG.csv\" \n",
       " \"AMT.csv\" \n",
       " ⋮         \n",
       " \"UTX.csv\" \n",
       " \"V.csv\"   \n",
       " \"VFC.csv\" \n",
       " \"VTR.csv\" \n",
       " \"VZ.csv\"  \n",
       " \"WAT.csv\" \n",
       " \"WMB.csv\" \n",
       " \"WMT.csv\" \n",
       " \"WRK.csv\" \n",
       " \"WYNN.csv\"\n",
       " \"XLNX.csv\"\n",
       " \"YUM.csv\" "
      ]
     },
     "execution_count": 5,
     "metadata": {},
     "output_type": "execute_result"
    }
   ],
   "source": [
    "data_files = readdir(\"top30\")"
   ]
  },
  {
   "cell_type": "code",
   "execution_count": 6,
   "metadata": {
    "scrolled": false
   },
   "outputs": [],
   "source": [
    "comp_name = CSV.read(\"data/constituents_csv.csv\")\n",
    "for i in 1:((size(comp_name))[1]-1)\n",
    "    #println(\"https://query1.finance.yahoo.com/v7/finance/download/\",comp_name[i,1],\"?period1=946706400&period2=1514786400&interval=1mo&events=history&crumb=UB6zx5WdF5I\")\n",
    "end    "
   ]
  },
  {
   "cell_type": "code",
   "execution_count": 7,
   "metadata": {},
   "outputs": [],
   "source": [
    "url_csv = []\n",
    "for i in 1:((size(comp_name))[1]-1)\n",
    "    push!(url_csv, \"https://query1.finance.yahoo.com/v7/finance/download/\",comp_name[i,1],\"?period1=946706400&period2=1514786400&interval=1mo&events=history&crumb=UB6zx5WdF5I\")\n",
    "end    "
   ]
  },
  {
   "cell_type": "code",
   "execution_count": 8,
   "metadata": {},
   "outputs": [],
   "source": [
    "# open(\"url.docx\", \"w\") do f\n",
    "#     for url in url_csv\n",
    "#         write(f, url_csv, \"\\n\")\n",
    "#     end\n",
    "# end    "
   ]
  },
  {
   "cell_type": "code",
   "execution_count": 9,
   "metadata": {},
   "outputs": [],
   "source": [
    "# HELPER FUNCTION TO CALCULATE RATIO OF RETURN\n",
    "# ratio of return in a monthly base\n",
    "function get_monthly_return(csv_data)\n",
    "    montly_return = Float64[]\n",
    "    for i in 1:((size(csv_data))[1]-1)\n",
    "        append!(montly_return, (csv_data[i+1,5]-csv_data[i,5])/csv_data[i,5])\n",
    "    end  \n",
    "    return montly_return\n",
    "end;    "
   ]
  },
  {
   "cell_type": "code",
   "execution_count": 10,
   "metadata": {
    "scrolled": true
   },
   "outputs": [
    {
     "name": "stdout",
     "output_type": "stream",
     "text": [
      "top30/ABBV.csv: 60\n",
      "top30/ADS.csv: 199\n",
      "top30/AIZ.csv: 167\n",
      "top30/ALGN.csv: 204\n",
      "top30/AVGO.csv: 101\n",
      "top30/AYI.csv: 193\n",
      "top30/CBOE.csv: 91\n",
      "top30/CME.csv: 181\n",
      "top30/DG.csv: 98\n",
      "top30/DISCA.csv: 150\n",
      "top30/DXC.csv: 217\n",
      "top30/EQIX.csv: 209\n",
      "top30/FTV.csv: 18\n",
      "top30/GOOGL.csv: 161\n",
      "top30/HCA.csv: 82\n",
      "top30/HII.csv: 82\n",
      "top30/HLT.csv: 49\n",
      "top30/KHC.csv: 30\n",
      "top30/KMI.csv: 83\n",
      "top30/LYB.csv: 93\n",
      "top30/MDLZ.csv: 199\n",
      "top30/NAVI.csv: 45\n",
      "top30/NLSN.csv: 84\n",
      "top30/NRG.csv: 169\n",
      "top30/NWSA.csv: 55\n",
      "top30/PM.csv: 118\n",
      "top30/PPG.csv: 2\n",
      "top30/RTN.csv: 292\n",
      "top30/SLB.csv: 292\n",
      "top30/STX.csv: 181\n",
      "top30/SYF.csv: 42\n",
      "top30/TDG.csv: 142\n",
      "top30/TEL.csv: 127\n",
      "top30/TXN.csv: 292\n",
      "top30/UA.csv: 30\n",
      "top30/V.csv: 118\n",
      "top30/WRK.csv: 31\n",
      "top30/WYNN.csv: 183\n"
     ]
    }
   ],
   "source": [
    "# repeatedly run to remove those files(not long enough)\n",
    "data_files = readdir(\"top30\")\n",
    "for i in data_files\n",
    "    file_path = string(\"top30/\", i)\n",
    "    csv_data = CSV.read(file_path) \n",
    "    csv_length = (size(csv_data))[1]\n",
    "    # check all csv has the same length (no new/removed S&P 500)\n",
    "    if csv_length != 216\n",
    "        print(file_path, \": \")\n",
    "        println(csv_length)\n",
    "    end\n",
    "    get_monthly_return(csv_data)\n",
    "end    "
   ]
  },
  {
   "cell_type": "code",
   "execution_count": 11,
   "metadata": {},
   "outputs": [],
   "source": [
    "data_files = readdir(\"top30\")\n",
    "for i in data_files\n",
    "    file_path = string(\"top30/\", i)\n",
    "    csv_data = CSV.read(file_path) \n",
    "    get_monthly_return(csv_data)\n",
    "end    "
   ]
  },
  {
   "cell_type": "code",
   "execution_count": 16,
   "metadata": {},
   "outputs": [
    {
     "data": {
      "text/plain": [
       "163-element Array{String,1}:\n",
       " \"AAPL.csv\"\n",
       " \"ABBV.csv\"\n",
       " \"ABC.csv\" \n",
       " \"ADM.csv\" \n",
       " \"ADP.csv\" \n",
       " \"ADS.csv\" \n",
       " \"AEP.csv\" \n",
       " \"AIZ.csv\" \n",
       " \"ALB.csv\" \n",
       " \"ALGN.csv\"\n",
       " \"AMD.csv\" \n",
       " \"AMG.csv\" \n",
       " \"AMT.csv\" \n",
       " ⋮         \n",
       " \"UTX.csv\" \n",
       " \"V.csv\"   \n",
       " \"VFC.csv\" \n",
       " \"VTR.csv\" \n",
       " \"VZ.csv\"  \n",
       " \"WAT.csv\" \n",
       " \"WMB.csv\" \n",
       " \"WMT.csv\" \n",
       " \"WRK.csv\" \n",
       " \"WYNN.csv\"\n",
       " \"XLNX.csv\"\n",
       " \"YUM.csv\" "
      ]
     },
     "execution_count": 16,
     "metadata": {},
     "output_type": "execute_result"
    }
   ],
   "source": [
    "# filter!(x->x≠\"AVGO.csv\", data_files)"
   ]
  },
  {
   "cell_type": "code",
   "execution_count": 35,
   "metadata": {},
   "outputs": [
    {
     "name": "stdout",
     "output_type": "stream",
     "text": [
      "Previous contains 164 data files\n",
      "top30/ABBV.csv: 60\n",
      "top30/ADS.csv: 199\n",
      "top30/AIZ.csv: 167\n",
      "top30/ALGN.csv: 204\n",
      "top30/AVGO.csv: 101\n",
      "top30/AYI.csv: 193\n",
      "top30/CBOE.csv: 91\n",
      "top30/CME.csv: 181\n",
      "top30/DG.csv: 98\n",
      "top30/DISCA.csv: 150\n",
      "top30/EQIX.csv: 209\n",
      "top30/FTV.csv: 18\n",
      "top30/GOOGL.csv: 161\n",
      "top30/HCA.csv: 82\n",
      "top30/HII.csv: 82\n",
      "top30/HLT.csv: 49\n",
      "top30/KHC.csv: 30\n",
      "top30/KMI.csv: 83\n",
      "top30/LYB.csv: 93\n",
      "top30/MDLZ.csv: 199\n",
      "top30/NAVI.csv: 45\n",
      "top30/NLSN.csv: 84\n",
      "top30/NRG.csv: 169\n",
      "top30/NWSA.csv: 55\n",
      "top30/PM.csv: 118\n",
      "top30/PPG.csv: 2\n",
      "top30/RTN.csv: 276\n",
      "top30/STX.csv: 181\n",
      "top30/SYF.csv: 42\n",
      "top30/TDG.csv: 142\n",
      "top30/TEL.csv: 127\n",
      "top30/UA.csv: 30\n",
      "top30/V.csv: 118\n",
      "top30/WRK.csv: 31\n",
      "top30/WYNN.csv: 183\n",
      "Now contains 129 valid data files\n"
     ]
    }
   ],
   "source": [
    "data_files = readdir(\"top30\")\n",
    "println(\"Previous contains \", length(data_files), \" data files\")\n",
    "remove_file_id = Int64[]\n",
    "for i in 1:length(data_files)\n",
    "    file_name = data_files[i]\n",
    "    file_path = string(\"top30/\", file_name)\n",
    "    csv_data = CSV.read(file_path) \n",
    "    csv_length = (size(csv_data))[1]\n",
    "    # check all csv has the same length (no new/removed S&P 500)\n",
    "    if csv_length != 216\n",
    "        print(file_path, \": \")\n",
    "        println(csv_length)\n",
    "        # deleteat!(data_files, i)\n",
    "        push!(remove_file_id, i)\n",
    "    else\n",
    "        # println(get_monthly_return(csv_data))\n",
    "    end\n",
    "end  \n",
    "for i in remove_file_id[end:-1:1]\n",
    "    deleteat!(data_files, i)\n",
    "end\n",
    "println(\"Now contains \", length(data_files), \" valid data files\")"
   ]
  },
  {
   "cell_type": "code",
   "execution_count": 44,
   "metadata": {},
   "outputs": [],
   "source": [
    "# data_files = readdir(\"top30\")\n",
    "total_monthly_return = zeros(215)\n",
    "for i in data_files    \n",
    "    file_path = string(\"top30/\", i)\n",
    "    csv_data = CSV.read(file_path) \n",
    "    total_monthly_return = hcat(total_monthly_return, get_monthly_return(csv_data))\n",
    "end    "
   ]
  },
  {
   "cell_type": "code",
   "execution_count": 55,
   "metadata": {},
   "outputs": [
    {
     "data": {
      "text/plain": [
       "1×129 Array{String,2}:\n",
       " \"AAPL.csv\"  \"ABC.csv\"  \"ADM.csv\"  …  \"WMT.csv\"  \"XLNX.csv\"  \"YUM.csv\""
      ]
     },
     "execution_count": 55,
     "metadata": {},
     "output_type": "execute_result"
    }
   ],
   "source": [
    "permutedims(data_files)"
   ]
  },
  {
   "cell_type": "code",
   "execution_count": 56,
   "metadata": {},
   "outputs": [
    {
     "data": {
      "text/plain": [
       "1×129 Array{String,2}:\n",
       " \"AAPL.csv\"  \"ABC.csv\"  \"ADM.csv\"  …  \"WMT.csv\"  \"XLNX.csv\"  \"YUM.csv\""
      ]
     },
     "execution_count": 56,
     "metadata": {},
     "output_type": "execute_result"
    }
   ],
   "source": [
    "reshape(data_files, 1, :)"
   ]
  },
  {
   "cell_type": "code",
   "execution_count": 57,
   "metadata": {},
   "outputs": [
    {
     "data": {
      "text/plain": [
       "215×129 Array{Float64,2}:\n",
       "  0.104819    -0.196552    -0.143617    …   0.743169   -0.0698691 \n",
       "  0.184842     0.0300429    0.0248447       0.0384013   0.166667  \n",
       " -0.0865162    0.333333    -0.0363637      -0.115472    0.0905433 \n",
       " -0.322922     0.2125       0.201258        0.0392491  -0.134686  \n",
       "  0.247024     0.278994    -0.17801         0.0845649  -0.0362474 \n",
       " -0.0298329    0.126449    -0.0445859   …  -0.0908403  -0.141593  \n",
       "  0.199262     0.00536673  -0.0112529       0.184013    0.201674  \n",
       " -0.577436     0.338078    -0.023006       -0.0365682   0.0509393 \n",
       " -0.240292    -0.0757979    0.275362       -0.154015   -0.0204081 \n",
       " -0.15655      0.133813     0.159091       -0.461605    0.2       \n",
       " -0.0984845    0.0253807    0.17647     …   0.182692   -0.0833333 \n",
       "  0.453782    -0.0528713   -0.00466662      0.170732    0.0915152 \n",
       " -0.15607      0.123144     0.00803746     -0.280093    0.0688506 \n",
       "  ⋮                                     ⋱                         \n",
       "  0.0477465    0.116255    -0.0304492      -0.035945    0.0347386 \n",
       "  0.128883     0.0484647    0.0612292       0.0106529  -0.00320462\n",
       "  0.0486897   -0.0328926   -0.0197999   …  -0.015811   -0.0217391 \n",
       " -6.96784e-5  -0.0728813   -0.00629889      0.0901711   0.0289515 \n",
       "  0.063418     0.118464    -0.0911475       0.0570432   0.104791  \n",
       " -0.0572139    0.0300752   -0.00481003     -0.0358267   0.0154185 \n",
       "  0.0327037   -0.00751083   0.019333       -0.0164801   0.0233189 \n",
       "  0.102669    -0.144639    -0.0203888   …   0.0442618   0.017753  \n",
       " -0.0602439    0.0311526    0.0287996       0.0722071  -0.041786  \n",
       "  0.0968077   -0.0700907   -0.0385791       0.0403784   0.0114114 \n",
       "  0.0166234    0.102274    -0.0242231      -0.0567241   0.121155  \n",
       " -0.0152459    0.0825277    0.00501507     -0.0300677  -0.0222835 "
      ]
     },
     "execution_count": 57,
     "metadata": {},
     "output_type": "execute_result"
    }
   ],
   "source": [
    "# m\n",
    "total_monthly_return = total_monthly_return[:, 2:end]"
   ]
  },
  {
   "cell_type": "code",
   "execution_count": 58,
   "metadata": {},
   "outputs": [
    {
     "ename": "UndefVarError",
     "evalue": "UndefVarError: cov not defined",
     "output_type": "error",
     "traceback": [
      "UndefVarError: cov not defined",
      "",
      "Stacktrace:",
      " [1] top-level scope at In[58]:1"
     ]
    }
   ],
   "source": [
    "cov(total_monthly_return[:,1], false)"
   ]
  },
  {
   "cell_type": "code",
   "execution_count": null,
   "metadata": {},
   "outputs": [],
   "source": []
  }
 ],
 "metadata": {
  "kernelspec": {
   "display_name": "Julia 1.0.2",
   "language": "julia",
   "name": "julia-1.0"
  },
  "language_info": {
   "file_extension": ".jl",
   "mimetype": "application/julia",
   "name": "julia",
   "version": "1.0.2"
  }
 },
 "nbformat": 4,
 "nbformat_minor": 2
}
